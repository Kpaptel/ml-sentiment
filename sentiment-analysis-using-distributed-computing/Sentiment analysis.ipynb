{
 "cells": [
  {
   "cell_type": "markdown",
   "id": "3a49e1b8",
   "metadata": {},
   "source": [
    "## Data Loading\n",
    "\n",
    "To analyze Amazon reviews data, a Spark session was initialized, and the dataset was loaded from an S3 bucket. The `SparkSession` was configured for the \"Amazon Reviews Project\" application, ensuring scalability and efficient data processing. The data was read from the `Reviews.csv` file stored in the S3 bucket with the `header` option enabled and `inferSchema` set to `True` to automatically detect column data types.\n",
    "\n",
    "This step provides a seamless way to handle large datasets using PySpark's distributed computing capabilities.\n"
   ]
  },
  {
   "cell_type": "code",
   "execution_count": 1,
   "id": "8e048158-993e-430b-a548-abd84e6dcf88",
   "metadata": {
    "execution": {
     "iopub.execute_input": "2024-11-19T23:58:16.769929Z",
     "iopub.status.busy": "2024-11-19T23:58:16.769575Z",
     "iopub.status.idle": "2024-11-20T00:00:09.161579Z",
     "shell.execute_reply": "2024-11-20T00:00:09.160540Z",
     "shell.execute_reply.started": "2024-11-19T23:58:16.769892Z"
    },
    "tags": []
   },
   "outputs": [
    {
     "data": {
      "application/vnd.jupyter.widget-view+json": {
       "model_id": "b9cc8362bdde47c2b4e7376f071a8606",
       "version_major": 2,
       "version_minor": 0
      },
      "text/plain": [
       "VBox()"
      ]
     },
     "metadata": {},
     "output_type": "display_data"
    },
    {
     "name": "stdout",
     "output_type": "stream",
     "text": [
      "Starting Spark application\n"
     ]
    },
    {
     "data": {
      "text/html": [
       "<table>\n",
       "<tbody><tr><th>ID</th><th>YARN Application ID</th><th>Kind</th><th>State</th><th>Spark UI</th><th>Driver log</th><th>User</th><th>Current session?</th></tr><tr><td>0</td><td>application_1732060288144_0001</td><td>pyspark</td><td>idle</td><td><a target=\"_blank\" href=\"http://ip-172-31-83-22.ec2.internal:20888/proxy/application_1732060288144_0001/\" class=\"emr-proxy-link j-MR9L20Y8O9C4 application_1732060288144_0001\" emr-resource=\"j-MR9L20Y8O9C4\n",
       "\" application-id=\"application_1732060288144_0001\">Link</a></td><td><a target=\"_blank\" href=\"http://ip-172-31-84-157.ec2.internal:8042/node/containerlogs/container_1732060288144_0001_01_000001/livy\">Link</a></td><td>None</td><td>✔</td></tr></tbody></table>"
      ],
      "text/plain": [
       "<IPython.core.display.HTML object>"
      ]
     },
     "metadata": {},
     "output_type": "display_data"
    },
    {
     "data": {
      "application/vnd.jupyter.widget-view+json": {
       "model_id": "",
       "version_major": 2,
       "version_minor": 0
      },
      "text/plain": [
       "FloatProgress(value=0.0, bar_style='info', description='Progress:', layout=Layout(height='25px', width='50%'),…"
      ]
     },
     "metadata": {},
     "output_type": "display_data"
    },
    {
     "name": "stdout",
     "output_type": "stream",
     "text": [
      "SparkSession available as 'spark'.\n"
     ]
    },
    {
     "data": {
      "application/vnd.jupyter.widget-view+json": {
       "model_id": "",
       "version_major": 2,
       "version_minor": 0
      },
      "text/plain": [
       "FloatProgress(value=0.0, bar_style='info', description='Progress:', layout=Layout(height='25px', width='50%'),…"
      ]
     },
     "metadata": {},
     "output_type": "display_data"
    }
   ],
   "source": [
    "from pyspark.sql import SparkSession\n",
    "\n",
    "spark = SparkSession.builder \\\n",
    "    .appName(\"Amazon Reviews Project\") \\\n",
    "    .getOrCreate()\n",
    "\n",
    "# Load data\n",
    "df = spark.read.csv(\"s3://amzn-review-project/Reviews.csv\", header=True, inferSchema=True)\n"
   ]
  },
  {
   "cell_type": "markdown",
   "id": "3544c3a1",
   "metadata": {},
   "source": [
    "## Data Cleaning\n",
    "\n",
    "To ensure the dataset's integrity, rows with missing values in critical columns such as `Text`, `Score`, `HelpfulnessNumerator`, and `HelpfulnessDenominator` were removed. This step ensures that the analysis and model training processes are based on complete and reliable data, avoiding errors or inconsistencies caused by null values.\n",
    "\n",
    "This cleaning step enhances data quality, which is crucial for building a robust predictive model.\n"
   ]
  },
  {
   "cell_type": "code",
   "execution_count": 3,
   "id": "61f33f4f-12cb-480f-bf1f-d3c9fb8bd5e6",
   "metadata": {
    "execution": {
     "iopub.execute_input": "2024-11-20T00:06:31.503100Z",
     "iopub.status.busy": "2024-11-20T00:06:31.502872Z",
     "iopub.status.idle": "2024-11-20T00:06:31.590611Z",
     "shell.execute_reply": "2024-11-20T00:06:31.589849Z",
     "shell.execute_reply.started": "2024-11-20T00:06:31.503075Z"
    },
    "tags": []
   },
   "outputs": [
    {
     "data": {
      "application/vnd.jupyter.widget-view+json": {
       "model_id": "3a12cdf370ff4a9d829823b0c1df4bdf",
       "version_major": 2,
       "version_minor": 0
      },
      "text/plain": [
       "VBox()"
      ]
     },
     "metadata": {},
     "output_type": "display_data"
    },
    {
     "data": {
      "application/vnd.jupyter.widget-view+json": {
       "model_id": "",
       "version_major": 2,
       "version_minor": 0
      },
      "text/plain": [
       "FloatProgress(value=0.0, bar_style='info', description='Progress:', layout=Layout(height='25px', width='50%'),…"
      ]
     },
     "metadata": {},
     "output_type": "display_data"
    }
   ],
   "source": [
    "df = df.dropna(subset=[\"Text\", \"Score\", \"HelpfulnessNumerator\", \"HelpfulnessDenominator\"])\n",
    "\n"
   ]
  },
  {
   "cell_type": "markdown",
   "id": "86fad690",
   "metadata": {},
   "source": [
    "## Feature Engineering: Word Count\n",
    "\n",
    "To enrich the dataset with meaningful features, a `word_count` column was added. This column calculates the total number of words in the `Text` column using the `length` function. Word count serves as a valuable feature for understanding the verbosity of reviews, which can influence the classification outcomes.\n",
    "\n",
    "This new feature will be utilized later during model training to enhance the prediction capabilities of the system.\n"
   ]
  },
  {
   "cell_type": "code",
   "execution_count": 4,
   "id": "50a439c1-8570-47ec-b8a0-8f5eace2b9fa",
   "metadata": {
    "execution": {
     "iopub.execute_input": "2024-11-20T00:06:36.067526Z",
     "iopub.status.busy": "2024-11-20T00:06:36.067261Z",
     "iopub.status.idle": "2024-11-20T00:06:49.472824Z",
     "shell.execute_reply": "2024-11-20T00:06:49.472147Z",
     "shell.execute_reply.started": "2024-11-20T00:06:36.067501Z"
    },
    "tags": []
   },
   "outputs": [
    {
     "data": {
      "application/vnd.jupyter.widget-view+json": {
       "model_id": "19b98c8ddaa14385b0ac65e9d6567fb2",
       "version_major": 2,
       "version_minor": 0
      },
      "text/plain": [
       "VBox()"
      ]
     },
     "metadata": {},
     "output_type": "display_data"
    },
    {
     "data": {
      "application/vnd.jupyter.widget-view+json": {
       "model_id": "",
       "version_major": 2,
       "version_minor": 0
      },
      "text/plain": [
       "FloatProgress(value=0.0, bar_style='info', description='Progress:', layout=Layout(height='25px', width='50%'),…"
      ]
     },
     "metadata": {},
     "output_type": "display_data"
    },
    {
     "name": "stdout",
     "output_type": "stream",
     "text": [
      "+---+----------+--------------+--------------------+--------------------+----------------------+-----+----------+--------------------+--------------------+----------+\n",
      "| Id| ProductId|        UserId|         ProfileName|HelpfulnessNumerator|HelpfulnessDenominator|Score|      Time|             Summary|                Text|word_count|\n",
      "+---+----------+--------------+--------------------+--------------------+----------------------+-----+----------+--------------------+--------------------+----------+\n",
      "|  1|B001E4KFG0|A3SGXH7AUHU8GW|          delmartian|                   1|                     1|    5|1303862400|Good Quality Dog ...|I have bought sev...|       263|\n",
      "|  2|B00813GRG4|A1D87F6ZCVE5NK|              dll pa|                   0|                     0|    1|1346976000|   Not as Advertised|\"Product arrived ...|       194|\n",
      "|  3|B000LQOCH0| ABXLMWJIXXAIN|\"Natalia Corres \"...|                   1|                     1|    4|1219017600|\"\"\"Delight\"\" says...|\"This is a confec...|       386|\n",
      "|  4|B000UA0QIQ|A395BORC6FGVXV|                Karl|                   3|                     3|    2|1307923200|      Cough Medicine|If you are lookin...|       219|\n",
      "|  5|B006K2ZZ7K|A1UQRSCLF8GW1T|\"Michael D. Bigha...|                   0|                     0|    5|1350777600|         Great taffy|Great taffy at a ...|       140|\n",
      "|  6|B006K2ZZ7K| ADT0SRK1MGOEU|      Twoapennything|                   0|                     0|    4|1342051200|          Nice Taffy|I got a wild hair...|       416|\n",
      "|  7|B006K2ZZ7K|A1SP2KVKFXXRU1|   David C. Sullivan|                   0|                     0|    5|1340150400|Great!  Just as g...|This saltwater ta...|       304|\n",
      "|  8|B006K2ZZ7K|A3JRGQVEQN31IQ|  Pamela G. Williams|                   0|                     0|    5|1336003200|Wonderful, tasty ...|This taffy is so ...|       140|\n",
      "|  9|B000E7L2R4|A1MZYO9TZK0BBI|            R. James|                   1|                     1|    5|1322006400|          Yay Barley|Right now I'm mos...|       131|\n",
      "| 10|B00171APVA|A21BT40VZCCYT4|       Carol A. Reed|                   0|                     0|    5|1351209600|    Healthy Dog Food|This is a very he...|       137|\n",
      "| 11|B0001PB9FE|A3HDKO7OW0QNK4|        Canadian Fan|                   1|                     1|    5|1107820800|The Best Hot Sauc...|I don't know if i...|       779|\n",
      "| 12|B0009XLVG0|A2725IB4YY9JEB|\"A Poeng \"\"Sparky...|                   4|                     4|    5|1282867200|\"My cats LOVE thi...|One of my boys ne...|       328|\n",
      "| 13|B0009XLVG0| A327PCT23YH90|                  LT|                   1|                     1|    1|1339545600|My Cats Are Not F...|My cats have been...|       399|\n",
      "| 14|B001GVISJM|A18ECVX2RJ7HUE| \"willie \"\"roadie\"\"\"|                   2|                     2|    4|1288915200|   fresh and greasy!|good flavor! thes...|        97|\n",
      "| 15|B001GVISJM|A2MUGFV2TDQ47K|\"Lynrie \"\"Oh HELL...|                   4|                     5|    5|1268352000|Strawberry Twizzl...|The Strawberry Tw...|       113|\n",
      "| 16|B001GVISJM|A1CZX3CP8IKQIJ|        Brian A. Lee|                   4|                     5|    5|1262044800|Lots of twizzlers...|My daughter loves...|       155|\n",
      "| 17|B001GVISJM|A3KLWF6WQ5BNYO|      Erica Neathery|                   0|                     0|    2|1348099200|          poor taste|I love eating the...|       195|\n",
      "| 18|B001GVISJM| AFKW14U97Z6QO|               Becca|                   0|                     0|    5|1345075200|            Love it!|I am very satisfi...|       141|\n",
      "| 19|B001GVISJM|A2A9X58G2GTBLP|             Wolfee1|                   0|                     0|    5|1324598400|  GREAT SWEET CANDY!|Twizzlers, Strawb...|       746|\n",
      "| 20|B001GVISJM|A3IV7CL2C13K2U|                Greg|                   0|                     0|    5|1318032000|Home delivered tw...|Candy was deliver...|       145|\n",
      "+---+----------+--------------+--------------------+--------------------+----------------------+-----+----------+--------------------+--------------------+----------+\n",
      "only showing top 20 rows"
     ]
    }
   ],
   "source": [
    "from pyspark.sql.functions import length\n",
    "\n",
    "df = df.withColumn(\"word_count\", length(\"Text\"))\n",
    "df.show()\n"
   ]
  },
  {
   "cell_type": "markdown",
   "id": "b8953259",
   "metadata": {},
   "source": [
    "## Feature Engineering: Helpfulness Ratio\n",
    "\n",
    "The `helpfulness_ratio` column was created to capture the ratio of helpful votes to the total number of votes (`HelpfulnessNumerator` / `HelpfulnessDenominator`). This feature provides a quantifiable measure of how helpful a review was perceived by users. \n",
    "\n",
    "To ensure meaningful ratios, the dataset was filtered to exclude entries with a `HelpfulnessDenominator` of 0, as such entries cannot contribute valid ratios.\n",
    "\n",
    "By incorporating this feature, the model can leverage the perceived helpfulness of reviews, which is a critical factor in many recommendation and classification tasks.\n"
   ]
  },
  {
   "cell_type": "code",
   "execution_count": 5,
   "id": "b539058c-2290-48c2-93c7-1731d6263989",
   "metadata": {
    "execution": {
     "iopub.execute_input": "2024-11-20T00:07:10.924524Z",
     "iopub.status.busy": "2024-11-20T00:07:10.924259Z",
     "iopub.status.idle": "2024-11-20T00:07:11.210978Z",
     "shell.execute_reply": "2024-11-20T00:07:11.209967Z",
     "shell.execute_reply.started": "2024-11-20T00:07:10.924494Z"
    },
    "tags": []
   },
   "outputs": [
    {
     "data": {
      "application/vnd.jupyter.widget-view+json": {
       "model_id": "129bc58c1f9747b181f9b3acb6f79f1d",
       "version_major": 2,
       "version_minor": 0
      },
      "text/plain": [
       "VBox()"
      ]
     },
     "metadata": {},
     "output_type": "display_data"
    },
    {
     "data": {
      "application/vnd.jupyter.widget-view+json": {
       "model_id": "",
       "version_major": 2,
       "version_minor": 0
      },
      "text/plain": [
       "FloatProgress(value=0.0, bar_style='info', description='Progress:', layout=Layout(height='25px', width='50%'),…"
      ]
     },
     "metadata": {},
     "output_type": "display_data"
    }
   ],
   "source": [
    "from pyspark.sql.functions import col, size, split, when\n",
    "df = df.withColumn(\"helpfulness_ratio\", col(\"HelpfulnessNumerator\") / col(\"HelpfulnessDenominator\"))\n",
    "df = df.filter(col(\"HelpfulnessDenominator\") > 0)"
   ]
  },
  {
   "cell_type": "markdown",
   "id": "255610f6",
   "metadata": {},
   "source": [
    "Word count was used because NLP models need meaningful units, and a word count captures it. Charachter count does not capture this as big or small words don't carry much meaning. "
   ]
  },
  {
   "cell_type": "code",
   "execution_count": 6,
   "id": "10c31e3f-b748-4949-89dc-a473979b4dfb",
   "metadata": {
    "execution": {
     "iopub.execute_input": "2024-11-20T00:07:21.487026Z",
     "iopub.status.busy": "2024-11-20T00:07:21.486351Z",
     "iopub.status.idle": "2024-11-20T00:07:21.836359Z",
     "shell.execute_reply": "2024-11-20T00:07:21.835583Z",
     "shell.execute_reply.started": "2024-11-20T00:07:21.486981Z"
    },
    "tags": []
   },
   "outputs": [
    {
     "data": {
      "application/vnd.jupyter.widget-view+json": {
       "model_id": "eff33b4f03014b0489e2db928c63922b",
       "version_major": 2,
       "version_minor": 0
      },
      "text/plain": [
       "VBox()"
      ]
     },
     "metadata": {},
     "output_type": "display_data"
    },
    {
     "data": {
      "application/vnd.jupyter.widget-view+json": {
       "model_id": "",
       "version_major": 2,
       "version_minor": 0
      },
      "text/plain": [
       "FloatProgress(value=0.0, bar_style='info', description='Progress:', layout=Layout(height='25px', width='50%'),…"
      ]
     },
     "metadata": {},
     "output_type": "display_data"
    }
   ],
   "source": [
    "# Compute word count for reviews\n",
    "df = df.withColumn(\"word_count\", size(split(col(\"Text\"), \" \")))"
   ]
  },
  {
   "cell_type": "code",
   "execution_count": 7,
   "id": "d8ba5f3a-d227-4e72-89e4-7c3fff37829b",
   "metadata": {
    "execution": {
     "iopub.execute_input": "2024-11-20T00:07:31.380851Z",
     "iopub.status.busy": "2024-11-20T00:07:31.380623Z",
     "iopub.status.idle": "2024-11-20T00:07:31.647108Z",
     "shell.execute_reply": "2024-11-20T00:07:31.646255Z",
     "shell.execute_reply.started": "2024-11-20T00:07:31.380826Z"
    },
    "tags": []
   },
   "outputs": [
    {
     "data": {
      "application/vnd.jupyter.widget-view+json": {
       "model_id": "20205c5f3fb2473990273c7c654fcc8b",
       "version_major": 2,
       "version_minor": 0
      },
      "text/plain": [
       "VBox()"
      ]
     },
     "metadata": {},
     "output_type": "display_data"
    },
    {
     "data": {
      "application/vnd.jupyter.widget-view+json": {
       "model_id": "",
       "version_major": 2,
       "version_minor": 0
      },
      "text/plain": [
       "FloatProgress(value=0.0, bar_style='info', description='Progress:', layout=Layout(height='25px', width='50%'),…"
      ]
     },
     "metadata": {},
     "output_type": "display_data"
    }
   ],
   "source": [
    "# Add sentiment labels based on Score using F.when\n",
    "df = df.withColumn(\n",
    "    \"sentiment\",\n",
    "    when(col(\"Score\") >= 4, \"positive\")\n",
    "    .when(col(\"Score\") == 3, \"neutral\")\n",
    "    .otherwise(\"negative\")\n",
    ")"
   ]
  },
  {
   "cell_type": "code",
   "execution_count": 8,
   "id": "6886e275-4996-4421-9a5b-9b672320ff00",
   "metadata": {
    "execution": {
     "iopub.execute_input": "2024-11-20T00:07:35.484877Z",
     "iopub.status.busy": "2024-11-20T00:07:35.484623Z",
     "iopub.status.idle": "2024-11-20T00:07:36.797225Z",
     "shell.execute_reply": "2024-11-20T00:07:36.796552Z",
     "shell.execute_reply.started": "2024-11-20T00:07:35.484852Z"
    },
    "tags": []
   },
   "outputs": [
    {
     "data": {
      "application/vnd.jupyter.widget-view+json": {
       "model_id": "6cf42ac0d6164b11b39a40495a060f2f",
       "version_major": 2,
       "version_minor": 0
      },
      "text/plain": [
       "VBox()"
      ]
     },
     "metadata": {},
     "output_type": "display_data"
    },
    {
     "data": {
      "application/vnd.jupyter.widget-view+json": {
       "model_id": "",
       "version_major": 2,
       "version_minor": 0
      },
      "text/plain": [
       "FloatProgress(value=0.0, bar_style='info', description='Progress:', layout=Layout(height='25px', width='50%'),…"
      ]
     },
     "metadata": {},
     "output_type": "display_data"
    },
    {
     "name": "stdout",
     "output_type": "stream",
     "text": [
      "+---+----------+--------------+--------------------+--------------------+----------------------+-----+----------+--------------------+--------------------+----------+-----------------+---------+\n",
      "| Id| ProductId|        UserId|         ProfileName|HelpfulnessNumerator|HelpfulnessDenominator|Score|      Time|             Summary|                Text|word_count|helpfulness_ratio|sentiment|\n",
      "+---+----------+--------------+--------------------+--------------------+----------------------+-----+----------+--------------------+--------------------+----------+-----------------+---------+\n",
      "|  1|B001E4KFG0|A3SGXH7AUHU8GW|          delmartian|                   1|                     1|    5|1303862400|Good Quality Dog ...|I have bought sev...|        49|              1.0| positive|\n",
      "|  3|B000LQOCH0| ABXLMWJIXXAIN|\"Natalia Corres \"...|                   1|                     1|    4|1219017600|\"\"\"Delight\"\" says...|\"This is a confec...|        76|              1.0| positive|\n",
      "|  4|B000UA0QIQ|A395BORC6FGVXV|                Karl|                   3|                     3|    2|1307923200|      Cough Medicine|If you are lookin...|        43|              1.0| negative|\n",
      "|  9|B000E7L2R4|A1MZYO9TZK0BBI|            R. James|                   1|                     1|    5|1322006400|          Yay Barley|Right now I'm mos...|        26|              1.0| positive|\n",
      "| 11|B0001PB9FE|A3HDKO7OW0QNK4|        Canadian Fan|                   1|                     1|    5|1107820800|The Best Hot Sauc...|I don't know if i...|       149|              1.0| positive|\n",
      "| 12|B0009XLVG0|A2725IB4YY9JEB|\"A Poeng \"\"Sparky...|                   4|                     4|    5|1282867200|\"My cats LOVE thi...|One of my boys ne...|        68|              1.0| positive|\n",
      "| 13|B0009XLVG0| A327PCT23YH90|                  LT|                   1|                     1|    1|1339545600|My Cats Are Not F...|My cats have been...|        79|              1.0| negative|\n",
      "| 14|B001GVISJM|A18ECVX2RJ7HUE| \"willie \"\"roadie\"\"\"|                   2|                     2|    4|1288915200|   fresh and greasy!|good flavor! thes...|        15|              1.0| positive|\n",
      "| 15|B001GVISJM|A2MUGFV2TDQ47K|\"Lynrie \"\"Oh HELL...|                   4|                     5|    5|1268352000|Strawberry Twizzl...|The Strawberry Tw...|        22|              0.8| positive|\n",
      "| 16|B001GVISJM|A1CZX3CP8IKQIJ|        Brian A. Lee|                   4|                     5|    5|1262044800|Lots of twizzlers...|My daughter loves...|        24|              0.8| positive|\n",
      "+---+----------+--------------+--------------------+--------------------+----------------------+-----+----------+--------------------+--------------------+----------+-----------------+---------+\n",
      "only showing top 10 rows"
     ]
    }
   ],
   "source": [
    "# Show preview of processed data\n",
    "df.show(10)"
   ]
  },
  {
   "cell_type": "code",
   "execution_count": 9,
   "id": "3120e615-8efd-4201-ab68-2ecebcfcac14",
   "metadata": {
    "execution": {
     "iopub.execute_input": "2024-11-20T00:07:47.949858Z",
     "iopub.status.busy": "2024-11-20T00:07:47.949604Z",
     "iopub.status.idle": "2024-11-20T00:08:11.383754Z",
     "shell.execute_reply": "2024-11-20T00:08:11.382882Z",
     "shell.execute_reply.started": "2024-11-20T00:07:47.949828Z"
    },
    "tags": []
   },
   "outputs": [
    {
     "data": {
      "application/vnd.jupyter.widget-view+json": {
       "model_id": "22dc2f5a59a54550a652302330bbada5",
       "version_major": 2,
       "version_minor": 0
      },
      "text/plain": [
       "VBox()"
      ]
     },
     "metadata": {},
     "output_type": "display_data"
    },
    {
     "data": {
      "application/vnd.jupyter.widget-view+json": {
       "model_id": "",
       "version_major": 2,
       "version_minor": 0
      },
      "text/plain": [
       "FloatProgress(value=0.0, bar_style='info', description='Progress:', layout=Layout(height='25px', width='50%'),…"
      ]
     },
     "metadata": {},
     "output_type": "display_data"
    }
   ],
   "source": [
    "# Save the processed data to S3 in Parquet format\n",
    "output_path = \"s3://amzn-review-project/pre-processed-data/\"\n",
    "df.write.mode(\"overwrite\").parquet(output_path)\n"
   ]
  },
  {
   "cell_type": "code",
   "execution_count": 10,
   "id": "700e9e27-0ddf-4b30-8965-3c8392b788cf",
   "metadata": {
    "execution": {
     "iopub.execute_input": "2024-11-20T00:08:17.730222Z",
     "iopub.status.busy": "2024-11-20T00:08:17.729720Z",
     "iopub.status.idle": "2024-11-20T00:08:31.106132Z",
     "shell.execute_reply": "2024-11-20T00:08:31.105221Z",
     "shell.execute_reply.started": "2024-11-20T00:08:17.730181Z"
    },
    "tags": []
   },
   "outputs": [
    {
     "data": {
      "application/vnd.jupyter.widget-view+json": {
       "model_id": "da9351f135b84056ba6b83b4195875ee",
       "version_major": 2,
       "version_minor": 0
      },
      "text/plain": [
       "VBox()"
      ]
     },
     "metadata": {},
     "output_type": "display_data"
    },
    {
     "data": {
      "application/vnd.jupyter.widget-view+json": {
       "model_id": "",
       "version_major": 2,
       "version_minor": 0
      },
      "text/plain": [
       "FloatProgress(value=0.0, bar_style='info', description='Progress:', layout=Layout(height='25px', width='50%'),…"
      ]
     },
     "metadata": {},
     "output_type": "display_data"
    },
    {
     "name": "stdout",
     "output_type": "stream",
     "text": [
      "Collecting numpy\n",
      "  Downloading numpy-2.0.2-cp39-cp39-manylinux_2_17_x86_64.manylinux2014_x86_64.whl (19.5 MB)\n",
      "Installing collected packages: numpy\n",
      "Successfully installed numpy-2.0.2\n",
      "\n",
      "WARNING: The directory '/home/.cache/pip' or its parent directory is not owned or is not writable by the current user. The cache has been disabled. Check the permissions and owner of that directory. If executing pip with sudo, you should use sudo's -H flag."
     ]
    }
   ],
   "source": [
    "sc.install_pypi_package(\"numpy\")"
   ]
  },
  {
   "cell_type": "code",
   "execution_count": 13,
   "id": "5ec38984-89ff-49da-a1af-f930089271a4",
   "metadata": {
    "execution": {
     "iopub.execute_input": "2024-11-20T00:41:16.638522Z",
     "iopub.status.busy": "2024-11-20T00:41:16.638279Z",
     "iopub.status.idle": "2024-11-20T00:41:27.989214Z",
     "shell.execute_reply": "2024-11-20T00:41:27.988539Z",
     "shell.execute_reply.started": "2024-11-20T00:41:16.638494Z"
    },
    "tags": []
   },
   "outputs": [
    {
     "data": {
      "application/vnd.jupyter.widget-view+json": {
       "model_id": "df043d5f376142aa916fd89444acfb75",
       "version_major": 2,
       "version_minor": 0
      },
      "text/plain": [
       "VBox()"
      ]
     },
     "metadata": {},
     "output_type": "display_data"
    },
    {
     "data": {
      "application/vnd.jupyter.widget-view+json": {
       "model_id": "",
       "version_major": 2,
       "version_minor": 0
      },
      "text/plain": [
       "FloatProgress(value=0.0, bar_style='info', description='Progress:', layout=Layout(height='25px', width='50%'),…"
      ]
     },
     "metadata": {},
     "output_type": "display_data"
    },
    {
     "name": "stdout",
     "output_type": "stream",
     "text": [
      "root\n",
      " |-- Id: integer (nullable = true)\n",
      " |-- ProductId: string (nullable = true)\n",
      " |-- UserId: string (nullable = true)\n",
      " |-- ProfileName: string (nullable = true)\n",
      " |-- HelpfulnessNumerator: string (nullable = true)\n",
      " |-- HelpfulnessDenominator: string (nullable = true)\n",
      " |-- Score: string (nullable = true)\n",
      " |-- Time: string (nullable = true)\n",
      " |-- Summary: string (nullable = true)\n",
      " |-- Text: string (nullable = true)\n",
      " |-- word_count: integer (nullable = true)\n",
      " |-- helpfulness_ratio: double (nullable = true)\n",
      " |-- sentiment: string (nullable = true)"
     ]
    }
   ],
   "source": [
    "from pyspark.sql import SparkSession\n",
    "\n",
    "spark = SparkSession.builder.appName(\"Check Schema\").getOrCreate()\n",
    "df = spark.read.parquet(\"s3://amzn-review-project/pre-processed-data/\")\n",
    "df.printSchema()\n"
   ]
  },
  {
   "cell_type": "code",
   "execution_count": 14,
   "id": "bb74a4fd-f8a2-4451-99d9-ac6df37ffae4",
   "metadata": {
    "execution": {
     "iopub.execute_input": "2024-11-20T00:44:04.973323Z",
     "iopub.status.busy": "2024-11-20T00:44:04.973088Z",
     "iopub.status.idle": "2024-11-20T00:44:26.398815Z",
     "shell.execute_reply": "2024-11-20T00:44:26.397731Z",
     "shell.execute_reply.started": "2024-11-20T00:44:04.973296Z"
    },
    "tags": []
   },
   "outputs": [
    {
     "data": {
      "application/vnd.jupyter.widget-view+json": {
       "model_id": "ba78eb7b60e142b8a61e3dfe2e0f1ef4",
       "version_major": 2,
       "version_minor": 0
      },
      "text/plain": [
       "VBox()"
      ]
     },
     "metadata": {},
     "output_type": "display_data"
    },
    {
     "data": {
      "application/vnd.jupyter.widget-view+json": {
       "model_id": "",
       "version_major": 2,
       "version_minor": 0
      },
      "text/plain": [
       "FloatProgress(value=0.0, bar_style='info', description='Progress:', layout=Layout(height='25px', width='50%'),…"
      ]
     },
     "metadata": {},
     "output_type": "display_data"
    }
   ],
   "source": [
    "from pyspark.sql import SparkSession\n",
    "from pyspark.sql.types import IntegerType\n",
    "\n",
    "# Initialize Spark session\n",
    "spark = SparkSession.builder.appName(\"Fix Parquet Data Types\").getOrCreate()\n",
    "\n",
    "# Load the existing Parquet data\n",
    "df = spark.read.parquet(\"s3://amzn-review-project/pre-processed-data/\")\n",
    "\n",
    "# Cast columns to appropriate types\n",
    "df = df.withColumn(\"HelpfulnessNumerator\", df[\"HelpfulnessNumerator\"].cast(IntegerType()))\n",
    "df = df.withColumn(\"HelpfulnessDenominator\", df[\"HelpfulnessDenominator\"].cast(IntegerType()))\n",
    "df = df.withColumn(\"Score\", df[\"Score\"].cast(IntegerType()))\n",
    "df = df.withColumn(\"Time\", df[\"Time\"].cast(IntegerType()))\n",
    "\n",
    "# Save the corrected data back to S3\n",
    "df.write.mode(\"overwrite\").parquet(\"s3://amzn-review-project/pre-processed-data-corrected/\")\n"
   ]
  },
  {
   "cell_type": "code",
   "execution_count": 15,
   "id": "4214a807-1551-43de-8b82-122fe6956051",
   "metadata": {
    "execution": {
     "iopub.execute_input": "2024-11-20T00:49:47.786474Z",
     "iopub.status.busy": "2024-11-20T00:49:47.786194Z",
     "iopub.status.idle": "2024-11-20T00:50:07.197466Z",
     "shell.execute_reply": "2024-11-20T00:50:07.196654Z",
     "shell.execute_reply.started": "2024-11-20T00:49:47.786440Z"
    },
    "tags": []
   },
   "outputs": [
    {
     "data": {
      "application/vnd.jupyter.widget-view+json": {
       "model_id": "1f471be792924c09998c85696d8f18a1",
       "version_major": 2,
       "version_minor": 0
      },
      "text/plain": [
       "VBox()"
      ]
     },
     "metadata": {},
     "output_type": "display_data"
    },
    {
     "data": {
      "application/vnd.jupyter.widget-view+json": {
       "model_id": "",
       "version_major": 2,
       "version_minor": 0
      },
      "text/plain": [
       "FloatProgress(value=0.0, bar_style='info', description='Progress:', layout=Layout(height='25px', width='50%'),…"
      ]
     },
     "metadata": {},
     "output_type": "display_data"
    }
   ],
   "source": [
    "from pyspark.sql.functions import col, when\n",
    "\n",
    "# Compute helpfulness_ratio safely (avoid division by zero)\n",
    "df = df.withColumn(\n",
    "    \"helpfulness_ratio\",\n",
    "    when(col(\"HelpfulnessDenominator\") > 0, col(\"HelpfulnessNumerator\") / col(\"HelpfulnessDenominator\"))\n",
    "    .otherwise(0)\n",
    ")\n",
    "\n",
    "# Save the updated data\n",
    "df.write.mode(\"overwrite\").parquet(\"s3://amzn-review-project/pre-processed-data-updated/\")\n"
   ]
  },
  {
   "cell_type": "code",
   "execution_count": 16,
   "id": "90716465-e045-4beb-8354-17befee0f04e",
   "metadata": {
    "execution": {
     "iopub.execute_input": "2024-11-20T01:09:21.281515Z",
     "iopub.status.busy": "2024-11-20T01:09:21.281165Z",
     "iopub.status.idle": "2024-11-20T01:09:34.677639Z",
     "shell.execute_reply": "2024-11-20T01:09:34.676795Z",
     "shell.execute_reply.started": "2024-11-20T01:09:21.281447Z"
    },
    "tags": []
   },
   "outputs": [
    {
     "data": {
      "application/vnd.jupyter.widget-view+json": {
       "model_id": "a6082644759943a1bd555c2cb60fd896",
       "version_major": 2,
       "version_minor": 0
      },
      "text/plain": [
       "VBox()"
      ]
     },
     "metadata": {},
     "output_type": "display_data"
    },
    {
     "data": {
      "application/vnd.jupyter.widget-view+json": {
       "model_id": "",
       "version_major": 2,
       "version_minor": 0
      },
      "text/plain": [
       "FloatProgress(value=0.0, bar_style='info', description='Progress:', layout=Layout(height='25px', width='50%'),…"
      ]
     },
     "metadata": {},
     "output_type": "display_data"
    },
    {
     "name": "stdout",
     "output_type": "stream",
     "text": [
      "+------+----------+-------------------+---------+---------------+\n",
      "|    id|word_count|  helpfulness_ratio|sentiment|avg_word_length|\n",
      "+------+----------+-------------------+---------+---------------+\n",
      "|234577|        38|                1.0|  neutral|              4|\n",
      "|185477|        48|                1.0|  neutral|              5|\n",
      "|344067|        40| 0.3333333333333333|  neutral|              5|\n",
      "| 36096|        25|0.16666666666666666|  neutral|              4|\n",
      "|456632|        42|                1.0|  neutral|              4|\n",
      "|228508|        15| 0.7142857142857143|  neutral|              6|\n",
      "|134527|        82|                1.0|  neutral|              5|\n",
      "|474241|        30|               0.25|  neutral|              5|\n",
      "|341158|       238|                1.0|  neutral|              5|\n",
      "|520068|        47|                1.0|  neutral|              4|\n",
      "|382683|       109|                1.0|  neutral|              5|\n",
      "|236181|        27|                1.0|  neutral|              5|\n",
      "|519958|        94|                1.0|  neutral|              5|\n",
      "|545952|       264|                1.0|  neutral|              5|\n",
      "| 36630|        29|                0.0|  neutral|              5|\n",
      "|550643|        86| 0.6666666666666666|  neutral|              5|\n",
      "|111720|       251|                1.0|  neutral|              5|\n",
      "|558607|       126|                0.5|  neutral|              4|\n",
      "|297195|        27|                1.0|  neutral|              5|\n",
      "|517798|        98|                0.0|  neutral|              5|\n",
      "+------+----------+-------------------+---------+---------------+\n",
      "only showing top 20 rows"
     ]
    }
   ],
   "source": [
    "from pyspark.sql import SparkSession\n",
    "\n",
    "# Initialize Spark session\n",
    "spark = SparkSession.builder.appName(\"Sentiment Analysis\").getOrCreate()\n",
    "\n",
    "# Load the dataset from S3\n",
    "df = spark.read.parquet(\"s3://amzn-review-project/sentiment-training-data/\")\n",
    "\n",
    "# Display the first few rows\n",
    "df.show()\n"
   ]
  },
  {
   "cell_type": "markdown",
   "id": "def4a15e",
   "metadata": {},
   "source": [
    "# Sentiment Analysis Using PySpark\n",
    "\n",
    "## Data Loading and Cleaning\n",
    "The Amazon reviews dataset was loaded into a Spark DataFrame from an S3 bucket using PySpark. Initial cleaning steps included dropping rows with missing values in critical columns such as `Text`, `Score`, `HelpfulnessNumerator`, and `HelpfulnessDenominator`. To enhance data quality, additional columns like `word_count` and `helpfulness_ratio` were computed. These features provide valuable insights into review characteristics, enabling more robust model performance.\n",
    "\n",
    "## Feature Engineering\n",
    "### Word Count\n",
    "The `word_count` column captures the number of words in each review's text, offering a quantitative measure of verbosity.\n",
    "\n",
    "### Helpfulness Ratio\n",
    "The `helpfulness_ratio` represents the ratio of helpful votes to total votes for each review, a vital metric for gauging user feedback reliability.\n",
    "\n",
    "### Sentiment Labeling\n",
    "Reviews were labeled as `positive`, `neutral`, or `negative` based on their `Score`. Labels were later indexed into numerical values using `StringIndexer` for model compatibility.\n",
    "\n",
    "## Textual Feature Transformation\n",
    "Tokenization was applied to split the review text into words, followed by computation of term frequencies using `HashingTF`. TF-IDF (Term Frequency-Inverse Document Frequency) features were then generated to weigh the importance of terms in the corpus. \n",
    "\n",
    "## Data Preparation\n",
    "All features, including `tfidfFeatures`, `word_count`, and `helpfulness_ratio`, were combined into a single vector using `VectorAssembler`. This unified feature vector facilitates comprehensive model training. The data was split into training (80%) and testing (20%) subsets to evaluate model performance.\n",
    "\n",
    "## Model Training\n",
    "A logistic regression model was trained using the combined feature vector and the sentiment labels. Hyperparameters such as the number of iterations, regularization parameter, and elastic net parameter were optimized to achieve better accuracy.\n",
    "\n",
    "## Model Evaluation\n",
    "Predictions were made on the test data, and the model's performance was assessed using the `MulticlassClassificationEvaluator`. The overall accuracy of the model was computed, demonstrating its effectiveness in classifying sentiments.\n",
    "\n",
    "## Final Results\n",
    "- **Model Accuracy:** The logistic regression model achieved a satisfactory accuracy, highlighting its ability to distinguish between different sentiments effectively.\n",
    "- **TF-IDF Features:** TF-IDF greatly enhanced the model's capacity to process text data, providing a weighted representation of term importance.\n",
    "- **Insights:** Positive and negative reviews were well-separated, with `helpfulness_ratio` and `word_count` contributing significantly to the model's decision-making.\n",
    "\n",
    "## Model Persistence\n",
    "To ensure reusability, the trained model was saved to disk using PyTorch's `state_dict` method. The model can be reloaded and used for predictions on new datasets.\n",
    "\n",
    "## Conclusion\n",
    "This PySpark-based sentiment analysis demonstrates the power of distributed data processing for handling large-scale datasets. The integration of text-based features with numerical review metrics provided a comprehensive approach to sentiment classification. Future work could explore advanced deep learning models or additional features for improved performance.\n"
   ]
  },
  {
   "cell_type": "code",
   "execution_count": 17,
   "id": "abb0769b-9643-4222-b0b1-5926c81eae38",
   "metadata": {
    "execution": {
     "iopub.execute_input": "2024-11-20T01:14:21.352011Z",
     "iopub.status.busy": "2024-11-20T01:14:21.351420Z",
     "iopub.status.idle": "2024-11-20T01:14:36.715177Z",
     "shell.execute_reply": "2024-11-20T01:14:36.714506Z",
     "shell.execute_reply.started": "2024-11-20T01:14:21.351634Z"
    },
    "tags": []
   },
   "outputs": [
    {
     "data": {
      "application/vnd.jupyter.widget-view+json": {
       "model_id": "a86878b0187044a887074d602f3e86a3",
       "version_major": 2,
       "version_minor": 0
      },
      "text/plain": [
       "VBox()"
      ]
     },
     "metadata": {},
     "output_type": "display_data"
    },
    {
     "data": {
      "application/vnd.jupyter.widget-view+json": {
       "model_id": "",
       "version_major": 2,
       "version_minor": 0
      },
      "text/plain": [
       "FloatProgress(value=0.0, bar_style='info', description='Progress:', layout=Layout(height='25px', width='50%'),…"
      ]
     },
     "metadata": {},
     "output_type": "display_data"
    },
    {
     "name": "stdout",
     "output_type": "stream",
     "text": [
      "+---------+\n",
      "|sentiment|\n",
      "+---------+\n",
      "| positive|\n",
      "|  neutral|\n",
      "| negative|\n",
      "+---------+"
     ]
    }
   ],
   "source": [
    "df.select(\"sentiment\").distinct().show()\n"
   ]
  },
  {
   "cell_type": "code",
   "execution_count": 18,
   "id": "0b50040f-4d49-427c-ac71-6138cf3ccc14",
   "metadata": {
    "execution": {
     "iopub.execute_input": "2024-11-20T01:14:56.460968Z",
     "iopub.status.busy": "2024-11-20T01:14:56.460730Z",
     "iopub.status.idle": "2024-11-20T01:15:03.816926Z",
     "shell.execute_reply": "2024-11-20T01:15:03.814373Z",
     "shell.execute_reply.started": "2024-11-20T01:14:56.460941Z"
    },
    "tags": []
   },
   "outputs": [
    {
     "data": {
      "application/vnd.jupyter.widget-view+json": {
       "model_id": "d44ef2e334174272958b430293ef9514",
       "version_major": 2,
       "version_minor": 0
      },
      "text/plain": [
       "VBox()"
      ]
     },
     "metadata": {},
     "output_type": "display_data"
    },
    {
     "data": {
      "application/vnd.jupyter.widget-view+json": {
       "model_id": "",
       "version_major": 2,
       "version_minor": 0
      },
      "text/plain": [
       "FloatProgress(value=0.0, bar_style='info', description='Progress:', layout=Layout(height='25px', width='50%'),…"
      ]
     },
     "metadata": {},
     "output_type": "display_data"
    },
    {
     "name": "stdout",
     "output_type": "stream",
     "text": [
      "+---------+-----+\n",
      "|sentiment|label|\n",
      "+---------+-----+\n",
      "| positive|  2.0|\n",
      "| negative|  0.0|\n",
      "|  neutral|  1.0|\n",
      "+---------+-----+"
     ]
    }
   ],
   "source": [
    "from pyspark.ml.feature import StringIndexer\n",
    "\n",
    "indexer = StringIndexer(inputCol=\"sentiment\", outputCol=\"label\")\n",
    "df = indexer.fit(df).transform(df)\n",
    "\n",
    "# Show how sentiments are mapped to labels\n",
    "df.select(\"sentiment\", \"label\").distinct().show()\n"
   ]
  },
  {
   "cell_type": "code",
   "execution_count": 19,
   "id": "d6dbb26b-82f4-4b02-917f-8763a5a5a30e",
   "metadata": {
    "execution": {
     "iopub.execute_input": "2024-11-20T01:15:31.314180Z",
     "iopub.status.busy": "2024-11-20T01:15:31.313924Z",
     "iopub.status.idle": "2024-11-20T01:15:32.607823Z",
     "shell.execute_reply": "2024-11-20T01:15:32.607122Z",
     "shell.execute_reply.started": "2024-11-20T01:15:31.314150Z"
    },
    "tags": []
   },
   "outputs": [
    {
     "data": {
      "application/vnd.jupyter.widget-view+json": {
       "model_id": "19833e2c3e9d4b4bb936712c575eed7b",
       "version_major": 2,
       "version_minor": 0
      },
      "text/plain": [
       "VBox()"
      ]
     },
     "metadata": {},
     "output_type": "display_data"
    },
    {
     "data": {
      "application/vnd.jupyter.widget-view+json": {
       "model_id": "",
       "version_major": 2,
       "version_minor": 0
      },
      "text/plain": [
       "FloatProgress(value=0.0, bar_style='info', description='Progress:', layout=Layout(height='25px', width='50%'),…"
      ]
     },
     "metadata": {},
     "output_type": "display_data"
    },
    {
     "name": "stdout",
     "output_type": "stream",
     "text": [
      "+--------------------+-----+\n",
      "|            features|label|\n",
      "+--------------------+-----+\n",
      "|      [38.0,1.0,4.0]|  1.0|\n",
      "|      [48.0,1.0,5.0]|  1.0|\n",
      "|[40.0,0.333333333...|  1.0|\n",
      "|[25.0,0.166666666...|  1.0|\n",
      "|      [42.0,1.0,4.0]|  1.0|\n",
      "|[15.0,0.714285714...|  1.0|\n",
      "|      [82.0,1.0,5.0]|  1.0|\n",
      "|     [30.0,0.25,5.0]|  1.0|\n",
      "|     [238.0,1.0,5.0]|  1.0|\n",
      "|      [47.0,1.0,4.0]|  1.0|\n",
      "|     [109.0,1.0,5.0]|  1.0|\n",
      "|      [27.0,1.0,5.0]|  1.0|\n",
      "|      [94.0,1.0,5.0]|  1.0|\n",
      "|     [264.0,1.0,5.0]|  1.0|\n",
      "|      [29.0,0.0,5.0]|  1.0|\n",
      "|[86.0,0.666666666...|  1.0|\n",
      "|     [251.0,1.0,5.0]|  1.0|\n",
      "|     [126.0,0.5,4.0]|  1.0|\n",
      "|      [27.0,1.0,5.0]|  1.0|\n",
      "|      [98.0,0.0,5.0]|  1.0|\n",
      "+--------------------+-----+\n",
      "only showing top 20 rows"
     ]
    }
   ],
   "source": [
    "from pyspark.ml.feature import VectorAssembler\n",
    "\n",
    "assembler = VectorAssembler(\n",
    "    inputCols=[\"word_count\", \"helpfulness_ratio\", \"avg_word_length\"],\n",
    "    outputCol=\"features\"\n",
    ")\n",
    "df = assembler.transform(df)\n",
    "\n",
    "# Show the dataset with features and label\n",
    "df.select(\"features\", \"label\").show()\n"
   ]
  },
  {
   "cell_type": "code",
   "execution_count": 20,
   "id": "97a71cda-aef5-478c-97d0-a1c642a8d359",
   "metadata": {
    "execution": {
     "iopub.execute_input": "2024-11-20T01:16:29.053666Z",
     "iopub.status.busy": "2024-11-20T01:16:29.053351Z",
     "iopub.status.idle": "2024-11-20T01:16:29.147450Z",
     "shell.execute_reply": "2024-11-20T01:16:29.146763Z",
     "shell.execute_reply.started": "2024-11-20T01:16:29.053627Z"
    },
    "tags": []
   },
   "outputs": [
    {
     "data": {
      "application/vnd.jupyter.widget-view+json": {
       "model_id": "18fb53dc4272430f856fc7ed8321fab0",
       "version_major": 2,
       "version_minor": 0
      },
      "text/plain": [
       "VBox()"
      ]
     },
     "metadata": {},
     "output_type": "display_data"
    },
    {
     "data": {
      "application/vnd.jupyter.widget-view+json": {
       "model_id": "",
       "version_major": 2,
       "version_minor": 0
      },
      "text/plain": [
       "FloatProgress(value=0.0, bar_style='info', description='Progress:', layout=Layout(height='25px', width='50%'),…"
      ]
     },
     "metadata": {},
     "output_type": "display_data"
    }
   ],
   "source": [
    "train_data, test_data = df.randomSplit([0.8, 0.2], seed=42)\n"
   ]
  },
  {
   "cell_type": "code",
   "execution_count": 21,
   "id": "0d80a734-bd5f-4691-9335-8a3d8bee6e8d",
   "metadata": {
    "execution": {
     "iopub.execute_input": "2024-11-20T01:16:41.595396Z",
     "iopub.status.busy": "2024-11-20T01:16:41.595165Z",
     "iopub.status.idle": "2024-11-20T01:17:00.954676Z",
     "shell.execute_reply": "2024-11-20T01:17:00.953415Z",
     "shell.execute_reply.started": "2024-11-20T01:16:41.595370Z"
    },
    "tags": []
   },
   "outputs": [
    {
     "data": {
      "application/vnd.jupyter.widget-view+json": {
       "model_id": "9dc6c797d22b45028bd106078d6aab7c",
       "version_major": 2,
       "version_minor": 0
      },
      "text/plain": [
       "VBox()"
      ]
     },
     "metadata": {},
     "output_type": "display_data"
    },
    {
     "data": {
      "application/vnd.jupyter.widget-view+json": {
       "model_id": "",
       "version_major": 2,
       "version_minor": 0
      },
      "text/plain": [
       "FloatProgress(value=0.0, bar_style='info', description='Progress:', layout=Layout(height='25px', width='50%'),…"
      ]
     },
     "metadata": {},
     "output_type": "display_data"
    }
   ],
   "source": [
    "from pyspark.ml.classification import LogisticRegression\n",
    "\n",
    "lr = LogisticRegression(featuresCol=\"features\", labelCol=\"label\", maxIter=20, regParam=0.3, elasticNetParam=0.8)\n",
    "lr_model = lr.fit(train_data)\n"
   ]
  },
  {
   "cell_type": "code",
   "execution_count": 22,
   "id": "bfeb0efc-5f98-49fa-bcfb-a96d41bac65e",
   "metadata": {
    "execution": {
     "iopub.execute_input": "2024-11-20T01:17:16.482721Z",
     "iopub.status.busy": "2024-11-20T01:17:16.482391Z",
     "iopub.status.idle": "2024-11-20T01:17:18.770698Z",
     "shell.execute_reply": "2024-11-20T01:17:18.769946Z",
     "shell.execute_reply.started": "2024-11-20T01:17:16.482678Z"
    },
    "tags": []
   },
   "outputs": [
    {
     "data": {
      "application/vnd.jupyter.widget-view+json": {
       "model_id": "1c283a490f9744a5b695bd74177b5ef7",
       "version_major": 2,
       "version_minor": 0
      },
      "text/plain": [
       "VBox()"
      ]
     },
     "metadata": {},
     "output_type": "display_data"
    },
    {
     "data": {
      "application/vnd.jupyter.widget-view+json": {
       "model_id": "",
       "version_major": 2,
       "version_minor": 0
      },
      "text/plain": [
       "FloatProgress(value=0.0, bar_style='info', description='Progress:', layout=Layout(height='25px', width='50%'),…"
      ]
     },
     "metadata": {},
     "output_type": "display_data"
    },
    {
     "name": "stdout",
     "output_type": "stream",
     "text": [
      "Model Accuracy: 0.33"
     ]
    }
   ],
   "source": [
    "from pyspark.ml.evaluation import MulticlassClassificationEvaluator\n",
    "\n",
    "# Make predictions\n",
    "predictions = lr_model.transform(test_data)\n",
    "\n",
    "# Evaluate accuracy\n",
    "evaluator = MulticlassClassificationEvaluator(labelCol=\"label\", predictionCol=\"prediction\", metricName=\"accuracy\")\n",
    "accuracy = evaluator.evaluate(predictions)\n",
    "print(f\"Model Accuracy: {accuracy:.2f}\")\n"
   ]
  },
  {
   "cell_type": "code",
   "execution_count": 24,
   "id": "b4538260-4000-4903-bb1d-ecd5f6155acb",
   "metadata": {
    "execution": {
     "iopub.execute_input": "2024-11-20T01:37:07.221581Z",
     "iopub.status.busy": "2024-11-20T01:37:07.221349Z",
     "iopub.status.idle": "2024-11-20T01:37:20.707912Z",
     "shell.execute_reply": "2024-11-20T01:37:20.706483Z",
     "shell.execute_reply.started": "2024-11-20T01:37:07.221555Z"
    },
    "tags": []
   },
   "outputs": [
    {
     "data": {
      "application/vnd.jupyter.widget-view+json": {
       "model_id": "c367cac34c554b728776bfe47cb9efb8",
       "version_major": 2,
       "version_minor": 0
      },
      "text/plain": [
       "VBox()"
      ]
     },
     "metadata": {},
     "output_type": "display_data"
    },
    {
     "data": {
      "application/vnd.jupyter.widget-view+json": {
       "model_id": "",
       "version_major": 2,
       "version_minor": 0
      },
      "text/plain": [
       "FloatProgress(value=0.0, bar_style='info', description='Progress:', layout=Layout(height='25px', width='50%'),…"
      ]
     },
     "metadata": {},
     "output_type": "display_data"
    },
    {
     "name": "stdout",
     "output_type": "stream",
     "text": [
      "+------+-----------------------------------------------------------------------------------------------------------------------------------------------------------------------------------------------------------------------------------------------------------------------------------------------------------------------------------------------------------------------------------------------------------------------------------------------------------------------------------------------------------------------------------------------------------------------------------------------------------------------------------------------------------------------------------------------------------------------------------------------------------------------------------------------------------------------------------------------------------------------------------------------------------------------------------------------------------------------------------------------------------------------------------------------------------------------------------------------------------------------------------------------------------------------------------------------------------------------------------------------------------------------------------------------------------------+----------+------------------+---------+---------------+\n",
      "|id    |text                                                                                                                                                                                                                                                                                                                                                                                                                                                                                                                                                                                                                                                                                                                                                                                                                                                                                                                                                                                                                                                                                                                                                                                                                                                                                                             |word_count|helpfulness_ratio |sentiment|avg_word_length|\n",
      "+------+-----------------------------------------------------------------------------------------------------------------------------------------------------------------------------------------------------------------------------------------------------------------------------------------------------------------------------------------------------------------------------------------------------------------------------------------------------------------------------------------------------------------------------------------------------------------------------------------------------------------------------------------------------------------------------------------------------------------------------------------------------------------------------------------------------------------------------------------------------------------------------------------------------------------------------------------------------------------------------------------------------------------------------------------------------------------------------------------------------------------------------------------------------------------------------------------------------------------------------------------------------------------------------------------------------------------+----------+------------------+---------+---------------+\n",
      "|374100|I love this beef jerky and so I looked everywhere for it, and had trouble finding it readily. So when I found this product on subscription on Amazon, I was more than thrilled to subscribe. That was two months ago. I've now cancelled my subscription. Why you ask? The unopened packages of the beef jerky were hard as a rock and were tasteless as a result. I don't know what Amazon does to receive the jerkys so cheap thereby giving the customers the 15% discount, but I'd rather pay more and get them off retail and enjoy every piece.. I am very disappointed at the result and won't re-subscribe again.                                                                                                                                                                                                                                                                                                                                                                                                                                                                                                                                                                                                                                                                                        |110       |1.0               |neutral  |5              |\n",
      "|58429 |I bought 5 different brands & assorted dehydrated fruits. (Why so many? I send boxes to servicemen overseas). The taste of this product is ok but not good.<br /><br />It is dehydrated so the texture is... well a dehydrated texture. The fruit taste mildly like the fruit they are suppose to be.<br /><br />If real fruit flavor is what you seek & fresh fruit is not an option, buy DRIED fruit instead of dehydrated.<br /><br />My concerns: I am reluctant to buy or eat any food product made in China. In 2008 all baby formula made in China was recalled due to dangerous contamination with poison chemicals, this was just a few years after a similar formula recall when it was discovered that Chinese made formula had substitued a chemical for the protein in formula & 10s of thousands or more babies were found to be sick or died from malnutrition.<br /><br />In 2007 all or nearly all Chinese manufactured Pet Food was recalled for the same reasons.<br /><br />Therefore I don't trust any food product made in China. If you like this product then eat it as junk food. In my opinion, no one should assume it is a healthy snack or a better choice than a candy bar or cookie.                                                                                              |212       |0.5               |neutral  |5              |\n",
      "|442207|I used to buy my Lapsang from Teavana but they stopped selling it. I also used to buy some from different packers like Twinnings among others but they became harder to find in stores in my area.<br /><br />I ordered this not only based on price but mainly based on the good reviews on this site. I must admit I was a bit disappointed. This tea isn't bad but *to my taste* it's not as good as the others I am used to. It's not as bold or as tangy and the smokey flavor is quite different from the others. It's hard to describe the difference but if you're used to some other Lapsang tea, you might one to try a smaller quantity of this one first.<br /><br />The description says it was smoked using oak while most lapsang use pinewood, maybe that's what causes the difference.<br /><br />Now I mix it half and half with regular black tea, it's not as strong or as bold as I would like but at least I get back some of the tarriness this tea is lacking.                                                                                                                                                                                                                                                                                                                           |184       |1.0               |neutral  |5              |\n",
      "|289377|These tomatoes are ok. I've tasted better though.Large bag must be refrigerated once it's opened.Great price!                                                                                                                                                                                                                                                                                                                                                                                                                                                                                                                                                                                                                                                                                                                                                                                                                                                                                                                                                                                                                                                                                                                                                                                                    |16        |0.5               |neutral  |6              |\n",
      "|163317|A good snack but became sick of it. The sticks are about 3 inches in length. A pack of 100 seems like a lot for a fair price.                                                                                                                                                                                                                                                                                                                                                                                                                                                                                                                                                                                                                                                                                                                                                                                                                                                                                                                                                                                                                                                                                                                                                                                    |28        |1.0               |neutral  |4              |\n",
      "|388865|Believe it or not, I bought this at a yard sale for 50 cents.  The packaging was perfect and looked exactly like the photo.  It doesn't expire for another 6 months.  I can only figure the seller received the coffee as a gift and had no idea the cost.  I LOVE coffee and figured this would be very good but was so disappointed.  I wanted to see how much it would have cost me had I not bought it at a yard sale and almost fell over when I saw the going price on Amazon!!!!!!  There is NO way on this Earth I would pay the ridiculous amount here, but I will say I like the coffee more now that I know what a great deal I got!  :-)  I decided to try it again this morning and am using the sweetened condensed milk as mentioned by another reviewer (about 3 over-flowing teaspoons per cup - I like sweet coffee).  I also used less coffee since last time I felt it was too strong.  I still cannot pay the going price for this and figure most people on here buy it as a splurge thinking it is neat to drink Jamaican coffee.  I too like to experiment with foodstuffs from other places, but not at this price... Needless to say unless I find another at a yard sale, I'll never drink this coffee again once my 16 ounces is gone... except if I take a trip to Jamaica mon.  :-)|262       |0.0               |neutral  |4              |\n",
      "|70318 |First of let me say that I love a good Iced green tea. This one is super rich. I diluted per instructions and still needed to add more water to get the right flavor.<br />Needless to say you can really taste the acai and strawberry with the honey sweetness...the tea part...not so much...therefore the 3 stars. If you are looking for an intense flavored drink mix. This one packs a punch and you definitely get your money's worth.<br />If you are looking for a Tea...this might not be up your alley.<br />Definitely the Kool-Aid on the go for adults!!!                                                                                                                                                                                                                                                                                                                                                                                                                                                                                                                                                                                                                                                                                                                                         |99        |1.0               |neutral  |5              |\n",
      "|352616|...but the cans were smaller than I expected for the price I paid.  I dunno, I just expected to be saving a lot more than that when buying in bulk.  It's the same price (about $3 a can) at the local Target.  Plus, and this is a personal problem, I had a hard time being conservative with em.  They are delicious (not as good as the smoked ones though which Amazon doesn't sell for some reason) and I couldn't stop eating them!  I went through two cans in the first night!  I love to snack, but almonds aren't the best for snacking in large quantities, and I won't explain exactly why but it messes with your digestive system.  Anyways, the nuts are perfectly fine and it's a decent price (considering you're not paying sales tax outside of NY and that there's free shipping if you're patient) so I can't not recommend them, although I will never buy em again in this quantity.                                                                                                                                                                                                                                                                                                                                                                                                     |169       |0.3333333333333333|neutral  |5              |\n",
      "|439257|\"These cookies may be \"\"wheat free\"\"                                                                                                                                                                                                                                                                                                                                                                                                                                                                                                                                                                                                                                                                                                                                                                                                                                                                                                                                                                                                                                                                                                                                                                                                                                                                             |6         |0.625             |neutral  |6              |\n",
      "|412546|I bought this coffee with the basic requisites that it must be Fair Trade, and not too strong, as I prefer a breakfast or house blend for my morning coffee routine.<br /><br />I am basically pleased with this blend, I am enjoying my first cup as I write this review. Although I prefer a light/medium roast, this might be a little too light and mild, even for my tastes.  If you prefer a very light roast, then this would be perfect for you.  It is otherwise smooth and seems like low acidity (my stomach isn't upset by it or anything) which are both great pluses.  Since I prefer my coffee a little darker than this, I will probably just add an extra scoop of coffee to the pot to get it up to my taste preference.<br /><br />I wish Coffee Bean Direct made a darker roasted fair trade coffee, b/c the price sure is right!  Just as an FYI - BJ's Sumatran Fair Trade is very tasty medium/dark roast, and it's actually a little cheaper than Coffee Bean Direct's fair trade.<br /><br />enjoy!                                                                                                                                                                                                                                                                                     |187       |0.8333333333333334|neutral  |5              |\n",
      "|510500|\"Five stars for the sugar itself. It can be substituted 1:1 for \"\"regular\"\" sugar. Some other organic sugars have a higher moisture content which can cause problems when baking. It's not cost effective buying the case of 1 lb bags                                                                                                                                                                                                                                                                                                                                                                                                                                                                                                                                                                                                                                                                                                                                                                                                                                                                                                                                                                                                                                                                           |40        |0.7619047619047619|neutral  |5              |\n",
      "|335618|My rice packet did not come with any cooking instructions, so I googled some instructions (and I am glad I did, as it involved several steps).  The rice was wonderful once I spent the time to figure out how to prepare it!                                                                                                                                                                                                                                                                                                                                                                                                                                                                                                                                                                                                                                                                                                                                                                                                                                                                                                                                                                                                                                                                                    |43        |0.3333333333333333|neutral  |5              |\n",
      "|386368|I read about the benefits of Pau D'Arco tea and decided to give it a try. It's hard to find this tea in the market. The Whole Foods near my house doesn't have it either.<br /><br />The taste of this herbal tea is interesting: it's got a hint of sweetness with a very slight medicinal bitterness. Feels quite dry and alkaline to me. Color is light brown. Not particularly delightful or tasty, neither does it have a strong, captivating aroma like the Japanese roasted green tea - it's just weird beyond description. Reminds me of dried summer leaves. Not unpleasant though; I am still glad that I tried it!                                                                                                                                                                                                                                                                                                                                                                                                                                                                                                                                                                                                                                                                                    |109       |0.6666666666666666|neutral  |5              |\n",
      "|487956|This product is not the best for flavor, but the earlier price per cup was reasonable, at about $0.28. Now, however, the price seems to have escalated to more than $0.33 per cup, and for that I will abandon ordering prefilled pods & just resort to using my ecopods and coffeeduck. Amazon, you have disappointed by not keeping prices within reason.                                                                                                                                                                                                                                                                                                                                                                                                                                                                                                                                                                                                                                                                                                                                                                                                                                                                                                                                                      |61        |1.0               |neutral  |5              |\n",
      "|478754|\"A good coffee, but not the real Jamaican Blue Mountain Arabica.  The key word in the name is \"\"style.\"\"\"                                                                                                                                                                                                                                                                                                                                                                                                                                                                                                                                                                                                                                                                                                                                                                                                                                                                                                                                                                                                                                                                                                                                                                                                        |20        |0.75              |neutral  |5              |\n",
      "|565109|\"After reading all of the reviews, I ordered this.  I am trying to lower my cholesterol and I am not fond of rolled oats.  I was a bit disappointed in this product.  I guess that I expected a better textured oatmeal, but I was not pleased with the \"\"brown rice\"\" cooked product.  Yes                                                                                                                                                                                                                                                                                                                                                                                                                                                                                                                                                                                                                                                                                                                                                                                                                                                                                                                                                                                                                      |57        |0.8               |neutral  |4              |\n",
      "|146004|I'm a long time consumer of lavazza, however this was the first time i purchased whole beans. I got the whole beans in aim of getting a fresher coffee, this one was described as vacuumed packed and just for $19.09. Unfortunately it was not vacuum packed like I have expected.                                                                                                                                                                                                                                                                                                                                                                                                                                                                                                                                                                                                                                                                                                                                                                                                                                                                                                                                                                                                                              |50        |0.5               |neutral  |5              |\n",
      "|287957|\"Old Mother Hubbard makes great snack for dogs, however, it seems that at least 25% of the busquits are broken & in \"\"tiny\"\" pieces.Guess next time I'll buy them locally                                                                                                                                                                                                                                                                                                                                                                                                                                                                                                                                                                                                                                                                                                                                                                                                                                                                                                                                                                                                                                                                                                                                        |30        |0.0               |neutral  |5              |\n",
      "|253898|\"I agree with everyone else that the packaging is a pain in the neck and dump it into a 3-cup sized tupperware container--unlike the container provided, I'm confident the seal will hold (even if accidentally dropped!) and can put the sticker from the refill bag with lot info, etc, right on the lid. And trying to find the \"\"eco-smart\"\" refills on the shelf is a pain in the neck--they are never in stock and are even 4-5 weeks backordered on Amazon!<br /><br />My biggest complaint is that in addition to the packaging                                                                                                                                                                                                                                                                                                                                                                                                                                                                                                                                                                                                                                                                                                                                                                          |92        |1.0               |neutral  |5              |\n",
      "|72522 |I DID NOT CARE MUCH FOR THE ANIMAL CRACKERS OR THE CHEESE-IT. THE CHEESE-IT WERE NOT SALTY ENOUGH AND THE ANIMAL CRACKERS WERE DULL.                                                                                                                                                                                                                                                                                                                                                                                                                                                                                                                                                                                                                                                                                                                                                                                                                                                                                                                                                                                                                                                                                                                                                                             |24        |0.0               |neutral  |5              |\n",
      "+------+-----------------------------------------------------------------------------------------------------------------------------------------------------------------------------------------------------------------------------------------------------------------------------------------------------------------------------------------------------------------------------------------------------------------------------------------------------------------------------------------------------------------------------------------------------------------------------------------------------------------------------------------------------------------------------------------------------------------------------------------------------------------------------------------------------------------------------------------------------------------------------------------------------------------------------------------------------------------------------------------------------------------------------------------------------------------------------------------------------------------------------------------------------------------------------------------------------------------------------------------------------------------------------------------------------------------+----------+------------------+---------+---------------+\n",
      "only showing top 20 rows"
     ]
    }
   ],
   "source": [
    "from pyspark.sql import SparkSession\n",
    "\n",
    "# Initialize Spark session\n",
    "spark = SparkSession.builder.appName(\"Sentiment Analysis\").getOrCreate()\n",
    "\n",
    "# Load the new dataset from S3\n",
    "df = spark.read.parquet(\"s3://amzn-review-project/sentiment-training-data-with-text/\")\n",
    "\n",
    "# Show the first few rows to verify\n",
    "df.show(truncate=False)\n",
    "\n"
   ]
  },
  {
   "cell_type": "code",
   "execution_count": 25,
   "id": "0bcd1ef6-286e-4a85-9fa9-f8fce8cde9c7",
   "metadata": {
    "execution": {
     "iopub.execute_input": "2024-11-20T01:38:38.503577Z",
     "iopub.status.busy": "2024-11-20T01:38:38.503309Z",
     "iopub.status.idle": "2024-11-20T01:38:53.882403Z",
     "shell.execute_reply": "2024-11-20T01:38:53.881072Z",
     "shell.execute_reply.started": "2024-11-20T01:38:38.503547Z"
    },
    "tags": []
   },
   "outputs": [
    {
     "data": {
      "application/vnd.jupyter.widget-view+json": {
       "model_id": "5ba764dfbc6040d6810d33c113f1e0fe",
       "version_major": 2,
       "version_minor": 0
      },
      "text/plain": [
       "VBox()"
      ]
     },
     "metadata": {},
     "output_type": "display_data"
    },
    {
     "data": {
      "application/vnd.jupyter.widget-view+json": {
       "model_id": "",
       "version_major": 2,
       "version_minor": 0
      },
      "text/plain": [
       "FloatProgress(value=0.0, bar_style='info', description='Progress:', layout=Layout(height='25px', width='50%'),…"
      ]
     },
     "metadata": {},
     "output_type": "display_data"
    },
    {
     "name": "stdout",
     "output_type": "stream",
     "text": [
      "+-----------------------------------------------------------------------------------------------------------------------------------------------------------------------------------------------------------------------------------------------------------------------------------------------------------------------------------------------------------------------------------------------------------------------------------------------------------------------------------------------------------------------------------------------------------------------------------------------------------------------------------------------------------------------------------------------------------------------------------------------------------------------------------------------------------------------------------------------------------------------------------------------------------------------------------------------------------------------------------------------------------------------------------------------------------------------------------------------------------------------------------------------------------------------------------------------------------------------------------------------------------------------------------------------------------------+----------------------------------------------------------------------------------------------------------------------------------------------------------------------------------------------------------------------------------------------------------------------------------------------------------------------------------------------------------------------------------------------------------------------------------------------------------------------------------------------------------------------------------------------------------------------------------------------------------------------------------------------------------------------------------------------------------------------------------------------------------------------------------------------------------------------------------------------------------------------------------------------------------------------------------------------------------------------------------------------------------------------------------------------------------------------------------------------------------------------------------------------------------------------------------------------------------------------------------------------------------------------------------------------------------------------------------------------------------------------------------------------------------------------------------------------------------------------------------------------------------------------------------------------------------------------------------------+\n",
      "|text                                                                                                                                                                                                                                                                                                                                                                                                                                                                                                                                                                                                                                                                                                                                                                                                                                                                                                                                                                                                                                                                                                                                                                                                                                                                                                             |words                                                                                                                                                                                                                                                                                                                                                                                                                                                                                                                                                                                                                                                                                                                                                                                                                                                                                                                                                                                                                                                                                                                                                                                                                                                                                                                                                                                                                                                                                                                                                                                   |\n",
      "+-----------------------------------------------------------------------------------------------------------------------------------------------------------------------------------------------------------------------------------------------------------------------------------------------------------------------------------------------------------------------------------------------------------------------------------------------------------------------------------------------------------------------------------------------------------------------------------------------------------------------------------------------------------------------------------------------------------------------------------------------------------------------------------------------------------------------------------------------------------------------------------------------------------------------------------------------------------------------------------------------------------------------------------------------------------------------------------------------------------------------------------------------------------------------------------------------------------------------------------------------------------------------------------------------------------------+----------------------------------------------------------------------------------------------------------------------------------------------------------------------------------------------------------------------------------------------------------------------------------------------------------------------------------------------------------------------------------------------------------------------------------------------------------------------------------------------------------------------------------------------------------------------------------------------------------------------------------------------------------------------------------------------------------------------------------------------------------------------------------------------------------------------------------------------------------------------------------------------------------------------------------------------------------------------------------------------------------------------------------------------------------------------------------------------------------------------------------------------------------------------------------------------------------------------------------------------------------------------------------------------------------------------------------------------------------------------------------------------------------------------------------------------------------------------------------------------------------------------------------------------------------------------------------------+\n",
      "|I love this beef jerky and so I looked everywhere for it, and had trouble finding it readily. So when I found this product on subscription on Amazon, I was more than thrilled to subscribe. That was two months ago. I've now cancelled my subscription. Why you ask? The unopened packages of the beef jerky were hard as a rock and were tasteless as a result. I don't know what Amazon does to receive the jerkys so cheap thereby giving the customers the 15% discount, but I'd rather pay more and get them off retail and enjoy every piece.. I am very disappointed at the result and won't re-subscribe again.                                                                                                                                                                                                                                                                                                                                                                                                                                                                                                                                                                                                                                                                                        |[i, love, this, beef, jerky, and, so, i, looked, everywhere, for, it,, and, had, trouble, finding, it, readily., so, when, i, found, this, product, on, subscription, on, amazon,, i, was, more, than, thrilled, to, subscribe., that, was, two, months, ago., i've, now, cancelled, my, subscription., why, you, ask?, the, unopened, packages, of, the, beef, jerky, were, hard, as, a, rock, and, were, tasteless, as, a, result., i, don't, know, what, amazon, does, to, receive, the, jerkys, so, cheap, thereby, giving, the, customers, the, 15%, discount,, but, i'd, rather, pay, more, and, get, them, off, retail, and, enjoy, every, piece.., i, am, very, disappointed, at, the, result, and, won't, re-subscribe, again.]                                                                                                                                                                                                                                                                                                                                                                                                                                                                                                                                                                                                                                                                                                                                                                                                                                                |\n",
      "|I bought 5 different brands & assorted dehydrated fruits. (Why so many? I send boxes to servicemen overseas). The taste of this product is ok but not good.<br /><br />It is dehydrated so the texture is... well a dehydrated texture. The fruit taste mildly like the fruit they are suppose to be.<br /><br />If real fruit flavor is what you seek & fresh fruit is not an option, buy DRIED fruit instead of dehydrated.<br /><br />My concerns: I am reluctant to buy or eat any food product made in China. In 2008 all baby formula made in China was recalled due to dangerous contamination with poison chemicals, this was just a few years after a similar formula recall when it was discovered that Chinese made formula had substitued a chemical for the protein in formula & 10s of thousands or more babies were found to be sick or died from malnutrition.<br /><br />In 2007 all or nearly all Chinese manufactured Pet Food was recalled for the same reasons.<br /><br />Therefore I don't trust any food product made in China. If you like this product then eat it as junk food. In my opinion, no one should assume it is a healthy snack or a better choice than a candy bar or cookie.                                                                                              |[i, bought, 5, different, brands, &, assorted, dehydrated, fruits., (why, so, many?, i, send, boxes, to, servicemen, overseas)., the, taste, of, this, product, is, ok, but, not, good.<br, /><br, />it, is, dehydrated, so, the, texture, is..., well, a, dehydrated, texture., the, fruit, taste, mildly, like, the, fruit, they, are, suppose, to, be.<br, /><br, />if, real, fruit, flavor, is, what, you, seek, &, fresh, fruit, is, not, an, option,, buy, dried, fruit, instead, of, dehydrated.<br, /><br, />my, concerns:, i, am, reluctant, to, buy, or, eat, any, food, product, made, in, china., in, 2008, all, baby, formula, made, in, china, was, recalled, due, to, dangerous, contamination, with, poison, chemicals,, this, was, just, a, few, years, after, a, similar, formula, recall, when, it, was, discovered, that, chinese, made, formula, had, substitued, a, chemical, for, the, protein, in, formula, &, 10s, of, thousands, or, more, babies, were, found, to, be, sick, or, died, from, malnutrition.<br, /><br, />in, 2007, all, or, nearly, all, chinese, manufactured, pet, food, was, recalled, for, the, same, reasons.<br, /><br, />therefore, i, don't, trust, any, food, product, made, in, china., if, you, like, this, product, then, eat, it, as, junk, food., in, my, opinion,, no, one, should, assume, it, is, a, healthy, snack, or, a, better, choice, than, a, candy, bar, or, cookie.]                                                                                                                                                |\n",
      "|I used to buy my Lapsang from Teavana but they stopped selling it. I also used to buy some from different packers like Twinnings among others but they became harder to find in stores in my area.<br /><br />I ordered this not only based on price but mainly based on the good reviews on this site. I must admit I was a bit disappointed. This tea isn't bad but *to my taste* it's not as good as the others I am used to. It's not as bold or as tangy and the smokey flavor is quite different from the others. It's hard to describe the difference but if you're used to some other Lapsang tea, you might one to try a smaller quantity of this one first.<br /><br />The description says it was smoked using oak while most lapsang use pinewood, maybe that's what causes the difference.<br /><br />Now I mix it half and half with regular black tea, it's not as strong or as bold as I would like but at least I get back some of the tarriness this tea is lacking.                                                                                                                                                                                                                                                                                                                           |[i, used, to, buy, my, lapsang, from, teavana, but, they, stopped, selling, it., i, also, used, to, buy, some, from, different, packers, like, twinnings, among, others, but, they, became, harder, to, find, in, stores, in, my, area.<br, /><br, />i, ordered, this, not, only, based, on, price, but, mainly, based, on, the, good, reviews, on, this, site., i, must, admit, i, was, a, bit, disappointed., this, tea, isn't, bad, but, *to, my, taste*, it's, not, as, good, as, the, others, i, am, used, to., it's, not, as, bold, or, as, tangy, and, the, smokey, flavor, is, quite, different, from, the, others., it's, hard, to, describe, the, difference, but, if, you're, used, to, some, other, lapsang, tea,, you, might, one, to, try, a, smaller, quantity, of, this, one, first.<br, /><br, />the, description, says, it, was, smoked, using, oak, while, most, lapsang, use, pinewood,, maybe, that's, what, causes, the, difference.<br, /><br, />now, i, mix, it, half, and, half, with, regular, black, tea,, it's, not, as, strong, or, as, bold, as, i, would, like, but, at, least, i, get, back, some, of, the, tarriness, this, tea, is, lacking.]                                                                                                                                                                                                                                                                                                                                                                                                         |\n",
      "|These tomatoes are ok. I've tasted better though.Large bag must be refrigerated once it's opened.Great price!                                                                                                                                                                                                                                                                                                                                                                                                                                                                                                                                                                                                                                                                                                                                                                                                                                                                                                                                                                                                                                                                                                                                                                                                    |[these, tomatoes, are, ok., i've, tasted, better, though.large, bag, must, be, refrigerated, once, it's, opened.great, price!]                                                                                                                                                                                                                                                                                                                                                                                                                                                                                                                                                                                                                                                                                                                                                                                                                                                                                                                                                                                                                                                                                                                                                                                                                                                                                                                                                                                                                                                          |\n",
      "|A good snack but became sick of it. The sticks are about 3 inches in length. A pack of 100 seems like a lot for a fair price.                                                                                                                                                                                                                                                                                                                                                                                                                                                                                                                                                                                                                                                                                                                                                                                                                                                                                                                                                                                                                                                                                                                                                                                    |[a, good, snack, but, became, sick, of, it., the, sticks, are, about, 3, inches, in, length., a, pack, of, 100, seems, like, a, lot, for, a, fair, price.]                                                                                                                                                                                                                                                                                                                                                                                                                                                                                                                                                                                                                                                                                                                                                                                                                                                                                                                                                                                                                                                                                                                                                                                                                                                                                                                                                                                                                              |\n",
      "|Believe it or not, I bought this at a yard sale for 50 cents.  The packaging was perfect and looked exactly like the photo.  It doesn't expire for another 6 months.  I can only figure the seller received the coffee as a gift and had no idea the cost.  I LOVE coffee and figured this would be very good but was so disappointed.  I wanted to see how much it would have cost me had I not bought it at a yard sale and almost fell over when I saw the going price on Amazon!!!!!!  There is NO way on this Earth I would pay the ridiculous amount here, but I will say I like the coffee more now that I know what a great deal I got!  :-)  I decided to try it again this morning and am using the sweetened condensed milk as mentioned by another reviewer (about 3 over-flowing teaspoons per cup - I like sweet coffee).  I also used less coffee since last time I felt it was too strong.  I still cannot pay the going price for this and figure most people on here buy it as a splurge thinking it is neat to drink Jamaican coffee.  I too like to experiment with foodstuffs from other places, but not at this price... Needless to say unless I find another at a yard sale, I'll never drink this coffee again once my 16 ounces is gone... except if I take a trip to Jamaica mon.  :-)|[believe, it, or, not,, i, bought, this, at, a, yard, sale, for, 50, cents., , the, packaging, was, perfect, and, looked, exactly, like, the, photo., , it, doesn't, expire, for, another, 6, months., , i, can, only, figure, the, seller, received, the, coffee, as, a, gift, and, had, no, idea, the, cost., , i, love, coffee, and, figured, this, would, be, very, good, but, was, so, disappointed., , i, wanted, to, see, how, much, it, would, have, cost, me, had, i, not, bought, it, at, a, yard, sale, and, almost, fell, over, when, i, saw, the, going, price, on, amazon!!!!!!, , there, is, no, way, on, this, earth, i, would, pay, the, ridiculous, amount, here,, but, i, will, say, i, like, the, coffee, more, now, that, i, know, what, a, great, deal, i, got!, , :-), , i, decided, to, try, it, again, this, morning, and, am, using, the, sweetened, condensed, milk, as, mentioned, by, another, reviewer, (about, 3, over-flowing, teaspoons, per, cup, -, i, like, sweet, coffee)., , i, also, used, less, coffee, since, last, time, i, felt, it, was, too, strong., , i, still, cannot, pay, the, going, price, for, this, and, figure, most, people, on, here, buy, it, as, a, splurge, thinking, it, is, neat, to, drink, jamaican, coffee., , i, too, like, to, experiment, with, foodstuffs, from, other, places,, but, not, at, this, price..., needless, to, say, unless, i, find, another, at, a, yard, sale,, i'll, never, drink, this, coffee, again, once, my, 16, ounces, is, gone..., except, if, i, take, a, trip, to, jamaica, mon., , :-)]|\n",
      "|First of let me say that I love a good Iced green tea. This one is super rich. I diluted per instructions and still needed to add more water to get the right flavor.<br />Needless to say you can really taste the acai and strawberry with the honey sweetness...the tea part...not so much...therefore the 3 stars. If you are looking for an intense flavored drink mix. This one packs a punch and you definitely get your money's worth.<br />If you are looking for a Tea...this might not be up your alley.<br />Definitely the Kool-Aid on the go for adults!!!                                                                                                                                                                                                                                                                                                                                                                                                                                                                                                                                                                                                                                                                                                                                         |[first, of, let, me, say, that, i, love, a, good, iced, green, tea., this, one, is, super, rich., i, diluted, per, instructions, and, still, needed, to, add, more, water, to, get, the, right, flavor.<br, />needless, to, say, you, can, really, taste, the, acai, and, strawberry, with, the, honey, sweetness...the, tea, part...not, so, much...therefore, the, 3, stars., if, you, are, looking, for, an, intense, flavored, drink, mix., this, one, packs, a, punch, and, you, definitely, get, your, money's, worth.<br, />if, you, are, looking, for, a, tea...this, might, not, be, up, your, alley.<br, />definitely, the, kool-aid, on, the, go, for, adults!!!]                                                                                                                                                                                                                                                                                                                                                                                                                                                                                                                                                                                                                                                                                                                                                                                                                                                                                                            |\n",
      "|...but the cans were smaller than I expected for the price I paid.  I dunno, I just expected to be saving a lot more than that when buying in bulk.  It's the same price (about $3 a can) at the local Target.  Plus, and this is a personal problem, I had a hard time being conservative with em.  They are delicious (not as good as the smoked ones though which Amazon doesn't sell for some reason) and I couldn't stop eating them!  I went through two cans in the first night!  I love to snack, but almonds aren't the best for snacking in large quantities, and I won't explain exactly why but it messes with your digestive system.  Anyways, the nuts are perfectly fine and it's a decent price (considering you're not paying sales tax outside of NY and that there's free shipping if you're patient) so I can't not recommend them, although I will never buy em again in this quantity.                                                                                                                                                                                                                                                                                                                                                                                                     |[...but, the, cans, were, smaller, than, i, expected, for, the, price, i, paid., , i, dunno,, i, just, expected, to, be, saving, a, lot, more, than, that, when, buying, in, bulk., , it's, the, same, price, (about, $3, a, can), at, the, local, target., , plus,, and, this, is, a, personal, problem,, i, had, a, hard, time, being, conservative, with, em., , they, are, delicious, (not, as, good, as, the, smoked, ones, though, which, amazon, doesn't, sell, for, some, reason), and, i, couldn't, stop, eating, them!, , i, went, through, two, cans, in, the, first, night!, , i, love, to, snack,, but, almonds, aren't, the, best, for, snacking, in, large, quantities,, and, i, won't, explain, exactly, why, but, it, messes, with, your, digestive, system., , anyways,, the, nuts, are, perfectly, fine, and, it's, a, decent, price, (considering, you're, not, paying, sales, tax, outside, of, ny, and, that, there's, free, shipping, if, you're, patient), so, i, can't, not, recommend, them,, although, i, will, never, buy, em, again, in, this, quantity.]                                                                                                                                                                                                                                                                                                                                                                                                                                                                                                  |\n",
      "|\"These cookies may be \"\"wheat free\"\"                                                                                                                                                                                                                                                                                                                                                                                                                                                                                                                                                                                                                                                                                                                                                                                                                                                                                                                                                                                                                                                                                                                                                                                                                                                                             |[\"these, cookies, may, be, \"\"wheat, free\"\"]                                                                                                                                                                                                                                                                                                                                                                                                                                                                                                                                                                                                                                                                                                                                                                                                                                                                                                                                                                                                                                                                                                                                                                                                                                                                                                                                                                                                                                                                                                                                             |\n",
      "|I bought this coffee with the basic requisites that it must be Fair Trade, and not too strong, as I prefer a breakfast or house blend for my morning coffee routine.<br /><br />I am basically pleased with this blend, I am enjoying my first cup as I write this review. Although I prefer a light/medium roast, this might be a little too light and mild, even for my tastes.  If you prefer a very light roast, then this would be perfect for you.  It is otherwise smooth and seems like low acidity (my stomach isn't upset by it or anything) which are both great pluses.  Since I prefer my coffee a little darker than this, I will probably just add an extra scoop of coffee to the pot to get it up to my taste preference.<br /><br />I wish Coffee Bean Direct made a darker roasted fair trade coffee, b/c the price sure is right!  Just as an FYI - BJ's Sumatran Fair Trade is very tasty medium/dark roast, and it's actually a little cheaper than Coffee Bean Direct's fair trade.<br /><br />enjoy!                                                                                                                                                                                                                                                                                     |[i, bought, this, coffee, with, the, basic, requisites, that, it, must, be, fair, trade,, and, not, too, strong,, as, i, prefer, a, breakfast, or, house, blend, for, my, morning, coffee, routine.<br, /><br, />i, am, basically, pleased, with, this, blend,, i, am, enjoying, my, first, cup, as, i, write, this, review., although, i, prefer, a, light/medium, roast,, this, might, be, a, little, too, light, and, mild,, even, for, my, tastes., , if, you, prefer, a, very, light, roast,, then, this, would, be, perfect, for, you., , it, is, otherwise, smooth, and, seems, like, low, acidity, (my, stomach, isn't, upset, by, it, or, anything), which, are, both, great, pluses., , since, i, prefer, my, coffee, a, little, darker, than, this,, i, will, probably, just, add, an, extra, scoop, of, coffee, to, the, pot, to, get, it, up, to, my, taste, preference.<br, /><br, />i, wish, coffee, bean, direct, made, a, darker, roasted, fair, trade, coffee,, b/c, the, price, sure, is, right!, , just, as, an, fyi, -, bj's, sumatran, fair, trade, is, very, tasty, medium/dark, roast,, and, it's, actually, a, little, cheaper, than, coffee, bean, direct's, fair, trade.<br, /><br, />enjoy!]                                                                                                                                                                                                                                                                                                                                                                |\n",
      "|\"Five stars for the sugar itself. It can be substituted 1:1 for \"\"regular\"\" sugar. Some other organic sugars have a higher moisture content which can cause problems when baking. It's not cost effective buying the case of 1 lb bags                                                                                                                                                                                                                                                                                                                                                                                                                                                                                                                                                                                                                                                                                                                                                                                                                                                                                                                                                                                                                                                                           |[\"five, stars, for, the, sugar, itself., it, can, be, substituted, 1:1, for, \"\"regular\"\", sugar., some, other, organic, sugars, have, a, higher, moisture, content, which, can, cause, problems, when, baking., it's, not, cost, effective, buying, the, case, of, 1, lb, bags]                                                                                                                                                                                                                                                                                                                                                                                                                                                                                                                                                                                                                                                                                                                                                                                                                                                                                                                                                                                                                                                                                                                                                                                                                                                                                                         |\n",
      "|My rice packet did not come with any cooking instructions, so I googled some instructions (and I am glad I did, as it involved several steps).  The rice was wonderful once I spent the time to figure out how to prepare it!                                                                                                                                                                                                                                                                                                                                                                                                                                                                                                                                                                                                                                                                                                                                                                                                                                                                                                                                                                                                                                                                                    |[my, rice, packet, did, not, come, with, any, cooking, instructions,, so, i, googled, some, instructions, (and, i, am, glad, i, did,, as, it, involved, several, steps)., , the, rice, was, wonderful, once, i, spent, the, time, to, figure, out, how, to, prepare, it!]                                                                                                                                                                                                                                                                                                                                                                                                                                                                                                                                                                                                                                                                                                                                                                                                                                                                                                                                                                                                                                                                                                                                                                                                                                                                                                               |\n",
      "|I read about the benefits of Pau D'Arco tea and decided to give it a try. It's hard to find this tea in the market. The Whole Foods near my house doesn't have it either.<br /><br />The taste of this herbal tea is interesting: it's got a hint of sweetness with a very slight medicinal bitterness. Feels quite dry and alkaline to me. Color is light brown. Not particularly delightful or tasty, neither does it have a strong, captivating aroma like the Japanese roasted green tea - it's just weird beyond description. Reminds me of dried summer leaves. Not unpleasant though; I am still glad that I tried it!                                                                                                                                                                                                                                                                                                                                                                                                                                                                                                                                                                                                                                                                                    |[i, read, about, the, benefits, of, pau, d'arco, tea, and, decided, to, give, it, a, try., it's, hard, to, find, this, tea, in, the, market., the, whole, foods, near, my, house, doesn't, have, it, either.<br, /><br, />the, taste, of, this, herbal, tea, is, interesting:, it's, got, a, hint, of, sweetness, with, a, very, slight, medicinal, bitterness., feels, quite, dry, and, alkaline, to, me., color, is, light, brown., not, particularly, delightful, or, tasty,, neither, does, it, have, a, strong,, captivating, aroma, like, the, japanese, roasted, green, tea, -, it's, just, weird, beyond, description., reminds, me, of, dried, summer, leaves., not, unpleasant, though;, i, am, still, glad, that, i, tried, it!]                                                                                                                                                                                                                                                                                                                                                                                                                                                                                                                                                                                                                                                                                                                                                                                                                                             |\n",
      "|This product is not the best for flavor, but the earlier price per cup was reasonable, at about $0.28. Now, however, the price seems to have escalated to more than $0.33 per cup, and for that I will abandon ordering prefilled pods & just resort to using my ecopods and coffeeduck. Amazon, you have disappointed by not keeping prices within reason.                                                                                                                                                                                                                                                                                                                                                                                                                                                                                                                                                                                                                                                                                                                                                                                                                                                                                                                                                      |[this, product, is, not, the, best, for, flavor,, but, the, earlier, price, per, cup, was, reasonable,, at, about, $0.28., now,, however,, the, price, seems, to, have, escalated, to, more, than, $0.33, per, cup,, and, for, that, i, will, abandon, ordering, prefilled, pods, &, just, resort, to, using, my, ecopods, and, coffeeduck., amazon,, you, have, disappointed, by, not, keeping, prices, within, reason.]                                                                                                                                                                                                                                                                                                                                                                                                                                                                                                                                                                                                                                                                                                                                                                                                                                                                                                                                                                                                                                                                                                                                                               |\n",
      "|\"A good coffee, but not the real Jamaican Blue Mountain Arabica.  The key word in the name is \"\"style.\"\"\"                                                                                                                                                                                                                                                                                                                                                                                                                                                                                                                                                                                                                                                                                                                                                                                                                                                                                                                                                                                                                                                                                                                                                                                                        |[\"a, good, coffee,, but, not, the, real, jamaican, blue, mountain, arabica., , the, key, word, in, the, name, is, \"\"style.\"\"\"]                                                                                                                                                                                                                                                                                                                                                                                                                                                                                                                                                                                                                                                                                                                                                                                                                                                                                                                                                                                                                                                                                                                                                                                                                                                                                                                                                                                                                                                          |\n",
      "|\"After reading all of the reviews, I ordered this.  I am trying to lower my cholesterol and I am not fond of rolled oats.  I was a bit disappointed in this product.  I guess that I expected a better textured oatmeal, but I was not pleased with the \"\"brown rice\"\" cooked product.  Yes                                                                                                                                                                                                                                                                                                                                                                                                                                                                                                                                                                                                                                                                                                                                                                                                                                                                                                                                                                                                                      |[\"after, reading, all, of, the, reviews,, i, ordered, this., , i, am, trying, to, lower, my, cholesterol, and, i, am, not, fond, of, rolled, oats., , i, was, a, bit, disappointed, in, this, product., , i, guess, that, i, expected, a, better, textured, oatmeal,, but, i, was, not, pleased, with, the, \"\"brown, rice\"\", cooked, product., , yes]                                                                                                                                                                                                                                                                                                                                                                                                                                                                                                                                                                                                                                                                                                                                                                                                                                                                                                                                                                                                                                                                                                                                                                                                                                   |\n",
      "|I'm a long time consumer of lavazza, however this was the first time i purchased whole beans. I got the whole beans in aim of getting a fresher coffee, this one was described as vacuumed packed and just for $19.09. Unfortunately it was not vacuum packed like I have expected.                                                                                                                                                                                                                                                                                                                                                                                                                                                                                                                                                                                                                                                                                                                                                                                                                                                                                                                                                                                                                              |[i'm, a, long, time, consumer, of, lavazza,, however, this, was, the, first, time, i, purchased, whole, beans., i, got, the, whole, beans, in, aim, of, getting, a, fresher, coffee,, this, one, was, described, as, vacuumed, packed, and, just, for, $19.09., unfortunately, it, was, not, vacuum, packed, like, i, have, expected.]                                                                                                                                                                                                                                                                                                                                                                                                                                                                                                                                                                                                                                                                                                                                                                                                                                                                                                                                                                                                                                                                                                                                                                                                                                                  |\n",
      "|\"Old Mother Hubbard makes great snack for dogs, however, it seems that at least 25% of the busquits are broken & in \"\"tiny\"\" pieces.Guess next time I'll buy them locally                                                                                                                                                                                                                                                                                                                                                                                                                                                                                                                                                                                                                                                                                                                                                                                                                                                                                                                                                                                                                                                                                                                                        |[\"old, mother, hubbard, makes, great, snack, for, dogs,, however,, it, seems, that, at, least, 25%, of, the, busquits, are, broken, &, in, \"\"tiny\"\", pieces.guess, next, time, i'll, buy, them, locally]                                                                                                                                                                                                                                                                                                                                                                                                                                                                                                                                                                                                                                                                                                                                                                                                                                                                                                                                                                                                                                                                                                                                                                                                                                                                                                                                                                                |\n",
      "|\"I agree with everyone else that the packaging is a pain in the neck and dump it into a 3-cup sized tupperware container--unlike the container provided, I'm confident the seal will hold (even if accidentally dropped!) and can put the sticker from the refill bag with lot info, etc, right on the lid. And trying to find the \"\"eco-smart\"\" refills on the shelf is a pain in the neck--they are never in stock and are even 4-5 weeks backordered on Amazon!<br /><br />My biggest complaint is that in addition to the packaging                                                                                                                                                                                                                                                                                                                                                                                                                                                                                                                                                                                                                                                                                                                                                                          |[\"i, agree, with, everyone, else, that, the, packaging, is, a, pain, in, the, neck, and, dump, it, into, a, 3-cup, sized, tupperware, container--unlike, the, container, provided,, i'm, confident, the, seal, will, hold, (even, if, accidentally, dropped!), and, can, put, the, sticker, from, the, refill, bag, with, lot, info,, etc,, right, on, the, lid., and, trying, to, find, the, \"\"eco-smart\"\", refills, on, the, shelf, is, a, pain, in, the, neck--they, are, never, in, stock, and, are, even, 4-5, weeks, backordered, on, amazon!<br, /><br, />my, biggest, complaint, is, that, in, addition, to, the, packaging]                                                                                                                                                                                                                                                                                                                                                                                                                                                                                                                                                                                                                                                                                                                                                                                                                                                                                                                                                    |\n",
      "|I DID NOT CARE MUCH FOR THE ANIMAL CRACKERS OR THE CHEESE-IT. THE CHEESE-IT WERE NOT SALTY ENOUGH AND THE ANIMAL CRACKERS WERE DULL.                                                                                                                                                                                                                                                                                                                                                                                                                                                                                                                                                                                                                                                                                                                                                                                                                                                                                                                                                                                                                                                                                                                                                                             |[i, did, not, care, much, for, the, animal, crackers, or, the, cheese-it., the, cheese-it, were, not, salty, enough, and, the, animal, crackers, were, dull.]                                                                                                                                                                                                                                                                                                                                                                                                                                                                                                                                                                                                                                                                                                                                                                                                                                                                                                                                                                                                                                                                                                                                                                                                                                                                                                                                                                                                                           |\n",
      "+-----------------------------------------------------------------------------------------------------------------------------------------------------------------------------------------------------------------------------------------------------------------------------------------------------------------------------------------------------------------------------------------------------------------------------------------------------------------------------------------------------------------------------------------------------------------------------------------------------------------------------------------------------------------------------------------------------------------------------------------------------------------------------------------------------------------------------------------------------------------------------------------------------------------------------------------------------------------------------------------------------------------------------------------------------------------------------------------------------------------------------------------------------------------------------------------------------------------------------------------------------------------------------------------------------------------+----------------------------------------------------------------------------------------------------------------------------------------------------------------------------------------------------------------------------------------------------------------------------------------------------------------------------------------------------------------------------------------------------------------------------------------------------------------------------------------------------------------------------------------------------------------------------------------------------------------------------------------------------------------------------------------------------------------------------------------------------------------------------------------------------------------------------------------------------------------------------------------------------------------------------------------------------------------------------------------------------------------------------------------------------------------------------------------------------------------------------------------------------------------------------------------------------------------------------------------------------------------------------------------------------------------------------------------------------------------------------------------------------------------------------------------------------------------------------------------------------------------------------------------------------------------------------------------+\n",
      "only showing top 20 rows"
     ]
    }
   ],
   "source": [
    "from pyspark.ml.feature import Tokenizer\n",
    "\n",
    "# Tokenize the text column\n",
    "tokenizer = Tokenizer(inputCol=\"text\", outputCol=\"words\")\n",
    "df = tokenizer.transform(df)\n",
    "\n",
    "# Show a sample of tokenized text\n",
    "df.select(\"text\", \"words\").show(truncate=False)\n"
   ]
  },
  {
   "cell_type": "code",
   "execution_count": 26,
   "id": "7474df9b-bcd4-4710-a90d-cca5472e5a39",
   "metadata": {
    "execution": {
     "iopub.execute_input": "2024-11-20T01:39:08.131200Z",
     "iopub.status.busy": "2024-11-20T01:39:08.130933Z",
     "iopub.status.idle": "2024-11-20T01:39:09.432676Z",
     "shell.execute_reply": "2024-11-20T01:39:09.431794Z",
     "shell.execute_reply.started": "2024-11-20T01:39:08.131172Z"
    },
    "tags": []
   },
   "outputs": [
    {
     "data": {
      "application/vnd.jupyter.widget-view+json": {
       "model_id": "6e2abc70df164ae7b4daec97c0be7863",
       "version_major": 2,
       "version_minor": 0
      },
      "text/plain": [
       "VBox()"
      ]
     },
     "metadata": {},
     "output_type": "display_data"
    },
    {
     "data": {
      "application/vnd.jupyter.widget-view+json": {
       "model_id": "",
       "version_major": 2,
       "version_minor": 0
      },
      "text/plain": [
       "FloatProgress(value=0.0, bar_style='info', description='Progress:', layout=Layout(height='25px', width='50%'),…"
      ]
     },
     "metadata": {},
     "output_type": "display_data"
    },
    {
     "name": "stdout",
     "output_type": "stream",
     "text": [
      "+-------------------------------------------------------------------------------------------------------------------------------------------------------------------------------------------------------------------------------------------------------------------------------------------------------------------------------------------------------------------------------------------------------------------------------------------------------------------------------------------------------------------------------------------------------------------------------------------------------------------------------------------------------------------------------------------------------------------------------------------------------------------------------------------------------------------------------------------------------------------------------------------------------------------------------------------------------------------------------------------------------------------------------------------------------------------------------------------------------------------------------------------------------------------------------------------------------------------------+\n",
      "|rawFeatures                                                                                                                                                                                                                                                                                                                                                                                                                                                                                                                                                                                                                                                                                                                                                                                                                                                                                                                                                                                                                                                                                                                                                                                                              |\n",
      "+-------------------------------------------------------------------------------------------------------------------------------------------------------------------------------------------------------------------------------------------------------------------------------------------------------------------------------------------------------------------------------------------------------------------------------------------------------------------------------------------------------------------------------------------------------------------------------------------------------------------------------------------------------------------------------------------------------------------------------------------------------------------------------------------------------------------------------------------------------------------------------------------------------------------------------------------------------------------------------------------------------------------------------------------------------------------------------------------------------------------------------------------------------------------------------------------------------------------------+\n",
      "|(1000,[17,22,32,61,62,76,90,97,125,137,146,162,178,203,224,239,240,261,268,270,301,310,314,338,344,373,399,403,413,416,426,447,465,467,472,485,488,495,526,546,548,552,559,568,569,574,605,617,629,630,661,670,681,683,686,698,705,728,736,741,749,756,758,760,778,779,805,837,884,891,897,898,903,909,911,924,939,943,944,962,965,973,981],[6.0,1.0,1.0,1.0,1.0,1.0,1.0,1.0,1.0,1.0,1.0,1.0,1.0,1.0,1.0,1.0,1.0,1.0,1.0,1.0,2.0,1.0,1.0,1.0,1.0,2.0,1.0,3.0,1.0,1.0,1.0,1.0,1.0,2.0,1.0,1.0,2.0,1.0,1.0,1.0,1.0,1.0,1.0,1.0,1.0,1.0,1.0,1.0,2.0,1.0,1.0,1.0,1.0,2.0,1.0,1.0,1.0,1.0,2.0,1.0,2.0,6.0,1.0,1.0,1.0,1.0,1.0,1.0,1.0,6.0,1.0,1.0,1.0,1.0,1.0,1.0,1.0,1.0,1.0,2.0,1.0,2.0,1.0])                                                                                                                                                                                                                                                                                                                                                                                                                                                                                                                               |\n",
      "|(1000,[11,17,31,34,46,48,53,61,74,76,80,85,95,109,113,145,148,157,171,174,185,209,245,257,261,276,284,285,304,307,328,330,332,338,341,342,344,348,356,362,372,373,381,400,403,405,422,440,442,447,462,467,485,488,495,523,526,527,528,531,536,541,543,546,568,569,576,591,597,605,606,619,621,629,644,645,646,650,653,656,657,663,664,669,682,683,686,690,691,700,704,714,717,721,734,741,749,756,760,763,782,791,797,815,818,824,840,845,855,864,866,883,890,894,907,919,921,922,929,944,955,960,962,990,996],[1.0,6.0,2.0,1.0,1.0,1.0,1.0,1.0,1.0,2.0,2.0,1.0,4.0,1.0,1.0,1.0,1.0,1.0,1.0,1.0,1.0,5.0,5.0,1.0,1.0,2.0,3.0,1.0,1.0,1.0,3.0,2.0,1.0,2.0,1.0,1.0,6.0,1.0,1.0,1.0,3.0,3.0,1.0,1.0,2.0,3.0,1.0,1.0,1.0,4.0,1.0,7.0,1.0,5.0,3.0,1.0,1.0,1.0,1.0,1.0,1.0,1.0,1.0,1.0,1.0,1.0,1.0,1.0,1.0,1.0,1.0,2.0,1.0,1.0,1.0,1.0,1.0,1.0,3.0,1.0,1.0,6.0,1.0,2.0,1.0,6.0,3.0,1.0,1.0,1.0,1.0,1.0,1.0,1.0,3.0,8.0,1.0,4.0,1.0,1.0,1.0,1.0,1.0,1.0,1.0,1.0,1.0,1.0,2.0,1.0,1.0,1.0,2.0,1.0,1.0,1.0,1.0,1.0,1.0,1.0,5.0,1.0,1.0,1.0,1.0])                                                                                                                                                                                    |\n",
      "|(1000,[13,17,23,46,48,56,60,80,85,125,133,161,162,168,207,209,229,245,263,274,289,301,315,330,337,338,348,349,355,362,373,378,400,405,413,426,430,437,467,475,485,488,492,495,498,510,521,526,545,552,568,583,605,610,631,634,648,650,663,672,673,683,686,693,696,714,730,734,735,736,738,741,749,756,761,770,780,792,805,815,818,824,825,855,866,875,889,891,899,905,908,911,921,924,933,940,948,954,956,960,989,991,994],[1.0,8.0,1.0,1.0,2.0,1.0,1.0,2.0,1.0,2.0,2.0,3.0,1.0,2.0,1.0,2.0,2.0,3.0,1.0,2.0,1.0,1.0,2.0,2.0,1.0,1.0,1.0,1.0,1.0,1.0,5.0,1.0,3.0,4.0,1.0,1.0,1.0,4.0,2.0,1.0,1.0,6.0,1.0,2.0,1.0,1.0,1.0,1.0,1.0,1.0,3.0,1.0,10.0,1.0,1.0,1.0,1.0,2.0,2.0,1.0,1.0,4.0,2.0,1.0,1.0,1.0,1.0,1.0,2.0,3.0,1.0,2.0,7.0,8.0,1.0,1.0,2.0,2.0,1.0,2.0,1.0,1.0,1.0,1.0,1.0,1.0,1.0,2.0,1.0,1.0,1.0,1.0,3.0,1.0,1.0,2.0,1.0,1.0,1.0,1.0,1.0,1.0,1.0])                                                                                                                                                                                                                                                                                                                                                               |\n",
      "|(1000,[23,45,130,147,205,263,288,310,415,437,543,553,762,763,806,855],[1.0,1.0,1.0,1.0,1.0,1.0,1.0,1.0,1.0,1.0,1.0,1.0,1.0,1.0,1.0,1.0])                                                                                                                                                                                                                                                                                                                                                                                                                                                                                                                                                                                                                                                                                                                                                                                                                                                                                                                                                                                                                                                                                 |\n",
      "|(1000,[17,26,54,168,206,225,330,344,436,467,495,547,605,619,663,672,763,764,784,805,845,883,943,956],[1.0,1.0,1.0,1.0,1.0,1.0,1.0,1.0,1.0,4.0,2.0,1.0,1.0,1.0,1.0,1.0,1.0,1.0,1.0,1.0,1.0,1.0,1.0,1.0])                                                                                                                                                                                                                                                                                                                                                                                                                                                                                                                                                                                                                                                                                                                                                                                                                                                                                                                                                                                                                  |\n",
      "|(1000,[6,17,21,36,38,59,66,76,80,96,97,106,108,110,133,135,139,143,147,152,157,160,162,166,168,169,195,196,206,209,213,222,231,235,240,263,278,281,286,287,289,292,293,298,299,314,320,326,330,344,352,354,358,365,369,372,373,391,403,405,407,415,420,424,433,437,467,470,475,485,488,490,492,510,523,524,526,533,566,568,569,581,601,605,616,620,629,633,643,646,650,666,673,676,681,683,686,693,694,697,700,704,705,706,708,711,712,714,716,732,736,738,741,749,750,755,756,760,770,774,775,779,782,785,792,824,831,838,844,855,857,862,867,868,873,883,891,897,899,911,921,944,949,958,960,975,989],[1.0,10.0,1.0,1.0,2.0,1.0,2.0,1.0,2.0,1.0,1.0,1.0,1.0,2.0,1.0,1.0,2.0,3.0,1.0,1.0,1.0,1.0,4.0,3.0,1.0,1.0,1.0,1.0,1.0,3.0,1.0,1.0,1.0,1.0,1.0,1.0,1.0,1.0,1.0,1.0,1.0,2.0,1.0,1.0,1.0,1.0,1.0,1.0,4.0,3.0,1.0,1.0,1.0,1.0,1.0,12.0,7.0,1.0,1.0,2.0,1.0,1.0,1.0,3.0,1.0,1.0,7.0,1.0,1.0,1.0,6.0,2.0,1.0,1.0,2.0,1.0,1.0,1.0,1.0,1.0,2.0,1.0,1.0,4.0,1.0,1.0,1.0,1.0,1.0,2.0,1.0,1.0,1.0,1.0,1.0,3.0,8.0,1.0,1.0,1.0,5.0,2.0,1.0,1.0,1.0,2.0,1.0,1.0,1.0,1.0,3.0,2.0,1.0,3.0,1.0,1.0,19.0,1.0,1.0,1.0,1.0,1.0,1.0,1.0,1.0,1.0,1.0,1.0,1.0,2.0,1.0,2.0,1.0,1.0,1.0,1.0,6.0,2.0,1.0,3.0,1.0,1.0,1.0,1.0,1.0,1.0,1.0])|\n",
      "|(1000,[17,112,133,147,162,168,200,206,209,225,229,232,240,263,267,283,292,298,328,338,344,347,369,372,373,376,403,405,420,426,435,438,442,451,467,474,488,495,551,589,623,629,640,650,660,690,712,734,736,738,751,754,756,760,762,763,772,790,791,802,815,824,834,855,862,871,887,890,891,920,924,981],[6.0,1.0,1.0,1.0,1.0,1.0,1.0,1.0,1.0,1.0,1.0,2.0,1.0,2.0,1.0,1.0,1.0,1.0,1.0,4.0,3.0,1.0,1.0,1.0,2.0,1.0,2.0,1.0,1.0,2.0,1.0,1.0,2.0,1.0,3.0,1.0,3.0,1.0,1.0,1.0,1.0,1.0,1.0,1.0,1.0,1.0,2.0,1.0,1.0,1.0,1.0,1.0,2.0,1.0,1.0,2.0,1.0,1.0,1.0,1.0,2.0,1.0,1.0,1.0,2.0,1.0,1.0,1.0,3.0,1.0,1.0,1.0])                                                                                                                                                                                                                                                                                                                                                                                                                                                                                                                                                                                                                |\n",
      "|(1000,[0,13,17,22,32,48,67,73,76,80,96,104,116,125,139,151,157,162,168,187,198,209,228,240,261,263,268,281,307,326,341,344,349,358,366,370,371,372,373,385,400,401,403,405,411,420,424,431,437,441,455,467,485,488,490,495,506,516,520,521,532,550,552,567,568,569,575,580,582,583,587,596,605,622,629,650,656,663,669,676,686,699,726,728,738,749,756,760,763,779,781,788,792,796,804,824,855,869,891,903,910,925,927,939,943,962,969,987,994],[1.0,1.0,8.0,1.0,1.0,1.0,1.0,2.0,1.0,1.0,1.0,1.0,1.0,1.0,1.0,1.0,1.0,1.0,1.0,1.0,1.0,2.0,1.0,1.0,2.0,1.0,1.0,1.0,1.0,1.0,1.0,3.0,1.0,1.0,1.0,1.0,1.0,7.0,2.0,2.0,1.0,1.0,3.0,2.0,1.0,1.0,1.0,1.0,2.0,1.0,1.0,5.0,1.0,2.0,1.0,1.0,2.0,1.0,1.0,1.0,1.0,1.0,1.0,1.0,1.0,1.0,1.0,1.0,1.0,1.0,2.0,1.0,2.0,1.0,1.0,2.0,1.0,4.0,1.0,1.0,1.0,1.0,1.0,1.0,3.0,2.0,11.0,2.0,3.0,1.0,1.0,1.0,4.0,1.0,1.0,1.0,1.0,1.0,5.0,1.0,1.0,1.0,2.0,1.0,1.0,1.0,1.0,1.0,1.0])                                                                                                                                                                                                                                                                                                                  |\n",
      "|(1000,[19,68,160,225,620,855],[1.0,1.0,1.0,1.0,1.0,1.0])                                                                                                                                                                                                                                                                                                                                                                                                                                                                                                                                                                                                                                                                                                                                                                                                                                                                                                                                                                                                                                                                                                                                                                 |\n",
      "|(1000,[4,17,23,59,69,100,106,110,119,122,133,140,145,152,159,160,166,198,209,227,228,240,245,246,261,287,297,307,315,330,338,343,344,353,357,360,372,373,381,403,405,406,411,413,419,420,426,437,445,447,458,467,485,488,494,495,511,523,542,562,568,576,579,581,583,585,590,619,621,630,631,646,650,651,686,690,700,720,738,741,749,750,751,756,760,763,774,779,782,784,800,804,821,824,828,836,855,863,887,890,891,909,911,924,944,953,967,973,989,997],[1.0,3.0,2.0,1.0,4.0,1.0,1.0,1.0,1.0,1.0,1.0,1.0,1.0,1.0,1.0,1.0,1.0,3.0,3.0,1.0,1.0,1.0,3.0,1.0,2.0,1.0,1.0,2.0,1.0,1.0,1.0,1.0,4.0,1.0,1.0,1.0,4.0,5.0,1.0,1.0,1.0,1.0,1.0,1.0,2.0,1.0,1.0,2.0,1.0,1.0,1.0,7.0,2.0,3.0,1.0,2.0,1.0,2.0,1.0,1.0,5.0,1.0,1.0,1.0,2.0,1.0,3.0,1.0,2.0,1.0,1.0,1.0,2.0,3.0,4.0,2.0,6.0,2.0,1.0,2.0,3.0,1.0,1.0,7.0,1.0,1.0,1.0,1.0,1.0,4.0,1.0,1.0,1.0,1.0,1.0,1.0,3.0,1.0,1.0,1.0,4.0,1.0,1.0,1.0,2.0,2.0,1.0,1.0,1.0,1.0])                                                                                                                                                                                                                                                                                                     |\n",
      "|(1000,[17,63,72,76,133,238,242,266,284,289,299,303,316,342,344,400,405,426,437,455,467,490,495,530,635,638,676,678,686,699,803,804,855,862,864,870,931],[2.0,1.0,1.0,1.0,2.0,1.0,1.0,1.0,1.0,1.0,1.0,1.0,1.0,1.0,2.0,1.0,1.0,1.0,1.0,1.0,1.0,1.0,1.0,1.0,1.0,1.0,1.0,1.0,1.0,1.0,1.0,1.0,1.0,1.0,1.0,1.0,1.0])                                                                                                                                                                                                                                                                                                                                                                                                                                                                                                                                                                                                                                                                                                                                                                                                                                                                                                           |\n",
      "|(1000,[17,30,110,113,130,147,157,227,286,339,372,400,403,405,420,457,485,488,517,562,568,596,620,627,643,650,665,669,683,686,739,749,754,756,792,881,964],[2.0,1.0,1.0,1.0,1.0,1.0,1.0,1.0,1.0,2.0,1.0,1.0,1.0,1.0,1.0,1.0,1.0,2.0,1.0,1.0,1.0,1.0,1.0,1.0,1.0,1.0,1.0,1.0,1.0,1.0,1.0,1.0,1.0,4.0,1.0,1.0,1.0])                                                                                                                                                                                                                                                                                                                                                                                                                                                                                                                                                                                                                                                                                                                                                                                                                                                                                                         |\n",
      "|(1000,[10,17,56,65,81,109,125,150,152,165,166,177,188,190,196,209,229,245,259,299,307,326,330,335,353,355,369,373,405,437,443,447,449,457,462,467,481,485,488,495,510,533,551,553,568,574,592,604,610,627,650,663,665,686,698,712,716,720,741,743,756,760,783,786,790,792,806,825,828,832,836,890,891,900,944,947,956,960,962,974,991],[1.0,4.0,1.0,1.0,1.0,1.0,1.0,1.0,2.0,1.0,1.0,1.0,1.0,1.0,1.0,2.0,4.0,1.0,1.0,2.0,1.0,1.0,1.0,1.0,1.0,1.0,1.0,2.0,2.0,3.0,1.0,1.0,1.0,1.0,1.0,4.0,1.0,1.0,3.0,4.0,1.0,1.0,1.0,1.0,1.0,1.0,1.0,1.0,1.0,1.0,2.0,1.0,1.0,3.0,1.0,1.0,1.0,1.0,1.0,1.0,3.0,1.0,1.0,1.0,1.0,1.0,1.0,1.0,1.0,1.0,1.0,1.0,2.0,1.0,1.0,1.0,1.0,2.0,1.0,1.0,1.0])                                                                                                                                                                                                                                                                                                                                                                                                                                                                                                                                            |\n",
      "|(1000,[14,17,20,36,59,162,178,209,221,261,297,298,299,307,328,338,343,344,356,373,375,404,405,420,432,447,488,492,503,568,581,597,605,619,629,630,666,683,705,738,756,760,763,817,891,904,924,956,960,970],[1.0,3.0,1.0,1.0,2.0,1.0,1.0,1.0,1.0,1.0,1.0,2.0,2.0,1.0,1.0,1.0,1.0,2.0,1.0,1.0,1.0,1.0,2.0,1.0,1.0,1.0,3.0,1.0,1.0,1.0,1.0,1.0,1.0,1.0,1.0,1.0,1.0,1.0,1.0,2.0,1.0,1.0,1.0,1.0,2.0,1.0,1.0,1.0,1.0,1.0])                                                                                                                                                                                                                                                                                                                                                                                                                                                                                                                                                                                                                                                                                                                                                                                                    |\n",
      "|(1000,[7,15,17,131,168,209,273,372,405,511,519,605,663,691,706,728,768],[1.0,1.0,3.0,1.0,1.0,1.0,1.0,1.0,1.0,1.0,1.0,1.0,1.0,1.0,2.0,1.0,1.0])                                                                                                                                                                                                                                                                                                                                                                                                                                                                                                                                                                                                                                                                                                                                                                                                                                                                                                                                                                                                                                                                           |\n",
      "|(1000,[14,17,19,44,246,270,317,367,372,373,405,412,438,467,485,488,495,526,543,568,605,619,630,631,650,660,663,681,683,756,758,760,761,792,889,891,904,963,989],[1.0,2.0,1.0,1.0,1.0,2.0,1.0,1.0,5.0,1.0,2.0,1.0,1.0,2.0,2.0,1.0,2.0,1.0,1.0,1.0,1.0,1.0,1.0,1.0,1.0,1.0,1.0,1.0,2.0,7.0,1.0,1.0,1.0,2.0,1.0,1.0,1.0,1.0,1.0])                                                                                                                                                                                                                                                                                                                                                                                                                                                                                                                                                                                                                                                                                                                                                                                                                                                                                           |\n",
      "|(1000,[10,17,157,166,228,256,299,307,326,330,344,373,381,402,403,405,414,467,475,495,508,511,540,627,640,663,683,686,749,756,757,815,823,885,891,904,905,911,970],[1.0,2.0,2.0,1.0,1.0,1.0,1.0,1.0,1.0,1.0,1.0,2.0,2.0,1.0,1.0,1.0,1.0,2.0,1.0,2.0,1.0,1.0,1.0,2.0,1.0,1.0,3.0,1.0,1.0,3.0,1.0,1.0,1.0,1.0,1.0,1.0,1.0,1.0,1.0])                                                                                                                                                                                                                                                                                                                                                                                                                                                                                                                                                                                                                                                                                                                                                                                                                                                                                         |\n",
      "|(1000,[17,47,80,94,157,162,178,273,328,344,354,407,495,501,612,619,634,663,686,690,743,750,760,763,793,797,841,853,883,924],[1.0,1.0,1.0,1.0,1.0,1.0,1.0,1.0,1.0,1.0,1.0,1.0,1.0,1.0,1.0,1.0,1.0,1.0,1.0,1.0,1.0,1.0,1.0,1.0,1.0,1.0,1.0,1.0,1.0,1.0])                                                                                                                                                                                                                                                                                                                                                                                                                                                                                                                                                                                                                                                                                                                                                                                                                                                                                                                                                                   |\n",
      "|(1000,[17,20,34,38,82,94,133,166,209,213,218,234,245,269,281,339,349,375,377,389,406,415,420,465,467,473,478,488,502,510,546,557,577,617,619,650,653,663,686,691,736,750,753,760,762,763,789,790,793,824,867,871,891,893,913,921,925,943,945,964,988],[11.0,1.0,1.0,1.0,1.0,1.0,1.0,2.0,3.0,1.0,1.0,1.0,1.0,1.0,1.0,1.0,1.0,1.0,1.0,1.0,1.0,1.0,1.0,1.0,3.0,2.0,1.0,3.0,1.0,1.0,1.0,1.0,1.0,1.0,1.0,2.0,1.0,4.0,1.0,1.0,3.0,1.0,1.0,2.0,1.0,2.0,1.0,1.0,1.0,1.0,2.0,1.0,5.0,1.0,1.0,1.0,1.0,1.0,1.0,1.0,1.0])                                                                                                                                                                                                                                                                                                                                                                                                                                                                                                                                                                                                                                                                                                            |\n",
      "|(1000,[17,310,344,360,402,405,523,524,739,741,748,756,809,828,891,955,962],[4.0,1.0,1.0,2.0,1.0,2.0,1.0,1.0,1.0,1.0,1.0,1.0,1.0,2.0,1.0,1.0,2.0])                                                                                                                                                                                                                                                                                                                                                                                                                                                                                                                                                                                                                                                                                                                                                                                                                                                                                                                                                                                                                                                                        |\n",
      "+-------------------------------------------------------------------------------------------------------------------------------------------------------------------------------------------------------------------------------------------------------------------------------------------------------------------------------------------------------------------------------------------------------------------------------------------------------------------------------------------------------------------------------------------------------------------------------------------------------------------------------------------------------------------------------------------------------------------------------------------------------------------------------------------------------------------------------------------------------------------------------------------------------------------------------------------------------------------------------------------------------------------------------------------------------------------------------------------------------------------------------------------------------------------------------------------------------------------------+\n",
      "only showing top 20 rows"
     ]
    }
   ],
   "source": [
    "from pyspark.ml.feature import HashingTF\n",
    "\n",
    "# Compute term frequencies\n",
    "hashingTF = HashingTF(inputCol=\"words\", outputCol=\"rawFeatures\", numFeatures=1000)\n",
    "df = hashingTF.transform(df)\n",
    "\n",
    "# Show raw features (term frequencies)\n",
    "df.select(\"rawFeatures\").show(truncate=False)\n"
   ]
  },
  {
   "cell_type": "code",
   "execution_count": 27,
   "id": "bbcfd162-72af-4324-b820-e0eedd3b5092",
   "metadata": {
    "execution": {
     "iopub.execute_input": "2024-11-20T01:39:21.489907Z",
     "iopub.status.busy": "2024-11-20T01:39:21.489677Z",
     "iopub.status.idle": "2024-11-20T01:39:34.922019Z",
     "shell.execute_reply": "2024-11-20T01:39:34.860658Z",
     "shell.execute_reply.started": "2024-11-20T01:39:21.489882Z"
    },
    "tags": []
   },
   "outputs": [
    {
     "data": {
      "application/vnd.jupyter.widget-view+json": {
       "model_id": "6c6079ae992f4907b6185b571b11404b",
       "version_major": 2,
       "version_minor": 0
      },
      "text/plain": [
       "VBox()"
      ]
     },
     "metadata": {},
     "output_type": "display_data"
    },
    {
     "data": {
      "application/vnd.jupyter.widget-view+json": {
       "model_id": "",
       "version_major": 2,
       "version_minor": 0
      },
      "text/plain": [
       "FloatProgress(value=0.0, bar_style='info', description='Progress:', layout=Layout(height='25px', width='50%'),…"
      ]
     },
     "metadata": {},
     "output_type": "display_data"
    },
    {
     "name": "stdout",
     "output_type": "stream",
     "text": [
      "+---------------------------------------------------------------------------------------------------------------------------------------------------------------------------------------------------------------------------------------------------------------------------------------------------------------------------------------------------------------------------------------------------------------------------------------------------------------------------------------------------------------------------------------------------------------------------------------------------------------------------------------------------------------------------------------------------------------------------------------------------------------------------------------------------------------------------------------------------------------------------------------------------------------------------------------------------------------------------------------------------------------------------------------------------------------------------------------------------------------------------------------------------------------------------------------------------------------------------------------------------------------------------------------------------------------------------------------------------------------------------------------------------------------------------------------------------------------------------------------------------------------------------------------------------------------------------------------------------------------------------------------------------------------------------------------------------------------------------------------------------------------------------------------------------------------------------------------------------------------------------------------------------------------------------------------------------------------------------------------------------------------------------------------------------------------------------------------------------------------------------------------------------------------------------------------------------------------------------------------------------------------------------------------------------------------------------------------------------------------------------------------------------------------------------------------------------------------------------------------------------------------------------------------------------------------------------------------------------------------------------------------------------------------------------------------------------------------------------------------------------------------------------------------------------------------------------------------------------------------------------------------------------------------------------------------------------------------------------------------------------------------------------------------------------------------------------------------------------------------------------------------------------------------------------------------------------------------------------------------------------------------------------------------------------------------------------------------------------------------------------------------------------------------------------------+\n",
      "|tfidfFeatures                                                                                                                                                                                                                                                                                                                                                                                                                                                                                                                                                                                                                                                                                                                                                                                                                                                                                                                                                                                                                                                                                                                                                                                                                                                                                                                                                                                                                                                                                                                                                                                                                                                                                                                                                                                                                                                                                                                                                                                                                                                                                                                                                                                                                                                                                                                                                                                                                                                                                                                                                                                                                                                                                                                                                                                                                                                                                                                                                                                                                                                                                                                                                                                                                                                                                                                                                                                                                    |\n",
      "+---------------------------------------------------------------------------------------------------------------------------------------------------------------------------------------------------------------------------------------------------------------------------------------------------------------------------------------------------------------------------------------------------------------------------------------------------------------------------------------------------------------------------------------------------------------------------------------------------------------------------------------------------------------------------------------------------------------------------------------------------------------------------------------------------------------------------------------------------------------------------------------------------------------------------------------------------------------------------------------------------------------------------------------------------------------------------------------------------------------------------------------------------------------------------------------------------------------------------------------------------------------------------------------------------------------------------------------------------------------------------------------------------------------------------------------------------------------------------------------------------------------------------------------------------------------------------------------------------------------------------------------------------------------------------------------------------------------------------------------------------------------------------------------------------------------------------------------------------------------------------------------------------------------------------------------------------------------------------------------------------------------------------------------------------------------------------------------------------------------------------------------------------------------------------------------------------------------------------------------------------------------------------------------------------------------------------------------------------------------------------------------------------------------------------------------------------------------------------------------------------------------------------------------------------------------------------------------------------------------------------------------------------------------------------------------------------------------------------------------------------------------------------------------------------------------------------------------------------------------------------------------------------------------------------------------------------------------------------------------------------------------------------------------------------------------------------------------------------------------------------------------------------------------------------------------------------------------------------------------------------------------------------------------------------------------------------------------------------------------------------------------------------------------------------------+\n",
      "|(1000,[17,22,32,61,62,76,90,97,125,137,146,162,178,203,224,239,240,261,268,270,301,310,314,338,344,373,399,403,413,416,426,447,465,467,472,485,488,495,526,546,548,552,559,568,569,574,605,617,629,630,661,670,681,683,686,698,705,728,736,741,749,756,758,760,778,779,805,837,884,891,897,898,903,909,911,924,939,943,944,962,965,973,981],[0.9869082920963614,3.336106398721751,2.9898871723798215,2.2626088348347113,4.528588533722144,1.6252502853046034,4.029643214977256,3.48993249806643,2.3749473314458496,3.802610121614383,3.2896749233240272,1.3938201490411852,2.82746469283493,3.378276529201836,2.7497491408591928,4.340719704328842,1.9367500745219965,1.810236423792257,2.9624360669550307,2.791348058981897,6.05044911279081,2.210463706290344,2.431334816278208,1.2196209292755658,0.6098869809336921,0.984769036315909,3.8753811951732633,3.2215937428039965,3.1929795847651476,3.348256264035775,1.798364099775668,1.527670755126458,3.2417528685908956,0.6308500121983879,4.026530371996765,2.109447801860454,0.7528949571544824,0.4708493656066564,1.8091358945806513,2.8727473121946843,3.3164336331230464,2.181562840802588,2.633267341560781,0.8141088981446118,1.3666023375557892,3.229772457502781,0.6866409587622795,3.337665853228821,3.5281105526817695,3.1343030800542455,3.4935738311750035,4.8550977296992,2.689609095494174,1.806613331458354,0.520672020000869,2.3500803103904118,3.7169454066607637,2.3505163886006804,2.313311206208409,1.104422056496859,2.4889368069291185,1.4825076814816516,3.7792818691234746,0.7967123014526003,3.4781889123355243,2.25862211859089,1.514981034689332,3.0843159551128188,3.458624037487333,1.6817702150611247,2.7393997599971893,2.735332538292821,2.5201246854609,3.264701168569095,1.5258844707599364,1.6045577296613538,2.948062649421123,2.211095857521965,1.4363797634599813,3.211047160059285,4.420407864932542,6.264153940111196,2.698011645186989])                                                                                                                                                                                                                                                                                                                                                                                                                                                                                                                                                                                                                                                                                                                                                                                                                                                                                                                                                                                                                                                                                                                                                                                                                                                                                                                                                                                                                                                                                           |\n",
      "|(1000,[11,17,31,34,46,48,53,61,74,76,80,85,95,109,113,145,148,157,171,174,185,209,245,257,261,276,284,285,304,307,328,330,332,338,341,342,344,348,356,362,372,373,381,400,403,405,422,440,442,447,462,467,485,488,495,523,526,527,528,531,536,541,543,546,568,569,576,591,597,605,606,619,621,629,644,645,646,650,653,656,657,663,664,669,682,683,686,690,691,700,704,714,717,721,734,741,749,756,760,763,782,791,797,815,818,824,840,845,855,864,866,883,890,894,907,919,921,922,929,944,955,960,962,990,996],[2.883342458739951,0.9869082920963614,8.062406555392315,3.0755717413992123,3.6338374953787445,1.1350800282376827,3.854884609866426,2.2626088348347113,3.0082414139870557,3.2505005706092067,3.237309391720089,3.059195016899811,13.896622981271609,3.5717942148818183,3.143900082695255,3.8983551785727677,3.7995093439361347,1.9081333785691088,3.8660726173201523,3.408388105080399,2.8246576734479456,2.6123488140043087,7.564513105463835,2.181931278018914,1.810236423792257,4.31388421548431,11.835699888811721,4.930849537839525,3.0764727776517926,1.4183019371184473,7.174869443712363,2.206420123563153,2.8685893020460207,2.4392418585511315,2.9135182459270603,3.2822647375077967,3.6593218856021528,3.0761723420178666,2.117016645332971,3.8431733504455243,1.6406442328887834,1.4771535544738634,2.394201837235986,1.8713587977913393,2.147729161869331,2.3034193598072017,3.892901858991454,2.914795548438184,2.832396016671117,6.110683020505832,3.737683477048691,2.2079750426943576,2.109447801860454,1.882237392886206,1.4125480968199693,2.049152533137034,1.8091358945806513,2.4195819582811136,3.6816575111967205,3.516637584119315,3.7215168431933443,2.8121226903782497,2.3193130556034762,2.8727473121946843,0.8141088981446118,1.3666023375557892,3.244592771103035,3.0416301625050166,3.4125845023421646,0.6866409587622795,2.7540931963438484,4.875954514551344,3.706171273518684,1.7640552763408848,3.3368858219880217,3.279315970166544,2.278310694035792,0.9409062585877902,6.523764607669442,2.5592971654966243,3.4719221057919647,4.097581664248076,2.7922522181755003,4.278733090973719,4.348194378745548,5.419839994375062,1.562016060002607,1.8541300743836455,2.905128721697724,2.1677829751754634,1.7248781148912598,2.045287794027145,3.9488213876694487,4.053303624696824,5.338378894926303,8.835376451974872,1.2444684034645592,0.9883384543211011,0.7967123014526003,1.0336381804965242,3.5152386564022478,3.24637181444719,3.91907415176472,1.4889069400363606,2.820694502390436,1.4090721541849682,2.8167469760753634,4.048526545548545,2.4348358477228027,2.878154059207132,3.459945914745249,3.311100287147684,3.2467027004944415,3.9787397081604166,4.035114115688157,2.9451598897631617,1.4931542764513186,2.3747983556541405,3.6690787289898603,1.4363797634599813,14.706075557360725,2.187103703343902,1.6055235800296426,3.114444271404642,3.408388105080399])                                                                                                                                                                                                                                                                                                                                                                                                                                                                                                 |\n",
      "|(1000,[13,17,23,46,48,56,60,80,85,125,133,161,162,168,207,209,229,245,263,274,289,301,315,330,337,338,348,349,355,362,373,378,400,405,413,426,430,437,467,475,485,488,492,495,498,510,521,526,545,552,568,583,605,610,631,634,648,650,663,672,673,683,686,693,696,714,730,734,735,736,738,741,749,756,761,770,780,792,805,815,818,824,825,855,866,875,889,891,899,905,908,911,921,924,933,940,948,954,956,960,989,991,994],[3.510589647564004,1.3158777227951486,3.3589600332264697,3.6338374953787445,2.2701600564753655,2.942265531736797,4.258061761428226,3.237309391720089,3.059195016899811,4.749894662891699,2.55008931195801,10.067329753372727,1.3938201490411852,3.1959195351626284,4.1908334232880415,1.0449395256017235,4.897010698830449,4.538707863278301,1.0438982955650595,7.27819579355585,1.6907795587201282,3.025224556395405,6.5800937558997035,2.206420123563153,4.177190646884255,1.2196209292755658,3.0761723420178666,2.676833904005451,2.9292139238624557,3.8431733504455243,2.461922590789772,3.162392093814314,5.614076393374018,3.071225813076269,3.1929795847651476,1.798364099775668,2.7000718024875394,6.742127107915872,0.6308500121983879,3.127955867377274,2.109447801860454,2.2586848714634473,2.8922999707356567,0.9416987312133128,3.989164225496301,2.218585578347693,4.286876472308019,1.8091358945806513,3.5045780687660173,2.181562840802588,2.4423266944338353,2.3559103808318937,6.866409587622795,3.3839815161502202,2.9554897392647383,2.98466522839867,3.8601339657525697,1.8818125171755804,1.3658605547493587,3.5288443084580265,2.84853305407409,3.613226662916708,1.041344040001738,1.9771596128598732,3.7636283285434713,2.045287794027145,4.240585588493665,1.7794596316421012,6.246443514451731,3.4699668093126137,2.3888999994739692,2.208844112993718,8.711278824251915,1.9766769086422022,3.0752715763061587,2.607935066088553,5.170130479485807,3.8297638558836113,1.514981034689332,2.977813880072721,2.820694502390436,1.4090721541849682,2.730856350492877,1.2174179238614014,3.459945914745249,2.961096482025974,2.3875412010464383,0.5605900716870416,1.7591337286280624,4.2046649024365035,4.2111856521369395,1.5258844707599364,4.479462829353956,1.6045577296613538,3.047159057718283,6.330686798897789,3.335327582483008,3.427412141085096,1.6098814882165915,2.187103703343902,2.15766118735128,4.046939243627972,4.218690377791008])                                                                                                                                                                                                                                                                                                                                                                                                                                                                                                                                                                                                                                                                                                                                                                                                                                                                                                                                                                                                                         |\n",
      "|(1000,[23,45,130,147,205,263,288,310,415,437,543,553,762,763,806,855],[3.3589600332264697,3.6110149280350994,2.7543108952670985,3.1490563944741954,4.241548515867058,1.0438982955650595,2.7089791632964775,2.210463706290344,2.6529426621459895,1.685531776978968,2.3193130556034762,3.3754361945676132,3.1604293846464655,1.0336381804965242,3.85816222669773,1.2174179238614014])                                                                                                                                                                                                                                                                                                                                                                                                                                                                                                                                                                                                                                                                                                                                                                                                                                                                                                                                                                                                                                                                                                                                                                                                                                                                                                                                                                                                                                                                                                                                                                                                                                                                                                                                                                                                                                                                                                                                                                                                                                                                                                                                                                                                                                                                                                                                                                                                                                                                                                                                                                                                                                                                                                                                                                                                                                                                                                                                                                                                                                              |\n",
      "|(1000,[17,26,54,168,206,225,330,344,436,467,495,547,605,619,663,672,763,764,784,805,845,883,943,956],[0.16448471534939357,3.2690632256492607,4.208385836962194,1.5979597675813142,2.6375201993143325,3.825859676534614,1.1032100617815765,0.6098869809336921,3.311480298552599,1.2617000243967758,0.9416987312133128,2.9896116523339953,0.6866409587622795,2.437977257275672,0.6829302773746794,3.5288443084580265,1.0336381804965242,3.1455085758842594,3.5412018801642584,1.514981034689332,4.048526545548545,3.311100287147684,2.211095857521965,1.6098814882165915])                                                                                                                                                                                                                                                                                                                                                                                                                                                                                                                                                                                                                                                                                                                                                                                                                                                                                                                                                                                                                                                                                                                                                                                                                                                                                                                                                                                                                                                                                                                                                                                                                                                                                                                                                                                                                                                                                                                                                                                                                                                                                                                                                                                                                                                                                                                                                                                                                                                                                                                                                                                                                                                                                                                                                                                                                                                         |\n",
      "|(1000,[6,17,21,36,38,59,66,76,80,96,97,106,108,110,133,135,139,143,147,152,157,160,162,166,168,169,195,196,206,209,213,222,231,235,240,263,278,281,286,287,289,292,293,298,299,314,320,326,330,344,352,354,358,365,369,372,373,391,403,405,407,415,420,424,433,437,467,470,475,485,488,490,492,510,523,524,526,533,566,568,569,581,601,605,616,620,629,633,643,646,650,666,673,676,681,683,686,693,694,697,700,704,705,706,708,711,712,714,716,732,736,738,741,749,750,755,756,760,770,774,775,779,782,785,792,824,831,838,844,855,857,862,867,868,873,883,891,897,899,911,921,944,949,958,960,975,989],[3.9545892479281335,1.6448471534939357,2.8406693176138753,4.360054356036298,5.692287133353417,2.756708716579451,3.2972230144437624,1.6252502853046034,3.237309391720089,2.460605198578321,3.48993249806643,4.205593838871162,3.625477990062654,7.3154606459012825,1.275044655979005,3.2581935534123567,5.942104335291644,12.04482827047313,3.1490563944741954,2.270227664711198,1.9081333785691088,2.5641458775191612,5.575280596164741,5.454947188652264,1.5979597675813142,3.0040403155242275,2.865908008544443,2.9404280197353283,2.6375201993143325,1.5674092884025854,2.551801146102391,2.452039489639899,3.61667192435024,4.250256843758843,1.9367500745219965,1.0438982955650595,4.446080219986668,2.6547148394336646,3.071377607030563,2.5424213764221655,1.6907795587201282,4.694066151869886,3.825224150615543,3.109152430261693,0.9555363909433061,2.431334816278208,2.994029108440718,2.4560707778535305,4.412840247126306,1.8296609428010764,2.574278043085077,2.7217528685488634,3.4630371073149218,3.418912302405984,1.6931877477226114,6.562576931555133,3.4466916271056816,2.37033937085831,1.0738645809346654,1.5356129065381345,3.1683034410773714,2.6529426621459895,1.671056521446939,9.42495758992551,3.3092023932396053,1.685531776978968,2.2079750426943576,2.6924703277752062,3.127955867377274,2.109447801860454,2.2586848714634473,5.794120189937501,2.8922999707356567,2.218585578347693,4.098305066274068,2.015727951527076,1.8091358945806513,3.3786829506664833,2.7368290644940885,0.8141088981446118,2.7332046751115784,2.178375391738843,2.720699682564205,2.746563835049118,2.9898871723798215,3.461711140269818,1.7640552763408848,4.42156060281235,2.509500870667032,4.556621388071584,0.9409062585877902,3.0071193942340004,2.84853305407409,3.2982650788542376,2.689609095494174,2.709919997187531,4.165376160006952,1.9771596128598732,3.3605555660739266,3.0683925301871096,10.838914875877316,3.4497562297825195,3.7169454066607637,3.87337919250259,3.3926004900888964,6.961773511396928,1.8364103125003104,2.045287794027145,3.673982034918381,4.308273111301567,3.4699668093126137,4.7777999989479385,1.104422056496859,3.733405210393678,1.911689436967409,4.408952985957775,4.69460765802523,0.7967123014526003,2.607935066088553,3.6571931217558795,3.0737721008415178,2.25862211859089,3.5152386564022478,3.5851972450091583,1.9148819279418057,1.4090721541849682,3.2848520610727476,3.507810581393738,3.8438203902610457,2.4348358477228027,3.032962093207609,5.451107097599311,3.3983880217458156,3.6734360343588164,2.7863897436624736,3.311100287147684,1.6817702150611247,5.478799519994379,1.7591337286280624,4.577653412279809,1.4931542764513186,1.4363797634599813,3.0955845378823605,2.9109685250148822,2.187103703343902,3.243171811716519,2.15766118735128])|\n",
      "|(1000,[17,112,133,147,162,168,200,206,209,225,229,232,240,263,267,283,292,298,328,338,344,347,369,372,373,376,403,405,420,426,435,438,442,451,467,474,488,495,551,589,623,629,640,650,660,690,712,734,736,738,751,754,756,760,762,763,772,790,791,802,815,824,834,855,862,871,887,890,891,920,924,981],[0.9869082920963614,1.7387394903579922,1.275044655979005,3.1490563944741954,1.3938201490411852,1.5979597675813142,4.025753672928593,2.6375201993143325,0.5224697628008618,3.825859676534614,2.4485053494152247,5.958395492433072,1.9367500745219965,2.087796591130119,3.000413585366809,3.6921693645613263,2.347033075934943,3.109152430261693,2.391623147904121,4.878483717102263,1.8296609428010764,2.843283698187946,1.6931877477226114,0.5468814109629277,0.984769036315909,3.706171273518684,2.147729161869331,0.7678064532690673,1.671056521446939,3.596728199551336,2.9832955527976095,3.977999241632693,5.664792033342234,2.31903124638645,0.9462750182975819,4.061316488082181,1.1293424357317237,0.4708493656066564,3.0937485520545076,2.6782453368438586,3.1594494727601163,1.7640552763408848,3.666365023118264,0.9409062585877902,2.86129354984031,1.8541300743836455,3.672820625000621,1.7794596316421012,1.1566556031042046,2.3888999994739692,1.9863095434702105,1.8098976704014837,0.49416922716055056,0.7967123014526003,3.1604293846464655,2.0672763609930485,3.925374487620971,2.545950584249736,3.24637181444719,3.6317410585522163,2.977813880072721,1.4090721541849682,2.775878632687171,1.2174179238614014,5.451107097599311,2.614539486735814,2.920178106608338,1.6233513502472208,0.8408851075305623,3.7106936102254946,1.6045577296613538,2.698011645186989])                                                                                                                                                                                                                                                                                                                                                                                                                                                                                                                                                                                                                                                                                                                                                                                                                                                                                                                                                                                                                                                                                                                                                                                                                                                                                                                                                                                                                                                                                                                                                                                                                                                                                                                                  |\n",
      "|(1000,[0,13,17,22,32,48,67,73,76,80,96,104,116,125,139,151,157,162,168,187,198,209,228,240,261,263,268,281,307,326,341,344,349,358,366,370,371,372,373,385,400,401,403,405,411,420,424,431,437,441,455,467,485,488,490,495,506,516,520,521,532,550,552,567,568,569,575,580,582,583,587,596,605,622,629,650,656,663,669,676,686,699,726,728,738,749,756,760,763,779,781,788,792,796,804,824,855,869,891,903,910,925,927,939,943,962,969,987,994],[3.164686800607183,3.510589647564004,1.3158777227951486,3.336106398721751,2.9898871723798215,1.1350800282376827,2.904369516296206,4.92966844489576,1.6252502853046034,1.6186546958600445,2.460605198578321,3.8707160750831067,2.3870886782240244,2.3749473314458496,2.971052167645822,4.022652895250345,1.9081333785691088,1.3938201490411852,1.5979597675813142,3.890186310818972,2.946742168574291,1.0449395256017235,2.4942773019642046,1.9367500745219965,3.620472847584514,1.0438982955650595,2.9624360669550307,2.6547148394336646,1.4183019371184473,2.4560707778535305,2.9135182459270603,1.8296609428010764,2.676833904005451,3.4630371073149218,3.825224150615543,2.775878632687171,3.278947984881803,3.8281698767404944,0.984769036315909,4.851665910701873,1.8713587977913393,3.281895665719145,3.2215937428039965,1.5356129065381345,2.8888069532120295,1.671056521446939,3.14165252997517,1.826288681040414,3.371063553957936,4.025753672928593,3.2978900554108774,1.5771250304959696,2.109447801860454,0.7528949571544824,2.8970600949687504,0.4708493656066564,5.154383808377687,3.910043176874182,2.865908008544443,4.286876472308019,3.563935628269297,3.5590551891043885,2.181562840802588,3.5364308787478915,0.8141088981446118,1.3666023375557892,3.860792076997119,2.6296089183025884,3.9352545962206777,2.3559103808318937,6.289086339068276,3.01274212481927,1.373281917524559,3.3839815161502202,1.7640552763408848,1.8818125171755804,2.5592971654966243,2.7317211094987175,2.1393665454868596,3.2982650788542376,0.520672020000869,2.7796677824341915,2.863476692005157,2.3505163886006804,7.166699998421908,2.4889368069291185,2.717930749383028,1.5934246029052006,3.1009145414895727,2.25862211859089,3.350624997871326,3.733617250127432,7.659527711767223,3.4639220631248886,1.9915759117286023,1.4090721541849682,1.2174179238614014,3.2045247045116896,1.401475179217604,2.5201246854609,3.937384522478503,2.921721316791144,6.939386888589007,2.948062649421123,2.211095857521965,1.6055235800296426,3.5595421625739583,4.231960714711905,4.218690377791008])                                                                                                                                                                                                                                                                                                                                                                                                                                                                                                                                                                                                                                                                                                                                                                                                                                                                                 |\n",
      "|(1000,[19,68,160,225,620,855],[4.060512306293767,3.4931179387577163,2.5641458775191612,3.825859676534614,3.461711140269818,1.2174179238614014])                                                                                                                                                                                                                                                                                                                                                                                                                                                                                                                                                                                                                                                                                                                                                                                                                                                                                                                                                                                                                                                                                                                                                                                                                                                                                                                                                                                                                                                                                                                                                                                                                                                                                                                                                                                                                                                                                                                                                                                                                                                                                                                                                                                                                                                                                                                                                                                                                                                                                                                                                                                                                                                                                                                                                                                                                                                                                                                                                                                                                                                                                                                                                                                                                                                                                  |\n",
      "|(1000,[4,17,23,59,69,100,106,110,119,122,133,140,145,152,159,160,166,198,209,227,228,240,245,246,261,287,297,307,315,330,338,343,344,353,357,360,372,373,381,403,405,406,411,413,419,420,426,437,445,447,458,467,485,488,494,495,511,523,542,562,568,576,579,581,583,585,590,619,621,630,631,646,650,651,686,690,700,720,738,741,749,750,751,756,760,763,774,779,782,784,800,804,821,824,828,836,855,863,887,890,891,909,911,924,944,953,967,973,989,997],[3.184574761376782,0.4934541460481807,6.7179200664529395,2.756708716579451,12.344538754254119,3.345106655132879,4.205593838871162,3.6577303229506413,3.9936653583770925,3.532630399114117,1.275044655979005,4.084923607973448,3.8983551785727677,2.270227664711198,3.888154478084745,2.5641458775191612,1.8183157295507546,8.840226505722873,1.5674092884025854,3.0497887159173556,2.4942773019642046,1.9367500745219965,4.538707863278301,3.6844130929899674,3.620472847584514,2.5424213764221655,2.7148222517071368,2.8366038742368946,3.2900468779498517,1.1032100617815765,1.2196209292755658,3.5498474671571123,2.4395479237347684,2.895303727687485,3.2874460962497944,2.9433170565445175,2.187525643851711,2.461922590789772,2.394201837235986,1.0738645809346654,0.7678064532690673,2.002603182956311,2.8888069532120295,3.1929795847651476,7.757453597658372,1.671056521446939,1.798364099775668,3.371063553957936,3.74762798719703,1.527670755126458,3.9155910413118997,2.2079750426943576,4.218895603720908,1.1293424357317237,2.836878742120403,0.9416987312133128,2.972675983970149,4.098305066274068,3.238214294480992,3.792106472373854,4.0705444907230595,3.244592771103035,3.2017961898584857,2.178375391738843,4.7118207616637875,2.930771152311062,6.485237303261461,2.437977257275672,7.412342547037368,3.1343030800542455,2.9554897392647383,2.278310694035792,1.8818125171755804,11.578428862000797,2.082688080003476,3.708260148767291,13.006697851052781,6.501308952478382,2.3888999994739692,2.208844112993718,3.733405210393678,1.911689436967409,1.9863095434702105,1.729592295061927,0.7967123014526003,1.0336381804965242,3.6571931217558795,2.25862211859089,3.5152386564022478,14.164807520657034,3.5792181539531005,1.9915759117286023,2.834045210118301,1.4090721541849682,3.2859629665748873,3.491296444629325,3.652253771584204,2.9091875806438874,2.920178106608338,1.6233513502472208,1.1211801433740831,3.264701168569095,1.5258844707599364,1.6045577296613538,2.8727595269199626,6.615373334591519,2.136780134451811,3.132076970055598,2.15766118735128,3.8895085744324738])                                                                                                                                                                                                                                                                                                                                                                                                                                                                                                                                                                                                                                                                                                                                                                                                                                                   |\n",
      "|(1000,[17,63,72,76,133,238,242,266,284,289,299,303,316,342,344,400,405,426,437,455,467,490,495,530,635,638,676,678,686,699,803,804,855,862,864,870,931],[0.32896943069878715,3.027510924924981,3.619253903579652,1.6252502853046034,2.55008931195801,3.627561324149508,3.542158818036326,3.5841982439270734,3.945233296270574,1.6907795587201282,0.9555363909433061,3.055068868988639,3.2294222561334167,3.2822647375077967,1.2197739618673842,1.8713587977913393,0.7678064532690673,1.798364099775668,1.685531776978968,3.2978900554108774,0.31542500609919394,2.8970600949687504,0.4708493656066564,4.5506530239062455,3.003481500198146,3.400878683058268,3.2982650788542376,2.6452993128334215,0.520672020000869,2.7796677824341915,3.9331291969083644,1.9915759117286023,1.2174179238614014,2.7255535487996556,2.878154059207132,3.543116672515691,3.22837238727058])                                                                                                                                                                                                                                                                                                                                                                                                                                                                                                                                                                                                                                                                                                                                                                                                                                                                                                                                                                                                                                                                                                                                                                                                                                                                                                                                                                                                                                                                                                                                                                                                                                                                                                                                                                                                                                                                                                                                                                                                                                                                                                                                                                                                                                                                                                                                                                                                                                                                                                                                                       |\n",
      "|(1000,[17,30,110,113,130,147,157,227,286,339,372,400,403,405,420,457,485,488,517,562,568,596,620,627,643,650,665,669,683,686,739,749,754,756,792,881,964],[0.32896943069878715,3.419335582835584,3.6577303229506413,3.143900082695255,2.7543108952670985,3.1490563944741954,1.9081333785691088,3.0497887159173556,3.071377607030563,6.291661170450626,0.5468814109629277,1.8713587977913393,1.0738645809346654,0.7678064532690673,1.671056521446939,3.3345493723270025,2.109447801860454,0.7528949571544824,3.301270340319701,3.792106472373854,0.8141088981446118,3.01274212481927,3.461711140269818,2.847815608150693,2.509500870667032,0.9409062585877902,2.948591330374489,2.1393665454868596,0.903306665729177,0.520672020000869,2.196905878732332,1.2444684034645592,1.8098976704014837,0.9883384543211011,1.9148819279418057,3.4494195017582614,3.052425307454989])                                                                                                                                                                                                                                                                                                                                                                                                                                                                                                                                                                                                                                                                                                                                                                                                                                                                                                                                                                                                                                                                                                                                                                                                                                                                                                                                                                                                                                                                                                                                                                                                                                                                                                                                                                                                                                                                                                                                                                                                                                                                                                                                                                                                                                                                                                                                                                                                                                                                                                                                                       |\n",
      "|(1000,[10,17,56,65,81,109,125,150,152,165,166,177,188,190,196,209,229,245,259,299,307,326,330,335,353,355,369,373,405,437,443,447,449,457,462,467,481,485,488,495,510,533,551,553,568,574,592,604,610,627,650,663,665,686,698,712,716,720,741,743,756,760,783,786,790,792,806,825,828,832,836,890,891,900,944,947,956,960,962,974,991],[2.452361395324314,0.6579388613975743,2.942265531736797,3.5359550281559953,3.647572523768897,3.5717942148818183,2.3749473314458496,2.0998968480748874,4.540455329422396,2.4285015072838023,1.8183157295507546,2.8449509606915853,2.277769788005024,3.740598081268772,2.9404280197353283,1.0449395256017235,9.794021397660899,1.512902621092767,3.186250084268208,1.9110727818866122,1.4183019371184473,2.4560707778535305,1.1032100617815765,2.354449673589993,2.895303727687485,2.9292139238624557,1.6931877477226114,0.984769036315909,1.5356129065381345,5.056595330936904,3.3225639205204414,1.527670755126458,3.8188910072185207,3.3345493723270025,3.737683477048691,1.2617000243967758,3.737683477048691,2.109447801860454,1.1293424357317237,1.8833974624266256,2.218585578347693,3.3786829506664833,3.0937485520545076,3.3754361945676132,0.8141088981446118,3.229772457502781,3.3080653834525298,4.1478160382043505,3.3839815161502202,2.847815608150693,1.8818125171755804,0.6829302773746794,2.948591330374489,1.562016060002607,2.3500803103904118,1.8364103125003104,3.673982034918381,3.250654476239191,1.104422056496859,3.5484013353071124,0.7412538407408258,0.7967123014526003,2.331934651222358,3.772629289402447,2.545950584249736,1.9148819279418057,3.85816222669773,2.730856350492877,3.2859629665748873,3.5231919146994124,3.491296444629325,1.6233513502472208,0.5605900716870416,4.1575120154432295,1.4363797634599813,3.0952783060624816,1.6098814882165915,4.374207406687804,1.6055235800296426,3.538813534151959,4.046939243627972])                                                                                                                                                                                                                                                                                                                                                                                                                                                                                                                                                                                                                                                                                                                                                                                                                                                                                                                                                                                                                                                                                                                                                                                                                                                                                                                                                                                                                                                                                                                        |\n",
      "|(1000,[14,17,20,36,59,162,178,209,221,261,297,298,299,307,328,338,343,344,356,373,375,404,405,420,432,447,488,492,503,568,581,597,605,619,629,630,666,683,705,738,756,760,763,817,891,904,924,956,960,970],[3.9936653583770925,0.4934541460481807,4.528588533722144,4.360054356036298,5.513417433158902,1.3938201490411852,2.82746469283493,0.5224697628008618,3.6074316121968155,1.810236423792257,2.7148222517071368,6.218304860523386,1.9110727818866122,1.4183019371184473,2.391623147904121,1.2196209292755658,3.5498474671571123,1.2197739618673842,2.117016645332971,0.4923845181579545,3.8793972648281536,2.9624360669550307,1.5356129065381345,1.671056521446939,4.165515615303751,1.527670755126458,1.1293424357317237,2.8922999707356567,3.606410161648351,0.8141088981446118,2.178375391738843,3.4125845023421646,0.6866409587622795,2.437977257275672,1.7640552763408848,3.1343030800542455,3.0071193942340004,0.903306665729177,3.7169454066607637,4.7777999989479385,0.24708461358027528,0.7967123014526003,1.0336381804965242,3.10729138754093,0.5605900716870416,3.0099268076444368,1.6045577296613538,1.6098814882165915,2.187103703343902,3.9388069978250457])                                                                                                                                                                                                                                                                                                                                                                                                                                                                                                                                                                                                                                                                                                                                                                                                                                                                                                                                                                                                                                                                                                                                                                                                                                                                                                                                                                                                                                                                                                                                                                                                                                                                                                                                                                                                                                                                                                                                                                                                                                                                                                                                                                                                                                                |\n",
      "|(1000,[7,15,17,131,168,209,273,372,405,511,519,605,663,691,706,728,768],[3.4831405317257174,3.3549823032402815,0.4934541460481807,4.242512371363365,1.5979597675813142,0.5224697628008618,3.2290721773621187,0.5468814109629277,0.7678064532690673,2.972675983970149,3.4768427151387273,0.6866409587622795,0.6829302773746794,2.905128721697724,7.74675838500518,2.3505163886006804,3.8438203902610457])                                                                                                                                                                                                                                                                                                                                                                                                                                                                                                                                                                                                                                                                                                                                                                                                                                                                                                                                                                                                                                                                                                                                                                                                                                                                                                                                                                                                                                                                                                                                                                                                                                                                                                                                                                                                                                                                                                                                                                                                                                                                                                                                                                                                                                                                                                                                                                                                                                                                                                                                                                                                                                                                                                                                                                                                                                                                                                                                                                                                                         |\n",
      "|(1000,[14,17,19,44,246,270,317,367,372,373,405,412,438,467,485,488,495,526,543,568,605,619,630,631,650,660,663,681,683,756,758,760,761,792,889,891,904,963,989],[3.9936653583770925,0.32896943069878715,4.060512306293767,2.885574325754439,3.6844130929899674,5.582696117963794,3.7423509300961864,3.4214546766567606,2.7344070548146386,0.4923845181579545,1.5356129065381345,4.200033120186465,3.977999241632693,0.6308500121983879,4.218895603720908,0.3764474785772412,0.9416987312133128,1.8091358945806513,2.3193130556034762,0.8141088981446118,0.6866409587622795,2.437977257275672,3.1343030800542455,2.9554897392647383,0.9409062585877902,2.86129354984031,0.6829302773746794,2.689609095494174,1.806613331458354,1.729592295061927,3.7792818691234746,0.7967123014526003,3.0752715763061587,3.8297638558836113,2.3875412010464383,0.2802950358435208,3.0099268076444368,3.2607192628553316,2.15766118735128])                                                                                                                                                                                                                                                                                                                                                                                                                                                                                                                                                                                                                                                                                                                                                                                                                                                                                                                                                                                                                                                                                                                                                                                                                                                                                                                                                                                                                                                                                                                                                                                                                                                                                                                                                                                                                                                                                                                                                                                                                                                                                                                                                                                                                                                                                                                                                                                                                                                                                                       |\n",
      "|(1000,[10,17,157,166,228,256,299,307,326,330,344,373,381,402,403,405,414,467,475,495,508,511,540,627,640,663,683,686,749,756,757,815,823,885,891,904,905,911,970],[2.452361395324314,0.32896943069878715,3.8162667571382176,1.8183157295507546,2.4942773019642046,3.423578270574374,0.9555363909433061,1.4183019371184473,2.4560707778535305,1.1032100617815765,0.6098869809336921,0.984769036315909,4.788403674471972,2.7359736324487676,1.0738645809346654,0.7678064532690673,4.460366177234145,0.6308500121983879,3.127955867377274,0.9416987312133128,3.407132612134567,2.972675983970149,3.0352662416924594,5.695631216301386,3.666365023118264,0.6829302773746794,2.709919997187531,0.520672020000869,1.2444684034645592,0.7412538407408258,3.5217837943071566,1.4889069400363606,4.161950549139255,2.7319202935658966,0.2802950358435208,3.0099268076444368,4.2046649024365035,1.5258844707599364,3.9388069978250457])                                                                                                                                                                                                                                                                                                                                                                                                                                                                                                                                                                                                                                                                                                                                                                                                                                                                                                                                                                                                                                                                                                                                                                                                                                                                                                                                                                                                                                                                                                                                                                                                                                                                                                                                                                                                                                                                                                                                                                                                                                                                                                                                                                                                                                                                                                                                                                                                                                                                                                    |\n",
      "|(1000,[17,47,80,94,157,162,178,273,328,344,354,407,495,501,612,619,634,663,686,690,743,750,760,763,793,797,841,853,883,924],[0.16448471534939357,3.5364308787478915,1.6186546958600445,3.7067354484278656,1.9081333785691088,1.3938201490411852,2.82746469283493,3.2290721773621187,2.391623147904121,0.6098869809336921,2.7217528685488634,3.1683034410773714,0.4708493656066564,3.918376558433326,3.3597574814345985,2.437977257275672,2.98466522839867,0.6829302773746794,0.520672020000869,1.8541300743836455,3.5484013353071124,1.911689436967409,0.7967123014526003,1.0336381804965242,3.5297894881125136,3.91907415176472,4.258061761428226,2.864934772457891,3.311100287147684,1.6045577296613538])                                                                                                                                                                                                                                                                                                                                                                                                                                                                                                                                                                                                                                                                                                                                                                                                                                                                                                                                                                                                                                                                                                                                                                                                                                                                                                                                                                                                                                                                                                                                                                                                                                                                                                                                                                                                                                                                                                                                                                                                                                                                                                                                                                                                                                                                                                                                                                                                                                                                                                                                                                                                                                                                                                                      |\n",
      "|(1000,[17,20,34,38,82,94,133,166,209,213,218,234,245,269,281,339,349,375,377,389,406,415,420,465,467,473,478,488,502,510,546,557,577,617,619,650,653,663,686,691,736,750,753,760,762,763,789,790,793,824,867,871,891,893,913,921,925,943,945,964,988],[1.8093318688433293,4.528588533722144,3.0755717413992123,2.8461435666767083,4.23770235727958,3.7067354484278656,1.275044655979005,3.636631459101509,1.5674092884025854,2.551801146102391,4.139952301744136,3.670710494377766,1.512902621092767,3.8418805254432193,2.6547148394336646,3.145830585225313,2.676833904005451,3.8793972648281536,4.032765778014049,3.771424469979597,2.002603182956311,2.6529426621459895,1.671056521446939,3.2417528685908956,0.9462750182975819,7.635258354796197,3.3665615901341384,1.1293424357317237,3.9567608014416416,2.218585578347693,2.8727473121946843,3.99291376119778,4.162840624854448,3.337665853228821,2.437977257275672,1.8818125171755804,2.1745882025564804,2.7317211094987175,0.520672020000869,2.905128721697724,3.4699668093126137,1.911689436967409,3.71980010457429,1.5934246029052006,3.1604293846464655,2.0672763609930485,3.2144784506712365,2.545950584249736,3.5297894881125136,1.4090721541849682,6.796776043491631,2.614539486735814,1.401475179217604,4.08081345011162,2.697394424716823,1.4931542764513186,2.921721316791144,2.211095857521965,3.6427967120913824,3.052425307454989,2.8715225722987885])                                                                                                                                                                                                                                                                                                                                                                                                                                                                                                                                                                                                                                                                                                                                                                                                                                                                                                                                                                                                                                                                                                                                                                                                                                                                                                                                                                                                                                                                                                                                                                                                                                                                                                                                                                                                                                                                                                                                                                                                       |\n",
      "|(1000,[17,310,344,360,402,405,523,524,739,741,748,756,809,828,891,955,962],[0.6579388613975743,2.210463706290344,0.6098869809336921,5.886634113089035,2.7359736324487676,1.5356129065381345,2.049152533137034,2.015727951527076,2.196905878732332,1.104422056496859,2.7027563678582083,0.24708461358027528,3.592218337041075,6.571925933149775,0.2802950358435208,2.941215111472145,3.211047160059285])                                                                                                                                                                                                                                                                                                                                                                                                                                                                                                                                                                                                                                                                                                                                                                                                                                                                                                                                                                                                                                                                                                                                                                                                                                                                                                                                                                                                                                                                                                                                                                                                                                                                                                                                                                                                                                                                                                                                                                                                                                                                                                                                                                                                                                                                                                                                                                                                                                                                                                                                                                                                                                                                                                                                                                                                                                                                                                                                                                                                                          |\n",
      "+---------------------------------------------------------------------------------------------------------------------------------------------------------------------------------------------------------------------------------------------------------------------------------------------------------------------------------------------------------------------------------------------------------------------------------------------------------------------------------------------------------------------------------------------------------------------------------------------------------------------------------------------------------------------------------------------------------------------------------------------------------------------------------------------------------------------------------------------------------------------------------------------------------------------------------------------------------------------------------------------------------------------------------------------------------------------------------------------------------------------------------------------------------------------------------------------------------------------------------------------------------------------------------------------------------------------------------------------------------------------------------------------------------------------------------------------------------------------------------------------------------------------------------------------------------------------------------------------------------------------------------------------------------------------------------------------------------------------------------------------------------------------------------------------------------------------------------------------------------------------------------------------------------------------------------------------------------------------------------------------------------------------------------------------------------------------------------------------------------------------------------------------------------------------------------------------------------------------------------------------------------------------------------------------------------------------------------------------------------------------------------------------------------------------------------------------------------------------------------------------------------------------------------------------------------------------------------------------------------------------------------------------------------------------------------------------------------------------------------------------------------------------------------------------------------------------------------------------------------------------------------------------------------------------------------------------------------------------------------------------------------------------------------------------------------------------------------------------------------------------------------------------------------------------------------------------------------------------------------------------------------------------------------------------------------------------------------------------------------------------------------------------------------------------------------+\n",
      "only showing top 20 rows"
     ]
    }
   ],
   "source": [
    "from pyspark.ml.feature import IDF\n",
    "\n",
    "# Compute TF-IDF\n",
    "idf = IDF(inputCol=\"rawFeatures\", outputCol=\"tfidfFeatures\")\n",
    "idf_model = idf.fit(df)\n",
    "df = idf_model.transform(df)\n",
    "\n",
    "# Show TF-IDF features\n",
    "df.select(\"tfidfFeatures\").show(truncate=False)\n"
   ]
  },
  {
   "cell_type": "code",
   "execution_count": 28,
   "id": "36557260-a28a-4a4a-8876-2cfcf9d2ae92",
   "metadata": {
    "execution": {
     "iopub.execute_input": "2024-11-20T01:39:48.092402Z",
     "iopub.status.busy": "2024-11-20T01:39:48.092114Z",
     "iopub.status.idle": "2024-11-20T01:39:49.387229Z",
     "shell.execute_reply": "2024-11-20T01:39:49.386487Z",
     "shell.execute_reply.started": "2024-11-20T01:39:48.092372Z"
    },
    "tags": []
   },
   "outputs": [
    {
     "data": {
      "application/vnd.jupyter.widget-view+json": {
       "model_id": "34567e23b55d4b819a44e12699f4b717",
       "version_major": 2,
       "version_minor": 0
      },
      "text/plain": [
       "VBox()"
      ]
     },
     "metadata": {},
     "output_type": "display_data"
    },
    {
     "data": {
      "application/vnd.jupyter.widget-view+json": {
       "model_id": "",
       "version_major": 2,
       "version_minor": 0
      },
      "text/plain": [
       "FloatProgress(value=0.0, bar_style='info', description='Progress:', layout=Layout(height='25px', width='50%'),…"
      ]
     },
     "metadata": {},
     "output_type": "display_data"
    },
    {
     "name": "stdout",
     "output_type": "stream",
     "text": [
      "+-----------------------------------------------------------------------------------------------------------------------------------------------------------------------------------------------------------------------------------------------------------------------------------------------------------------------------------------------------------------------------------------------------------------------------------------------------------------------------------------------------------------------------------------------------------------------------------------------------------------------------------------------------------------------------------------------------------------------------------------------------------------------------------------------------------------------------------------------------------------------------------------------------------------------------------------------------------------------------------------------------------------------------------------------------------------------------------------------------------------------------------------------------------------------------------------------------------------------------------------------------------------------------------------------------------------------------------------------------------------------------------------------------------------------------------------------------------------------------------------------------------------------------------------------------------------------------------------------------------------------------------------------------------------------------------------------------------------------------------------------------------------------------------------------------------------------------------------------------------------------------------------------------------------------------------------------------------------------------------------------------------------------------------------------------------------------------------------------------------------------------------------------------------------------------------------------------------------------------------------------------------------------------------------------------------------------------------------------------------------------------------------------------------------------------------------------------------------------------------------------------------------------------------------------------------------------------------------------------------------------------------------------------------------------------------------------------------------------------------------------------------------------------------------------------------------------------------------------------------------------------------------------------------------------------------------------------------------------------------------------------------------------------------------------------------------------------------------------------------------------------------------------------------------------------------------------------------------------------------------------------------------------------------------------------------------------------------------------------------------------------------------------------------------------------------------------------+---------+\n",
      "|features                                                                                                                                                                                                                                                                                                                                                                                                                                                                                                                                                                                                                                                                                                                                                                                                                                                                                                                                                                                                                                                                                                                                                                                                                                                                                                                                                                                                                                                                                                                                                                                                                                                                                                                                                                                                                                                                                                                                                                                                                                                                                                                                                                                                                                                                                                                                                                                                                                                                                                                                                                                                                                                                                                                                                                                                                                                                                                                                                                                                                                                                                                                                                                                                                                                                                                                                                                                                                                             |sentiment|\n",
      "+-----------------------------------------------------------------------------------------------------------------------------------------------------------------------------------------------------------------------------------------------------------------------------------------------------------------------------------------------------------------------------------------------------------------------------------------------------------------------------------------------------------------------------------------------------------------------------------------------------------------------------------------------------------------------------------------------------------------------------------------------------------------------------------------------------------------------------------------------------------------------------------------------------------------------------------------------------------------------------------------------------------------------------------------------------------------------------------------------------------------------------------------------------------------------------------------------------------------------------------------------------------------------------------------------------------------------------------------------------------------------------------------------------------------------------------------------------------------------------------------------------------------------------------------------------------------------------------------------------------------------------------------------------------------------------------------------------------------------------------------------------------------------------------------------------------------------------------------------------------------------------------------------------------------------------------------------------------------------------------------------------------------------------------------------------------------------------------------------------------------------------------------------------------------------------------------------------------------------------------------------------------------------------------------------------------------------------------------------------------------------------------------------------------------------------------------------------------------------------------------------------------------------------------------------------------------------------------------------------------------------------------------------------------------------------------------------------------------------------------------------------------------------------------------------------------------------------------------------------------------------------------------------------------------------------------------------------------------------------------------------------------------------------------------------------------------------------------------------------------------------------------------------------------------------------------------------------------------------------------------------------------------------------------------------------------------------------------------------------------------------------------------------------------------------------------------------------+---------+\n",
      "|(1003,[17,22,32,61,62,76,90,97,125,137,146,162,178,203,224,239,240,261,268,270,301,310,314,338,344,373,399,403,413,416,426,447,465,467,472,485,488,495,526,546,548,552,559,568,569,574,605,617,629,630,661,670,681,683,686,698,705,728,736,741,749,756,758,760,778,779,805,837,884,891,897,898,903,909,911,924,939,943,944,962,965,973,981,1000,1001,1002],[0.9869082920963614,3.336106398721751,2.9898871723798215,2.2626088348347113,4.528588533722144,1.6252502853046034,4.029643214977256,3.48993249806643,2.3749473314458496,3.802610121614383,3.2896749233240272,1.3938201490411852,2.82746469283493,3.378276529201836,2.7497491408591928,4.340719704328842,1.9367500745219965,1.810236423792257,2.9624360669550307,2.791348058981897,6.05044911279081,2.210463706290344,2.431334816278208,1.2196209292755658,0.6098869809336921,0.984769036315909,3.8753811951732633,3.2215937428039965,3.1929795847651476,3.348256264035775,1.798364099775668,1.527670755126458,3.2417528685908956,0.6308500121983879,4.026530371996765,2.109447801860454,0.7528949571544824,0.4708493656066564,1.8091358945806513,2.8727473121946843,3.3164336331230464,2.181562840802588,2.633267341560781,0.8141088981446118,1.3666023375557892,3.229772457502781,0.6866409587622795,3.337665853228821,3.5281105526817695,3.1343030800542455,3.4935738311750035,4.8550977296992,2.689609095494174,1.806613331458354,0.520672020000869,2.3500803103904118,3.7169454066607637,2.3505163886006804,2.313311206208409,1.104422056496859,2.4889368069291185,1.4825076814816516,3.7792818691234746,0.7967123014526003,3.4781889123355243,2.25862211859089,1.514981034689332,3.0843159551128188,3.458624037487333,1.6817702150611247,2.7393997599971893,2.735332538292821,2.5201246854609,3.264701168569095,1.5258844707599364,1.6045577296613538,2.948062649421123,2.211095857521965,1.4363797634599813,3.211047160059285,4.420407864932542,6.264153940111196,2.698011645186989,110.0,1.0,5.0])                                                                                                                                                                                                                                                                                                                                                                                                                                                                                                                                                                                                                                                                                                                                                                                                                                                                                                                                                                                                                                                                                                                                                                                                                                                                                                                                                                                                                                                                                  |neutral  |\n",
      "|(1003,[11,17,31,34,46,48,53,61,74,76,80,85,95,109,113,145,148,157,171,174,185,209,245,257,261,276,284,285,304,307,328,330,332,338,341,342,344,348,356,362,372,373,381,400,403,405,422,440,442,447,462,467,485,488,495,523,526,527,528,531,536,541,543,546,568,569,576,591,597,605,606,619,621,629,644,645,646,650,653,656,657,663,664,669,682,683,686,690,691,700,704,714,717,721,734,741,749,756,760,763,782,791,797,815,818,824,840,845,855,864,866,883,890,894,907,919,921,922,929,944,955,960,962,990,996,1000,1001,1002],[2.883342458739951,0.9869082920963614,8.062406555392315,3.0755717413992123,3.6338374953787445,1.1350800282376827,3.854884609866426,2.2626088348347113,3.0082414139870557,3.2505005706092067,3.237309391720089,3.059195016899811,13.896622981271609,3.5717942148818183,3.143900082695255,3.8983551785727677,3.7995093439361347,1.9081333785691088,3.8660726173201523,3.408388105080399,2.8246576734479456,2.6123488140043087,7.564513105463835,2.181931278018914,1.810236423792257,4.31388421548431,11.835699888811721,4.930849537839525,3.0764727776517926,1.4183019371184473,7.174869443712363,2.206420123563153,2.8685893020460207,2.4392418585511315,2.9135182459270603,3.2822647375077967,3.6593218856021528,3.0761723420178666,2.117016645332971,3.8431733504455243,1.6406442328887834,1.4771535544738634,2.394201837235986,1.8713587977913393,2.147729161869331,2.3034193598072017,3.892901858991454,2.914795548438184,2.832396016671117,6.110683020505832,3.737683477048691,2.2079750426943576,2.109447801860454,1.882237392886206,1.4125480968199693,2.049152533137034,1.8091358945806513,2.4195819582811136,3.6816575111967205,3.516637584119315,3.7215168431933443,2.8121226903782497,2.3193130556034762,2.8727473121946843,0.8141088981446118,1.3666023375557892,3.244592771103035,3.0416301625050166,3.4125845023421646,0.6866409587622795,2.7540931963438484,4.875954514551344,3.706171273518684,1.7640552763408848,3.3368858219880217,3.279315970166544,2.278310694035792,0.9409062585877902,6.523764607669442,2.5592971654966243,3.4719221057919647,4.097581664248076,2.7922522181755003,4.278733090973719,4.348194378745548,5.419839994375062,1.562016060002607,1.8541300743836455,2.905128721697724,2.1677829751754634,1.7248781148912598,2.045287794027145,3.9488213876694487,4.053303624696824,5.338378894926303,8.835376451974872,1.2444684034645592,0.9883384543211011,0.7967123014526003,1.0336381804965242,3.5152386564022478,3.24637181444719,3.91907415176472,1.4889069400363606,2.820694502390436,1.4090721541849682,2.8167469760753634,4.048526545548545,2.4348358477228027,2.878154059207132,3.459945914745249,3.311100287147684,3.2467027004944415,3.9787397081604166,4.035114115688157,2.9451598897631617,1.4931542764513186,2.3747983556541405,3.6690787289898603,1.4363797634599813,14.706075557360725,2.187103703343902,1.6055235800296426,3.114444271404642,3.408388105080399,212.0,0.5,5.0])                                                                                                                                                                                                                                                                                                                                                                                                                                                                                        |neutral  |\n",
      "|(1003,[13,17,23,46,48,56,60,80,85,125,133,161,162,168,207,209,229,245,263,274,289,301,315,330,337,338,348,349,355,362,373,378,400,405,413,426,430,437,467,475,485,488,492,495,498,510,521,526,545,552,568,583,605,610,631,634,648,650,663,672,673,683,686,693,696,714,730,734,735,736,738,741,749,756,761,770,780,792,805,815,818,824,825,855,866,875,889,891,899,905,908,911,921,924,933,940,948,954,956,960,989,991,994,1000,1001,1002],[3.510589647564004,1.3158777227951486,3.3589600332264697,3.6338374953787445,2.2701600564753655,2.942265531736797,4.258061761428226,3.237309391720089,3.059195016899811,4.749894662891699,2.55008931195801,10.067329753372727,1.3938201490411852,3.1959195351626284,4.1908334232880415,1.0449395256017235,4.897010698830449,4.538707863278301,1.0438982955650595,7.27819579355585,1.6907795587201282,3.025224556395405,6.5800937558997035,2.206420123563153,4.177190646884255,1.2196209292755658,3.0761723420178666,2.676833904005451,2.9292139238624557,3.8431733504455243,2.461922590789772,3.162392093814314,5.614076393374018,3.071225813076269,3.1929795847651476,1.798364099775668,2.7000718024875394,6.742127107915872,0.6308500121983879,3.127955867377274,2.109447801860454,2.2586848714634473,2.8922999707356567,0.9416987312133128,3.989164225496301,2.218585578347693,4.286876472308019,1.8091358945806513,3.5045780687660173,2.181562840802588,2.4423266944338353,2.3559103808318937,6.866409587622795,3.3839815161502202,2.9554897392647383,2.98466522839867,3.8601339657525697,1.8818125171755804,1.3658605547493587,3.5288443084580265,2.84853305407409,3.613226662916708,1.041344040001738,1.9771596128598732,3.7636283285434713,2.045287794027145,4.240585588493665,1.7794596316421012,6.246443514451731,3.4699668093126137,2.3888999994739692,2.208844112993718,8.711278824251915,1.9766769086422022,3.0752715763061587,2.607935066088553,5.170130479485807,3.8297638558836113,1.514981034689332,2.977813880072721,2.820694502390436,1.4090721541849682,2.730856350492877,1.2174179238614014,3.459945914745249,2.961096482025974,2.3875412010464383,0.5605900716870416,1.7591337286280624,4.2046649024365035,4.2111856521369395,1.5258844707599364,4.479462829353956,1.6045577296613538,3.047159057718283,6.330686798897789,3.335327582483008,3.427412141085096,1.6098814882165915,2.187103703343902,2.15766118735128,4.046939243627972,4.218690377791008,184.0,1.0,5.0])                                                                                                                                                                                                                                                                                                                                                                                                                                                                                                                                                                                                                                                                                                                                                                                                                                                                                                                                                                                                                |neutral  |\n",
      "|(1003,[23,45,130,147,205,263,288,310,415,437,543,553,762,763,806,855,1000,1001,1002],[3.3589600332264697,3.6110149280350994,2.7543108952670985,3.1490563944741954,4.241548515867058,1.0438982955650595,2.7089791632964775,2.210463706290344,2.6529426621459895,1.685531776978968,2.3193130556034762,3.3754361945676132,3.1604293846464655,1.0336381804965242,3.85816222669773,1.2174179238614014,16.0,0.5,6.0])                                                                                                                                                                                                                                                                                                                                                                                                                                                                                                                                                                                                                                                                                                                                                                                                                                                                                                                                                                                                                                                                                                                                                                                                                                                                                                                                                                                                                                                                                                                                                                                                                                                                                                                                                                                                                                                                                                                                                                                                                                                                                                                                                                                                                                                                                                                                                                                                                                                                                                                                                                                                                                                                                                                                                                                                                                                                                                                                                                                                                                      |neutral  |\n",
      "|(1003,[17,26,54,168,206,225,330,344,436,467,495,547,605,619,663,672,763,764,784,805,845,883,943,956,1000,1001,1002],[0.16448471534939357,3.2690632256492607,4.208385836962194,1.5979597675813142,2.6375201993143325,3.825859676534614,1.1032100617815765,0.6098869809336921,3.311480298552599,1.2617000243967758,0.9416987312133128,2.9896116523339953,0.6866409587622795,2.437977257275672,0.6829302773746794,3.5288443084580265,1.0336381804965242,3.1455085758842594,3.5412018801642584,1.514981034689332,4.048526545548545,3.311100287147684,2.211095857521965,1.6098814882165915,28.0,1.0,4.0])                                                                                                                                                                                                                                                                                                                                                                                                                                                                                                                                                                                                                                                                                                                                                                                                                                                                                                                                                                                                                                                                                                                                                                                                                                                                                                                                                                                                                                                                                                                                                                                                                                                                                                                                                                                                                                                                                                                                                                                                                                                                                                                                                                                                                                                                                                                                                                                                                                                                                                                                                                                                                                                                                                                                                                                                                                                 |neutral  |\n",
      "|(1003,[6,17,21,36,38,59,66,76,80,96,97,106,108,110,133,135,139,143,147,152,157,160,162,166,168,169,195,196,206,209,213,222,231,235,240,263,278,281,286,287,289,292,293,298,299,314,320,326,330,344,352,354,358,365,369,372,373,391,403,405,407,415,420,424,433,437,467,470,475,485,488,490,492,510,523,524,526,533,566,568,569,581,601,605,616,620,629,633,643,646,650,666,673,676,681,683,686,693,694,697,700,704,705,706,708,711,712,714,716,732,736,738,741,749,750,755,756,760,770,774,775,779,782,785,792,824,831,838,844,855,857,862,867,868,873,883,891,897,899,911,921,944,949,958,960,975,989,1000,1002],[3.9545892479281335,1.6448471534939357,2.8406693176138753,4.360054356036298,5.692287133353417,2.756708716579451,3.2972230144437624,1.6252502853046034,3.237309391720089,2.460605198578321,3.48993249806643,4.205593838871162,3.625477990062654,7.3154606459012825,1.275044655979005,3.2581935534123567,5.942104335291644,12.04482827047313,3.1490563944741954,2.270227664711198,1.9081333785691088,2.5641458775191612,5.575280596164741,5.454947188652264,1.5979597675813142,3.0040403155242275,2.865908008544443,2.9404280197353283,2.6375201993143325,1.5674092884025854,2.551801146102391,2.452039489639899,3.61667192435024,4.250256843758843,1.9367500745219965,1.0438982955650595,4.446080219986668,2.6547148394336646,3.071377607030563,2.5424213764221655,1.6907795587201282,4.694066151869886,3.825224150615543,3.109152430261693,0.9555363909433061,2.431334816278208,2.994029108440718,2.4560707778535305,4.412840247126306,1.8296609428010764,2.574278043085077,2.7217528685488634,3.4630371073149218,3.418912302405984,1.6931877477226114,6.562576931555133,3.4466916271056816,2.37033937085831,1.0738645809346654,1.5356129065381345,3.1683034410773714,2.6529426621459895,1.671056521446939,9.42495758992551,3.3092023932396053,1.685531776978968,2.2079750426943576,2.6924703277752062,3.127955867377274,2.109447801860454,2.2586848714634473,5.794120189937501,2.8922999707356567,2.218585578347693,4.098305066274068,2.015727951527076,1.8091358945806513,3.3786829506664833,2.7368290644940885,0.8141088981446118,2.7332046751115784,2.178375391738843,2.720699682564205,2.746563835049118,2.9898871723798215,3.461711140269818,1.7640552763408848,4.42156060281235,2.509500870667032,4.556621388071584,0.9409062585877902,3.0071193942340004,2.84853305407409,3.2982650788542376,2.689609095494174,2.709919997187531,4.165376160006952,1.9771596128598732,3.3605555660739266,3.0683925301871096,10.838914875877316,3.4497562297825195,3.7169454066607637,3.87337919250259,3.3926004900888964,6.961773511396928,1.8364103125003104,2.045287794027145,3.673982034918381,4.308273111301567,3.4699668093126137,4.7777999989479385,1.104422056496859,3.733405210393678,1.911689436967409,4.408952985957775,4.69460765802523,0.7967123014526003,2.607935066088553,3.6571931217558795,3.0737721008415178,2.25862211859089,3.5152386564022478,3.5851972450091583,1.9148819279418057,1.4090721541849682,3.2848520610727476,3.507810581393738,3.8438203902610457,2.4348358477228027,3.032962093207609,5.451107097599311,3.3983880217458156,3.6734360343588164,2.7863897436624736,3.311100287147684,1.6817702150611247,5.478799519994379,1.7591337286280624,4.577653412279809,1.4931542764513186,1.4363797634599813,3.0955845378823605,2.9109685250148822,2.187103703343902,3.243171811716519,2.15766118735128,262.0,4.0])|neutral  |\n",
      "|(1003,[17,112,133,147,162,168,200,206,209,225,229,232,240,263,267,283,292,298,328,338,344,347,369,372,373,376,403,405,420,426,435,438,442,451,467,474,488,495,551,589,623,629,640,650,660,690,712,734,736,738,751,754,756,760,762,763,772,790,791,802,815,824,834,855,862,871,887,890,891,920,924,981,1000,1001,1002],[0.9869082920963614,1.7387394903579922,1.275044655979005,3.1490563944741954,1.3938201490411852,1.5979597675813142,4.025753672928593,2.6375201993143325,0.5224697628008618,3.825859676534614,2.4485053494152247,5.958395492433072,1.9367500745219965,2.087796591130119,3.000413585366809,3.6921693645613263,2.347033075934943,3.109152430261693,2.391623147904121,4.878483717102263,1.8296609428010764,2.843283698187946,1.6931877477226114,0.5468814109629277,0.984769036315909,3.706171273518684,2.147729161869331,0.7678064532690673,1.671056521446939,3.596728199551336,2.9832955527976095,3.977999241632693,5.664792033342234,2.31903124638645,0.9462750182975819,4.061316488082181,1.1293424357317237,0.4708493656066564,3.0937485520545076,2.6782453368438586,3.1594494727601163,1.7640552763408848,3.666365023118264,0.9409062585877902,2.86129354984031,1.8541300743836455,3.672820625000621,1.7794596316421012,1.1566556031042046,2.3888999994739692,1.9863095434702105,1.8098976704014837,0.49416922716055056,0.7967123014526003,3.1604293846464655,2.0672763609930485,3.925374487620971,2.545950584249736,3.24637181444719,3.6317410585522163,2.977813880072721,1.4090721541849682,2.775878632687171,1.2174179238614014,5.451107097599311,2.614539486735814,2.920178106608338,1.6233513502472208,0.8408851075305623,3.7106936102254946,1.6045577296613538,2.698011645186989,99.0,1.0,5.0])                                                                                                                                                                                                                                                                                                                                                                                                                                                                                                                                                                                                                                                                                                                                                                                                                                                                                                                                                                                                                                                                                                                                                                                                                                                                                                                                                                                                                                                                                                                                                                                                                                                                                                                          |neutral  |\n",
      "|(1003,[0,13,17,22,32,48,67,73,76,80,96,104,116,125,139,151,157,162,168,187,198,209,228,240,261,263,268,281,307,326,341,344,349,358,366,370,371,372,373,385,400,401,403,405,411,420,424,431,437,441,455,467,485,488,490,495,506,516,520,521,532,550,552,567,568,569,575,580,582,583,587,596,605,622,629,650,656,663,669,676,686,699,726,728,738,749,756,760,763,779,781,788,792,796,804,824,855,869,891,903,910,925,927,939,943,962,969,987,994,1000,1001,1002],[3.164686800607183,3.510589647564004,1.3158777227951486,3.336106398721751,2.9898871723798215,1.1350800282376827,2.904369516296206,4.92966844489576,1.6252502853046034,1.6186546958600445,2.460605198578321,3.8707160750831067,2.3870886782240244,2.3749473314458496,2.971052167645822,4.022652895250345,1.9081333785691088,1.3938201490411852,1.5979597675813142,3.890186310818972,2.946742168574291,1.0449395256017235,2.4942773019642046,1.9367500745219965,3.620472847584514,1.0438982955650595,2.9624360669550307,2.6547148394336646,1.4183019371184473,2.4560707778535305,2.9135182459270603,1.8296609428010764,2.676833904005451,3.4630371073149218,3.825224150615543,2.775878632687171,3.278947984881803,3.8281698767404944,0.984769036315909,4.851665910701873,1.8713587977913393,3.281895665719145,3.2215937428039965,1.5356129065381345,2.8888069532120295,1.671056521446939,3.14165252997517,1.826288681040414,3.371063553957936,4.025753672928593,3.2978900554108774,1.5771250304959696,2.109447801860454,0.7528949571544824,2.8970600949687504,0.4708493656066564,5.154383808377687,3.910043176874182,2.865908008544443,4.286876472308019,3.563935628269297,3.5590551891043885,2.181562840802588,3.5364308787478915,0.8141088981446118,1.3666023375557892,3.860792076997119,2.6296089183025884,3.9352545962206777,2.3559103808318937,6.289086339068276,3.01274212481927,1.373281917524559,3.3839815161502202,1.7640552763408848,1.8818125171755804,2.5592971654966243,2.7317211094987175,2.1393665454868596,3.2982650788542376,0.520672020000869,2.7796677824341915,2.863476692005157,2.3505163886006804,7.166699998421908,2.4889368069291185,2.717930749383028,1.5934246029052006,3.1009145414895727,2.25862211859089,3.350624997871326,3.733617250127432,7.659527711767223,3.4639220631248886,1.9915759117286023,1.4090721541849682,1.2174179238614014,3.2045247045116896,1.401475179217604,2.5201246854609,3.937384522478503,2.921721316791144,6.939386888589007,2.948062649421123,2.211095857521965,1.6055235800296426,3.5595421625739583,4.231960714711905,4.218690377791008,169.0,0.3333333333333333,5.0])                                                                                                                                                                                                                                                                                                                                                                                                                                                                                                                                                                                                                                                                                                                                                                                                                                                         |neutral  |\n",
      "|(1003,[19,68,160,225,620,855,1000,1001,1002],[4.060512306293767,3.4931179387577163,2.5641458775191612,3.825859676534614,3.461711140269818,1.2174179238614014,6.0,0.625,6.0])                                                                                                                                                                                                                                                                                                                                                                                                                                                                                                                                                                                                                                                                                                                                                                                                                                                                                                                                                                                                                                                                                                                                                                                                                                                                                                                                                                                                                                                                                                                                                                                                                                                                                                                                                                                                                                                                                                                                                                                                                                                                                                                                                                                                                                                                                                                                                                                                                                                                                                                                                                                                                                                                                                                                                                                                                                                                                                                                                                                                                                                                                                                                                                                                                                                                         |neutral  |\n",
      "|(1003,[4,17,23,59,69,100,106,110,119,122,133,140,145,152,159,160,166,198,209,227,228,240,245,246,261,287,297,307,315,330,338,343,344,353,357,360,372,373,381,403,405,406,411,413,419,420,426,437,445,447,458,467,485,488,494,495,511,523,542,562,568,576,579,581,583,585,590,619,621,630,631,646,650,651,686,690,700,720,738,741,749,750,751,756,760,763,774,779,782,784,800,804,821,824,828,836,855,863,887,890,891,909,911,924,944,953,967,973,989,997,1000,1001,1002],[3.184574761376782,0.4934541460481807,6.7179200664529395,2.756708716579451,12.344538754254119,3.345106655132879,4.205593838871162,3.6577303229506413,3.9936653583770925,3.532630399114117,1.275044655979005,4.084923607973448,3.8983551785727677,2.270227664711198,3.888154478084745,2.5641458775191612,1.8183157295507546,8.840226505722873,1.5674092884025854,3.0497887159173556,2.4942773019642046,1.9367500745219965,4.538707863278301,3.6844130929899674,3.620472847584514,2.5424213764221655,2.7148222517071368,2.8366038742368946,3.2900468779498517,1.1032100617815765,1.2196209292755658,3.5498474671571123,2.4395479237347684,2.895303727687485,3.2874460962497944,2.9433170565445175,2.187525643851711,2.461922590789772,2.394201837235986,1.0738645809346654,0.7678064532690673,2.002603182956311,2.8888069532120295,3.1929795847651476,7.757453597658372,1.671056521446939,1.798364099775668,3.371063553957936,3.74762798719703,1.527670755126458,3.9155910413118997,2.2079750426943576,4.218895603720908,1.1293424357317237,2.836878742120403,0.9416987312133128,2.972675983970149,4.098305066274068,3.238214294480992,3.792106472373854,4.0705444907230595,3.244592771103035,3.2017961898584857,2.178375391738843,4.7118207616637875,2.930771152311062,6.485237303261461,2.437977257275672,7.412342547037368,3.1343030800542455,2.9554897392647383,2.278310694035792,1.8818125171755804,11.578428862000797,2.082688080003476,3.708260148767291,13.006697851052781,6.501308952478382,2.3888999994739692,2.208844112993718,3.733405210393678,1.911689436967409,1.9863095434702105,1.729592295061927,0.7967123014526003,1.0336381804965242,3.6571931217558795,2.25862211859089,3.5152386564022478,14.164807520657034,3.5792181539531005,1.9915759117286023,2.834045210118301,1.4090721541849682,3.2859629665748873,3.491296444629325,3.652253771584204,2.9091875806438874,2.920178106608338,1.6233513502472208,1.1211801433740831,3.264701168569095,1.5258844707599364,1.6045577296613538,2.8727595269199626,6.615373334591519,2.136780134451811,3.132076970055598,2.15766118735128,3.8895085744324738,187.0,0.8333333333333334,5.0])                                                                                                                                                                                                                                                                                                                                                                                                                                                                                                                                                                                                                                                                                                                                                                                                                           |neutral  |\n",
      "|(1003,[17,63,72,76,133,238,242,266,284,289,299,303,316,342,344,400,405,426,437,455,467,490,495,530,635,638,676,678,686,699,803,804,855,862,864,870,931,1000,1001,1002],[0.32896943069878715,3.027510924924981,3.619253903579652,1.6252502853046034,2.55008931195801,3.627561324149508,3.542158818036326,3.5841982439270734,3.945233296270574,1.6907795587201282,0.9555363909433061,3.055068868988639,3.2294222561334167,3.2822647375077967,1.2197739618673842,1.8713587977913393,0.7678064532690673,1.798364099775668,1.685531776978968,3.2978900554108774,0.31542500609919394,2.8970600949687504,0.4708493656066564,4.5506530239062455,3.003481500198146,3.400878683058268,3.2982650788542376,2.6452993128334215,0.520672020000869,2.7796677824341915,3.9331291969083644,1.9915759117286023,1.2174179238614014,2.7255535487996556,2.878154059207132,3.543116672515691,3.22837238727058,40.0,0.7619047619047619,5.0])                                                                                                                                                                                                                                                                                                                                                                                                                                                                                                                                                                                                                                                                                                                                                                                                                                                                                                                                                                                                                                                                                                                                                                                                                                                                                                                                                                                                                                                                                                                                                                                                                                                                                                                                                                                                                                                                                                                                                                                                                                                                                                                                                                                                                                                                                                                                                                                                                                                                                                                                |neutral  |\n",
      "|(1003,[17,30,110,113,130,147,157,227,286,339,372,400,403,405,420,457,485,488,517,562,568,596,620,627,643,650,665,669,683,686,739,749,754,756,792,881,964,1000,1001,1002],[0.32896943069878715,3.419335582835584,3.6577303229506413,3.143900082695255,2.7543108952670985,3.1490563944741954,1.9081333785691088,3.0497887159173556,3.071377607030563,6.291661170450626,0.5468814109629277,1.8713587977913393,1.0738645809346654,0.7678064532690673,1.671056521446939,3.3345493723270025,2.109447801860454,0.7528949571544824,3.301270340319701,3.792106472373854,0.8141088981446118,3.01274212481927,3.461711140269818,2.847815608150693,2.509500870667032,0.9409062585877902,2.948591330374489,2.1393665454868596,0.903306665729177,0.520672020000869,2.196905878732332,1.2444684034645592,1.8098976704014837,0.9883384543211011,1.9148819279418057,3.4494195017582614,3.052425307454989,43.0,0.3333333333333333,5.0])                                                                                                                                                                                                                                                                                                                                                                                                                                                                                                                                                                                                                                                                                                                                                                                                                                                                                                                                                                                                                                                                                                                                                                                                                                                                                                                                                                                                                                                                                                                                                                                                                                                                                                                                                                                                                                                                                                                                                                                                                                                                                                                                                                                                                                                                                                                                                                                                                                                                                                                                |neutral  |\n",
      "|(1003,[10,17,56,65,81,109,125,150,152,165,166,177,188,190,196,209,229,245,259,299,307,326,330,335,353,355,369,373,405,437,443,447,449,457,462,467,481,485,488,495,510,533,551,553,568,574,592,604,610,627,650,663,665,686,698,712,716,720,741,743,756,760,783,786,790,792,806,825,828,832,836,890,891,900,944,947,956,960,962,974,991,1000,1001,1002],[2.452361395324314,0.6579388613975743,2.942265531736797,3.5359550281559953,3.647572523768897,3.5717942148818183,2.3749473314458496,2.0998968480748874,4.540455329422396,2.4285015072838023,1.8183157295507546,2.8449509606915853,2.277769788005024,3.740598081268772,2.9404280197353283,1.0449395256017235,9.794021397660899,1.512902621092767,3.186250084268208,1.9110727818866122,1.4183019371184473,2.4560707778535305,1.1032100617815765,2.354449673589993,2.895303727687485,2.9292139238624557,1.6931877477226114,0.984769036315909,1.5356129065381345,5.056595330936904,3.3225639205204414,1.527670755126458,3.8188910072185207,3.3345493723270025,3.737683477048691,1.2617000243967758,3.737683477048691,2.109447801860454,1.1293424357317237,1.8833974624266256,2.218585578347693,3.3786829506664833,3.0937485520545076,3.3754361945676132,0.8141088981446118,3.229772457502781,3.3080653834525298,4.1478160382043505,3.3839815161502202,2.847815608150693,1.8818125171755804,0.6829302773746794,2.948591330374489,1.562016060002607,2.3500803103904118,1.8364103125003104,3.673982034918381,3.250654476239191,1.104422056496859,3.5484013353071124,0.7412538407408258,0.7967123014526003,2.331934651222358,3.772629289402447,2.545950584249736,1.9148819279418057,3.85816222669773,2.730856350492877,3.2859629665748873,3.5231919146994124,3.491296444629325,1.6233513502472208,0.5605900716870416,4.1575120154432295,1.4363797634599813,3.0952783060624816,1.6098814882165915,4.374207406687804,1.6055235800296426,3.538813534151959,4.046939243627972,109.0,0.6666666666666666,5.0])                                                                                                                                                                                                                                                                                                                                                                                                                                                                                                                                                                                                                                                                                                                                                                                                                                                                                                                                                                                                                                                                                                                                                                                                                                                                                                                                                                                                                                                                                                |neutral  |\n",
      "|(1003,[14,17,20,36,59,162,178,209,221,261,297,298,299,307,328,338,343,344,356,373,375,404,405,420,432,447,488,492,503,568,581,597,605,619,629,630,666,683,705,738,756,760,763,817,891,904,924,956,960,970,1000,1001,1002],[3.9936653583770925,0.4934541460481807,4.528588533722144,4.360054356036298,5.513417433158902,1.3938201490411852,2.82746469283493,0.5224697628008618,3.6074316121968155,1.810236423792257,2.7148222517071368,6.218304860523386,1.9110727818866122,1.4183019371184473,2.391623147904121,1.2196209292755658,3.5498474671571123,1.2197739618673842,2.117016645332971,0.4923845181579545,3.8793972648281536,2.9624360669550307,1.5356129065381345,1.671056521446939,4.165515615303751,1.527670755126458,1.1293424357317237,2.8922999707356567,3.606410161648351,0.8141088981446118,2.178375391738843,3.4125845023421646,0.6866409587622795,2.437977257275672,1.7640552763408848,3.1343030800542455,3.0071193942340004,0.903306665729177,3.7169454066607637,4.7777999989479385,0.24708461358027528,0.7967123014526003,1.0336381804965242,3.10729138754093,0.5605900716870416,3.0099268076444368,1.6045577296613538,1.6098814882165915,2.187103703343902,3.9388069978250457,61.0,1.0,5.0])                                                                                                                                                                                                                                                                                                                                                                                                                                                                                                                                                                                                                                                                                                                                                                                                                                                                                                                                                                                                                                                                                                                                                                                                                                                                                                                                                                                                                                                                                                                                                                                                                                                                                                                                                                                                                                                                                                                                                                                                                                                                                                                                                                                                                                        |neutral  |\n",
      "|(1003,[7,15,17,131,168,209,273,372,405,511,519,605,663,691,706,728,768,1000,1001,1002],[3.4831405317257174,3.3549823032402815,0.4934541460481807,4.242512371363365,1.5979597675813142,0.5224697628008618,3.2290721773621187,0.5468814109629277,0.7678064532690673,2.972675983970149,3.4768427151387273,0.6866409587622795,0.6829302773746794,2.905128721697724,7.74675838500518,2.3505163886006804,3.8438203902610457,20.0,0.75,5.0])                                                                                                                                                                                                                                                                                                                                                                                                                                                                                                                                                                                                                                                                                                                                                                                                                                                                                                                                                                                                                                                                                                                                                                                                                                                                                                                                                                                                                                                                                                                                                                                                                                                                                                                                                                                                                                                                                                                                                                                                                                                                                                                                                                                                                                                                                                                                                                                                                                                                                                                                                                                                                                                                                                                                                                                                                                                                                                                                                                                                                |neutral  |\n",
      "|(1003,[14,17,19,44,246,270,317,367,372,373,405,412,438,467,485,488,495,526,543,568,605,619,630,631,650,660,663,681,683,756,758,760,761,792,889,891,904,963,989,1000,1001,1002],[3.9936653583770925,0.32896943069878715,4.060512306293767,2.885574325754439,3.6844130929899674,5.582696117963794,3.7423509300961864,3.4214546766567606,2.7344070548146386,0.4923845181579545,1.5356129065381345,4.200033120186465,3.977999241632693,0.6308500121983879,4.218895603720908,0.3764474785772412,0.9416987312133128,1.8091358945806513,2.3193130556034762,0.8141088981446118,0.6866409587622795,2.437977257275672,3.1343030800542455,2.9554897392647383,0.9409062585877902,2.86129354984031,0.6829302773746794,2.689609095494174,1.806613331458354,1.729592295061927,3.7792818691234746,0.7967123014526003,3.0752715763061587,3.8297638558836113,2.3875412010464383,0.2802950358435208,3.0099268076444368,3.2607192628553316,2.15766118735128,57.0,0.8,4.0])                                                                                                                                                                                                                                                                                                                                                                                                                                                                                                                                                                                                                                                                                                                                                                                                                                                                                                                                                                                                                                                                                                                                                                                                                                                                                                                                                                                                                                                                                                                                                                                                                                                                                                                                                                                                                                                                                                                                                                                                                                                                                                                                                                                                                                                                                                                                                                                                                                                                                               |neutral  |\n",
      "|(1003,[10,17,157,166,228,256,299,307,326,330,344,373,381,402,403,405,414,467,475,495,508,511,540,627,640,663,683,686,749,756,757,815,823,885,891,904,905,911,970,1000,1001,1002],[2.452361395324314,0.32896943069878715,3.8162667571382176,1.8183157295507546,2.4942773019642046,3.423578270574374,0.9555363909433061,1.4183019371184473,2.4560707778535305,1.1032100617815765,0.6098869809336921,0.984769036315909,4.788403674471972,2.7359736324487676,1.0738645809346654,0.7678064532690673,4.460366177234145,0.6308500121983879,3.127955867377274,0.9416987312133128,3.407132612134567,2.972675983970149,3.0352662416924594,5.695631216301386,3.666365023118264,0.6829302773746794,2.709919997187531,0.520672020000869,1.2444684034645592,0.7412538407408258,3.5217837943071566,1.4889069400363606,4.161950549139255,2.7319202935658966,0.2802950358435208,3.0099268076444368,4.2046649024365035,1.5258844707599364,3.9388069978250457,50.0,0.5,5.0])                                                                                                                                                                                                                                                                                                                                                                                                                                                                                                                                                                                                                                                                                                                                                                                                                                                                                                                                                                                                                                                                                                                                                                                                                                                                                                                                                                                                                                                                                                                                                                                                                                                                                                                                                                                                                                                                                                                                                                                                                                                                                                                                                                                                                                                                                                                                                                                                                                                                                            |neutral  |\n",
      "|(1003,[17,47,80,94,157,162,178,273,328,344,354,407,495,501,612,619,634,663,686,690,743,750,760,763,793,797,841,853,883,924,1000,1002],[0.16448471534939357,3.5364308787478915,1.6186546958600445,3.7067354484278656,1.9081333785691088,1.3938201490411852,2.82746469283493,3.2290721773621187,2.391623147904121,0.6098869809336921,2.7217528685488634,3.1683034410773714,0.4708493656066564,3.918376558433326,3.3597574814345985,2.437977257275672,2.98466522839867,0.6829302773746794,0.520672020000869,1.8541300743836455,3.5484013353071124,1.911689436967409,0.7967123014526003,1.0336381804965242,3.5297894881125136,3.91907415176472,4.258061761428226,2.864934772457891,3.311100287147684,1.6045577296613538,30.0,5.0])                                                                                                                                                                                                                                                                                                                                                                                                                                                                                                                                                                                                                                                                                                                                                                                                                                                                                                                                                                                                                                                                                                                                                                                                                                                                                                                                                                                                                                                                                                                                                                                                                                                                                                                                                                                                                                                                                                                                                                                                                                                                                                                                                                                                                                                                                                                                                                                                                                                                                                                                                                                                                                                                                                                       |neutral  |\n",
      "|(1003,[17,20,34,38,82,94,133,166,209,213,218,234,245,269,281,339,349,375,377,389,406,415,420,465,467,473,478,488,502,510,546,557,577,617,619,650,653,663,686,691,736,750,753,760,762,763,789,790,793,824,867,871,891,893,913,921,925,943,945,964,988,1000,1001,1002],[1.8093318688433293,4.528588533722144,3.0755717413992123,2.8461435666767083,4.23770235727958,3.7067354484278656,1.275044655979005,3.636631459101509,1.5674092884025854,2.551801146102391,4.139952301744136,3.670710494377766,1.512902621092767,3.8418805254432193,2.6547148394336646,3.145830585225313,2.676833904005451,3.8793972648281536,4.032765778014049,3.771424469979597,2.002603182956311,2.6529426621459895,1.671056521446939,3.2417528685908956,0.9462750182975819,7.635258354796197,3.3665615901341384,1.1293424357317237,3.9567608014416416,2.218585578347693,2.8727473121946843,3.99291376119778,4.162840624854448,3.337665853228821,2.437977257275672,1.8818125171755804,2.1745882025564804,2.7317211094987175,0.520672020000869,2.905128721697724,3.4699668093126137,1.911689436967409,3.71980010457429,1.5934246029052006,3.1604293846464655,2.0672763609930485,3.2144784506712365,2.545950584249736,3.5297894881125136,1.4090721541849682,6.796776043491631,2.614539486735814,1.401475179217604,4.08081345011162,2.697394424716823,1.4931542764513186,2.921721316791144,2.211095857521965,3.6427967120913824,3.052425307454989,2.8715225722987885,92.0,1.0,5.0])                                                                                                                                                                                                                                                                                                                                                                                                                                                                                                                                                                                                                                                                                                                                                                                                                                                                                                                                                                                                                                                                                                                                                                                                                                                                                                                                                                                                                                                                                                                                                                                                                                                                                                                                                                                                                                                                                                                                                                                               |neutral  |\n",
      "|(1003,[17,310,344,360,402,405,523,524,739,741,748,756,809,828,891,955,962,1000,1002],[0.6579388613975743,2.210463706290344,0.6098869809336921,5.886634113089035,2.7359736324487676,1.5356129065381345,2.049152533137034,2.015727951527076,2.196905878732332,1.104422056496859,2.7027563678582083,0.24708461358027528,3.592218337041075,6.571925933149775,0.2802950358435208,2.941215111472145,3.211047160059285,24.0,5.0])                                                                                                                                                                                                                                                                                                                                                                                                                                                                                                                                                                                                                                                                                                                                                                                                                                                                                                                                                                                                                                                                                                                                                                                                                                                                                                                                                                                                                                                                                                                                                                                                                                                                                                                                                                                                                                                                                                                                                                                                                                                                                                                                                                                                                                                                                                                                                                                                                                                                                                                                                                                                                                                                                                                                                                                                                                                                                                                                                                                                                           |neutral  |\n",
      "+-----------------------------------------------------------------------------------------------------------------------------------------------------------------------------------------------------------------------------------------------------------------------------------------------------------------------------------------------------------------------------------------------------------------------------------------------------------------------------------------------------------------------------------------------------------------------------------------------------------------------------------------------------------------------------------------------------------------------------------------------------------------------------------------------------------------------------------------------------------------------------------------------------------------------------------------------------------------------------------------------------------------------------------------------------------------------------------------------------------------------------------------------------------------------------------------------------------------------------------------------------------------------------------------------------------------------------------------------------------------------------------------------------------------------------------------------------------------------------------------------------------------------------------------------------------------------------------------------------------------------------------------------------------------------------------------------------------------------------------------------------------------------------------------------------------------------------------------------------------------------------------------------------------------------------------------------------------------------------------------------------------------------------------------------------------------------------------------------------------------------------------------------------------------------------------------------------------------------------------------------------------------------------------------------------------------------------------------------------------------------------------------------------------------------------------------------------------------------------------------------------------------------------------------------------------------------------------------------------------------------------------------------------------------------------------------------------------------------------------------------------------------------------------------------------------------------------------------------------------------------------------------------------------------------------------------------------------------------------------------------------------------------------------------------------------------------------------------------------------------------------------------------------------------------------------------------------------------------------------------------------------------------------------------------------------------------------------------------------------------------------------------------------------------------------------------------------+---------+\n",
      "only showing top 20 rows"
     ]
    }
   ],
   "source": [
    "from pyspark.ml.feature import VectorAssembler\n",
    "\n",
    "# Combine all features into a single vector\n",
    "assembler = VectorAssembler(\n",
    "    inputCols=[\"tfidfFeatures\", \"word_count\", \"helpfulness_ratio\", \"avg_word_length\"],\n",
    "    outputCol=\"features\"\n",
    ")\n",
    "df = assembler.transform(df)\n",
    "\n",
    "# Show the combined features\n",
    "df.select(\"features\", \"sentiment\").show(truncate=False)\n"
   ]
  },
  {
   "cell_type": "code",
   "execution_count": 29,
   "id": "e925ffea-3093-4901-836d-abe46368cdd7",
   "metadata": {
    "execution": {
     "iopub.execute_input": "2024-11-20T01:40:03.511906Z",
     "iopub.status.busy": "2024-11-20T01:40:03.511654Z",
     "iopub.status.idle": "2024-11-20T01:40:06.821079Z",
     "shell.execute_reply": "2024-11-20T01:40:06.820230Z",
     "shell.execute_reply.started": "2024-11-20T01:40:03.511879Z"
    },
    "tags": []
   },
   "outputs": [
    {
     "data": {
      "application/vnd.jupyter.widget-view+json": {
       "model_id": "4c8dbf6fa9b643b1a306315bdc0f7ee4",
       "version_major": 2,
       "version_minor": 0
      },
      "text/plain": [
       "VBox()"
      ]
     },
     "metadata": {},
     "output_type": "display_data"
    },
    {
     "data": {
      "application/vnd.jupyter.widget-view+json": {
       "model_id": "",
       "version_major": 2,
       "version_minor": 0
      },
      "text/plain": [
       "FloatProgress(value=0.0, bar_style='info', description='Progress:', layout=Layout(height='25px', width='50%'),…"
      ]
     },
     "metadata": {},
     "output_type": "display_data"
    },
    {
     "name": "stdout",
     "output_type": "stream",
     "text": [
      "+---------+-----+\n",
      "|sentiment|label|\n",
      "+---------+-----+\n",
      "| positive|  2.0|\n",
      "| negative|  0.0|\n",
      "|  neutral|  1.0|\n",
      "+---------+-----+"
     ]
    }
   ],
   "source": [
    "from pyspark.ml.feature import StringIndexer\n",
    "\n",
    "# Convert sentiment to numerical labels\n",
    "indexer = StringIndexer(inputCol=\"sentiment\", outputCol=\"label\")\n",
    "df = indexer.fit(df).transform(df)\n",
    "\n",
    "# Show label mapping\n",
    "df.select(\"sentiment\", \"label\").distinct().show()\n"
   ]
  },
  {
   "cell_type": "code",
   "execution_count": 30,
   "id": "bb3dd2b1-adf3-4488-9fb2-46e8104c8acd",
   "metadata": {
    "execution": {
     "iopub.execute_input": "2024-11-20T01:40:25.060422Z",
     "iopub.status.busy": "2024-11-20T01:40:25.060175Z",
     "iopub.status.idle": "2024-11-20T01:40:25.117427Z",
     "shell.execute_reply": "2024-11-20T01:40:25.115827Z",
     "shell.execute_reply.started": "2024-11-20T01:40:25.060386Z"
    },
    "tags": []
   },
   "outputs": [
    {
     "data": {
      "application/vnd.jupyter.widget-view+json": {
       "model_id": "4525241213e747209da4ab2c298c5bcc",
       "version_major": 2,
       "version_minor": 0
      },
      "text/plain": [
       "VBox()"
      ]
     },
     "metadata": {},
     "output_type": "display_data"
    },
    {
     "data": {
      "application/vnd.jupyter.widget-view+json": {
       "model_id": "",
       "version_major": 2,
       "version_minor": 0
      },
      "text/plain": [
       "FloatProgress(value=0.0, bar_style='info', description='Progress:', layout=Layout(height='25px', width='50%'),…"
      ]
     },
     "metadata": {},
     "output_type": "display_data"
    }
   ],
   "source": [
    "# Split data into training and testing sets\n",
    "train_data, test_data = df.randomSplit([0.8, 0.2], seed=42)\n"
   ]
  },
  {
   "cell_type": "code",
   "execution_count": 33,
   "id": "5ffbc7e3-5f22-427d-81c9-ee91d2883f2b",
   "metadata": {
    "execution": {
     "iopub.execute_input": "2024-11-20T01:42:31.555415Z",
     "iopub.status.busy": "2024-11-20T01:42:31.555178Z",
     "iopub.status.idle": "2024-11-20T01:42:52.924273Z",
     "shell.execute_reply": "2024-11-20T01:42:52.923405Z",
     "shell.execute_reply.started": "2024-11-20T01:42:31.555390Z"
    },
    "tags": []
   },
   "outputs": [
    {
     "data": {
      "application/vnd.jupyter.widget-view+json": {
       "model_id": "19e11b286f0445a7a0fed8a793519d14",
       "version_major": 2,
       "version_minor": 0
      },
      "text/plain": [
       "VBox()"
      ]
     },
     "metadata": {},
     "output_type": "display_data"
    },
    {
     "data": {
      "application/vnd.jupyter.widget-view+json": {
       "model_id": "",
       "version_major": 2,
       "version_minor": 0
      },
      "text/plain": [
       "FloatProgress(value=0.0, bar_style='info', description='Progress:', layout=Layout(height='25px', width='50%'),…"
      ]
     },
     "metadata": {},
     "output_type": "display_data"
    }
   ],
   "source": [
    "from pyspark.ml.classification import LogisticRegression\n",
    "\n",
    "# Train the logistic regression model\n",
    "lr1 = LogisticRegression(featuresCol=\"features\", labelCol=\"label\", maxIter=20, regParam=0.3, elasticNetParam=0.8)\n",
    "lr_model1 = lr1.fit(train_data)\n"
   ]
  },
  {
   "cell_type": "code",
   "execution_count": 35,
   "id": "fdde2b79-bedf-4233-a6fd-f443b32c21ee",
   "metadata": {
    "execution": {
     "iopub.execute_input": "2024-11-20T01:43:18.962861Z",
     "iopub.status.busy": "2024-11-20T01:43:18.962626Z",
     "iopub.status.idle": "2024-11-20T01:43:28.275783Z",
     "shell.execute_reply": "2024-11-20T01:43:28.275010Z",
     "shell.execute_reply.started": "2024-11-20T01:43:18.962832Z"
    },
    "tags": []
   },
   "outputs": [
    {
     "data": {
      "application/vnd.jupyter.widget-view+json": {
       "model_id": "a742d3d2c61e4aec89202a346ae891df",
       "version_major": 2,
       "version_minor": 0
      },
      "text/plain": [
       "VBox()"
      ]
     },
     "metadata": {},
     "output_type": "display_data"
    },
    {
     "data": {
      "application/vnd.jupyter.widget-view+json": {
       "model_id": "",
       "version_major": 2,
       "version_minor": 0
      },
      "text/plain": [
       "FloatProgress(value=0.0, bar_style='info', description='Progress:', layout=Layout(height='25px', width='50%'),…"
      ]
     },
     "metadata": {},
     "output_type": "display_data"
    },
    {
     "name": "stdout",
     "output_type": "stream",
     "text": [
      "Model Accuracy: 0.33"
     ]
    }
   ],
   "source": [
    "from pyspark.ml.evaluation import MulticlassClassificationEvaluator\n",
    "\n",
    "# Make predictions\n",
    "predictions = lr_model1.transform(test_data)\n",
    "\n",
    "# Evaluate the accuracy\n",
    "evaluator = MulticlassClassificationEvaluator(labelCol=\"label\", predictionCol=\"prediction\", metricName=\"accuracy\")\n",
    "accuracy = evaluator.evaluate(predictions)\n",
    "print(f\"Model Accuracy: {accuracy:.2f}\")\n"
   ]
  }
 ],
 "metadata": {
  "kernelspec": {
   "display_name": "PySpark",
   "language": "python",
   "name": "pysparkkernel"
  },
  "language_info": {
   "codemirror_mode": {
    "name": "python",
    "version": 3
   },
   "file_extension": ".py",
   "mimetype": "text/x-python",
   "name": "pyspark",
   "pygments_lexer": "python3"
  }
 },
 "nbformat": 4,
 "nbformat_minor": 5
}
